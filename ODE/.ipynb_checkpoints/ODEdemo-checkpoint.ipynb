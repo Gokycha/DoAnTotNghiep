{
 "cells": [
  {
   "cell_type": "code",
   "execution_count": 92,
   "id": "1abcc121",
   "metadata": {},
   "outputs": [
    {
     "name": "stdout",
     "output_type": "stream",
     "text": [
      "True\n"
     ]
    }
   ],
   "source": [
    "# Ta sử dụng hàm integrate của lớp ODE trong thư viện Scipy để giải phương trình vi phân f(t,y,y') = 0. Cụ thể như sau:\n",
    "# Phương trình: y' = y với y = y(t) (dễ thấy phương trình có nghiệm là y = e ^ t)\n",
    "# Lưu ý 1: hàm integrate không trả về một phương trình giống như khi giải một phương trình vi phân thông thường  mà chỉ tính gần đúng giá trị của y(t) khi cho trước t = t0.\n",
    "# Lưu ý 2: các con số cần được viết dưới dạng số thực (2 thì viết là 2.0)\n",
    "# Demo các sử dụng hàm:\n",
    "\n",
    "from scipy.integrate import ode #khai báo lớp ODE\n",
    "import numpy as np\n",
    "import matplotlib.pyplot as plt\n",
    "\n",
    "def f(t,y): # khởi tạo phương trình vi phân f theo dạng y' = .... (trong trường hợp này là y' = y)\n",
    "    return y # y' = y\n",
    "\n",
    "y0 = np.array([1.0]) # khởi tạo giá trị ban đầu cho y (mặc định là xét t = 0.0)\n",
    "\n",
    "ode_f = ode(f) # khởi tại đối tượng ode với f\n",
    "ode_f.set_integrator('vode') # khai báo thuật toán được sử dụng\n",
    "# nếu là vode thì sẽ sử dụng phương pháp adam để tính toán\n",
    "ode_f.set_initial_value(y0) # gán giá trị khởi tạo\n",
    "\n",
    "print(ode_f.successful())# kiểm tra hàm chạy ok chưa"
   ]
  },
  {
   "cell_type": "code",
   "execution_count": 71,
   "id": "942ef43c",
   "metadata": {},
   "outputs": [
    {
     "data": {
      "text/plain": [
       "array([20.08554837])"
      ]
     },
     "execution_count": 71,
     "metadata": {},
     "output_type": "execute_result"
    }
   ],
   "source": [
    "t1 = 3 # tính y với t = 3\n",
    "y1 = ode_f.integrate(t0) # Lưu ý: kết quả luôn trả về dang np.array\n",
    "y1"
   ]
  },
  {
   "cell_type": "code",
   "execution_count": 93,
   "id": "213faad2",
   "metadata": {},
   "outputs": [
    {
     "name": "stdout",
     "output_type": "stream",
     "text": [
      "[0.1        0.14949495 0.1989899  0.24848485 0.2979798  0.34747475\n",
      " 0.3969697  0.44646465 0.4959596  0.54545455 0.59494949 0.64444444\n",
      " 0.69393939 0.74343434 0.79292929 0.84242424 0.89191919 0.94141414\n",
      " 0.99090909 1.04040404 1.08989899 1.13939394 1.18888889 1.23838384\n",
      " 1.28787879 1.33737374 1.38686869 1.43636364 1.48585859 1.53535354\n",
      " 1.58484848 1.63434343 1.68383838 1.73333333 1.78282828 1.83232323\n",
      " 1.88181818 1.93131313 1.98080808 2.03030303 2.07979798 2.12929293\n",
      " 2.17878788 2.22828283 2.27777778 2.32727273 2.37676768 2.42626263\n",
      " 2.47575758 2.52525253 2.57474747 2.62424242 2.67373737 2.72323232\n",
      " 2.77272727 2.82222222 2.87171717 2.92121212 2.97070707 3.02020202\n",
      " 3.06969697 3.11919192 3.16868687 3.21818182 3.26767677 3.31717172\n",
      " 3.36666667 3.41616162 3.46565657 3.51515152 3.56464646 3.61414141\n",
      " 3.66363636 3.71313131 3.76262626 3.81212121 3.86161616 3.91111111\n",
      " 3.96060606 4.01010101 4.05959596 4.10909091 4.15858586 4.20808081\n",
      " 4.25757576 4.30707071 4.35656566 4.40606061 4.45555556 4.50505051\n",
      " 4.55454545 4.6040404  4.65353535 4.7030303  4.75252525 4.8020202\n",
      " 4.85151515 4.9010101  4.95050505 5.        ]\n",
      "[  1.10517178   1.1612487    1.2201708    1.28208263   1.34713587\n",
      "   1.41548994   1.48731231   1.56277897   1.6420748    1.72539414\n",
      "   1.81294113   1.90493029   2.00158703   2.10314811   2.20986244\n",
      "   2.32199146   2.4398099    2.56360652   2.69368456   2.83036284\n",
      "   2.97397621   3.1248765    3.28343357   3.4500358    3.6250915\n",
      "   3.80902961   4.0023007    4.20537852   4.41876049   4.64296944\n",
      "   4.87855486   5.12609402   5.38619344   5.65949048   5.94665479\n",
      "   6.24838989   6.56543489   6.8985668    7.24860199   7.61639813\n",
      "   8.00285634   8.40892371   8.83559517   9.28391592   9.7549841\n",
      "  10.24995447  10.77003995  11.31651484  11.89071806  12.49405684\n",
      "  13.12800935  13.79412832  14.49404557  15.22947695  16.00222459\n",
      "  16.81418189  17.66733844  18.56378496  19.50571759  20.49544319\n",
      "  21.53538699  22.62809809  23.776254    24.98266779  26.25029584\n",
      "  27.58224436  28.98177623  30.45231907  31.99747715  33.62103747\n",
      "  35.32697822  37.11947906  39.00293286  40.98195447  43.06139159\n",
      "  45.24633719  47.54214738  49.95444837  52.48915091  55.15246541\n",
      "  57.9509189   60.89136768  63.98101401  67.2274261   70.63856254\n",
      "  74.22278214  77.98886685  81.94604462  86.10401313  90.47295892\n",
      "  95.06358243  99.88713134 104.95542971 110.28089671 115.87658026\n",
      " 121.75619249 127.93414124 134.42556091 141.24634954 148.4132234 ]\n"
     ]
    }
   ],
   "source": [
    "t = np.linspace(0.0,5.0,100)\n",
    "y = np.zeros(len(t))\n",
    "for i in range(len(t)):\n",
    "    y[i] = (ode_f.integrate(t[i]))[0]\n",
    "    assert ode_f.successful()\n",
    "\n",
    "print(t)\n",
    "print(y)"
   ]
  },
  {
   "cell_type": "code",
   "execution_count": 94,
   "id": "1b741a33",
   "metadata": {},
   "outputs": [
    {
     "data": {
      "image/png": "[encoded data removed]",
      "text/plain": [
       "<Figure size 432x288 with 1 Axes>"
      ]
     },
     "metadata": {
      "needs_background": "light"
     },
     "output_type": "display_data"
    }
   ],
   "source": [
    "# biểu diễn trên đồ thị\n",
    "plt.plot(t, y, 'b-')\n",
    "plt.xlabel('t')\n",
    "plt.ylabel('y')\n",
    "plt.show()"
   ]
  },
  {
   "cell_type": "code",
   "execution_count": null,
   "id": "44a2a486",
   "metadata": {},
   "outputs": [],
   "source": []
  }
 ],
 "metadata": {
  "kernelspec": {
   "display_name": "Python 3 (ipykernel)",
   "language": "python",
   "name": "python3"
  },
  "language_info": {
   "codemirror_mode": {
    "name": "ipython",
    "version": 3
   },
   "file_extension": ".py",
   "mimetype": "text/x-python",
   "name": "python",
   "nbconvert_exporter": "python",
   "pygments_lexer": "ipython3",
   "version": "3.9.12"
  }
 },
 "nbformat": 4,
 "nbformat_minor": 5
}
