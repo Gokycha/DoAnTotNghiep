{
 "cells": [
  {
   "cell_type": "markdown",
   "id": "9f3eb7d7",
   "metadata": {},
   "source": [
    "Demo sử dụng mạng nơ ron tế bào để tìm biên của ảnh, dùng ODE trong thư viện Scipy để giải phương trình trạng thái."
   ]
  },
  {
   "cell_type": "code",
   "execution_count": 44,
   "id": "93094ca4",
   "metadata": {},
   "outputs": [],
   "source": [
    "import scipy.signal as sig\n",
    "import scipy.integrate as sint\n",
    "from PIL import Image as img\n",
    "import numpy as np\n",
    "\n",
    "def hamTrangThai(t, x, Ib, Bu, tempA, n, m):\n",
    "    x = x.reshape(n, m)\n",
    "    dx = -x + Ib + Bu + sig.convolve2d(hamDauRa(x), tempA, 'same')\n",
    "    return dx.reshape(n*m)\n",
    "\n",
    "def hamDauRa(x):\n",
    "    return 0.5 * (abs(x + 1) - abs(x - 1))"
   ]
  },
  {
   "cell_type": "code",
   "execution_count": 45,
   "id": "6a53187d",
   "metadata": {},
   "outputs": [],
   "source": [
    "def xuLyAnh(inputLocation, outputLocation, tempA, tempB, initialCondition, Ib, t):\n",
    "    \"\"\"\n",
    "    inputLocation: địa chỉ ảnh đầu vào\n",
    "    outputLocation: địa chỉ ảnh đầu ra\n",
    "    tempA: ma trận phản hồi\n",
    "    tempB: ma trận điều khiển\n",
    "    initialCondition: float\n",
    "    \"\"\"\n",
    "    gray = img.open(inputLocation).convert('RGB')\n",
    "    m,n = gray.size\n",
    "    u = np.array(gray)\n",
    "    u = u[:, :, 0]\n",
    "    z0 = u * initialCondition\n",
    "    Bu = sig.convolve2d(u, tempB, 'same')\n",
    "    z0 = z0.flatten()\n",
    "    tFinal = t.max()\n",
    "    tInitial = t.min()\n",
    "    if t.size > 1:\n",
    "        dt = t[1] - t[0]\n",
    "    else:\n",
    "        dt = t[0]\n",
    "\n",
    "    ode = sint.ode(hamTrangThai) \\\n",
    "        .set_integrator('vode') \\\n",
    "        .set_initial_value(z0, tInitial) \\\n",
    "        .set_f_params(Ib, Bu, tempA, n, m)\n",
    "    while ode.successful() and ode.t < tFinal + 0.1:\n",
    "        ode_result = ode.integrate(ode.t + dt)\n",
    "\n",
    "    z = hamDauRa(ode_result)\n",
    "    out_l = z[:].reshape(n, m)\n",
    "    out_l = out_l / (255.0)\n",
    "    out_l = np.uint8(np.round(out_l * 255))\n",
    "\n",
    "    out = img.fromarray(out_l).convert('RGB')\n",
    "    out.save(outputLocation)\n",
    "    print('done')\n",
    "    return out"
   ]
  },
  {
   "cell_type": "code",
   "execution_count": 46,
   "id": "1833cc07",
   "metadata": {},
   "outputs": [
    {
     "name": "stdout",
     "output_type": "stream",
     "text": [
      "done\n"
     ]
    },
    {
     "data": {
      "image/png": "[encoded data removed]",
      "text/plain": [
       "<PIL.Image.Image image mode=RGB size=256x256 at 0x188486F6820>"
      ]
     },
     "execution_count": 46,
     "metadata": {},
     "output_type": "execute_result"
    }
   ],
   "source": [
    "output = xuLyAnh(\n",
    "    inputLocation = 'images/input1.bmp',\n",
    "    outputLocation = 'images/output1.png',\n",
    "    tempA = [[0,0,0],\n",
    "             [0,0,0],\n",
    "             [0,0,0]],\n",
    "    tempB = [[-1,-1,-1],\n",
    "             [-1,8,-1],\n",
    "             [-1,-1,-1]],\n",
    "    initialCondition = 0.0,\n",
    "    Ib = -1.0,\n",
    "    t = np.linspace(0.0,10.0,2)\n",
    ")\n",
    "output"
   ]
  },
  {
   "cell_type": "code",
   "execution_count": null,
   "id": "d68fed92",
   "metadata": {},
   "outputs": [],
   "source": []
  }
 ],
 "metadata": {
  "kernelspec": {
   "display_name": "Python 3 (ipykernel)",
   "language": "python",
   "name": "python3"
  },
  "language_info": {
   "codemirror_mode": {
    "name": "ipython",
    "version": 3
   },
   "file_extension": ".py",
   "mimetype": "text/x-python",
   "name": "python",
   "nbconvert_exporter": "python",
   "pygments_lexer": "ipython3",
   "version": "3.9.12"
  }
 },
 "nbformat": 4,
 "nbformat_minor": 5
}
