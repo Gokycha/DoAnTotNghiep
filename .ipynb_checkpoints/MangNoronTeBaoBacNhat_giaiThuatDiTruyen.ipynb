Bộ trọng số ban đầu: 
A = [[0. 0. 0.]
 [0. 2. 0.]
 [0. 0. 0.]]
B = [[0. 0. 0.]
 [0. 0. 0.]
 [0. 0. 0.]]
I = -1.0
Lần chạy thứ 1
Xét trọng số thứ 1 của ma trận A:
Tập cha mẹ: [[-8.76, 3.72], [-9.13, -5.76], [3.56, 3.97], [2.84, -5.34], [0.73, 9.28], [-1.1, -4.46], [-7.73, 8.54], [-0.69, -9.77], [-6.69, -9.61], [-7.88, -8.09], [-8.75, 7.29], [-1.9, 5.95], [8.56, 7.18], [7.38, -9.28], [-1.31, -0.33], [-6.72, -4.06], [-8.9, 8.61], [-1.42, -1.34], [3.53, -1.59], [-4.19, 4.04]]
Tập con: [-9.72, -10.76, 3.97, 2.34, 0.28, -2.46, -8.54, -1.77, -7.61, -8.09, -9.29, -2.95, 8.18, 7.28, -2.33, -7.06, -9.61, -2.34, 3.59, -5.04]
Xét từng cặp cha mẹ:
Sai số ứng với con = -9.72 là: E = 56.0
Sai số ứng với con = -10.76 là: E = 56.0
Sai số ứng với con = 3.97 là: E = 38.0
Sai số ứng với con = 2.34 là: E = 34.0
Sai số ứng với con = 0.28 là: E = 34.0
Sai số ứng với con = -2.46 là: E = 34.0
Sai số ứng với con = -8.54 là: E = 56.0
Sai số ứng với con = -1.77 là: E = 34.0
Sai số ứng với con = -7.61 là: E = 56.0
Sai số ứng với con = -8.09 là: E = 56.0
Sai số ứng với con = -9.29 là: E = 56.0
Sai số ứng với con = -2.95 là: E = 40.0
Sai số ứng với con = 8.18 là: E = 70.0
Sai số ứng với con = 7.28 là: E = 70.0
Sai số ứng với con = -2.33 là: E = 34.0
Sai số ứng với con = -7.06 là: E = 56.0
Sai số ứng với con = -9.61 là: E = 56.0
Sai số ứng với con = -2.34 là: E = 34.0
Sai số ứng với con = 3.59 là: E = 36.0
Sai số ứng với con = -5.04 là: E = 56.0
E = 34.0
Lần chạy thứ 1
Xét trọng số thứ 2 của ma trận A:
Tập cha mẹ: [[4.99, 5.8], [7.13, 8.03], [7.59, -1.73], [-2.43, 2.84], [-9.51, -8.3], [2.78, -2.48], [-3.84, -1.41], [-3.84, -3.7], [-6.02, -8.52], [-6.03, -0.49], [-8.24, 0.51], [-6.32, -6.88], [-4.4, 8.29], [5.26, 9.88], [-1.05, 3.5], [-5.38, 4.7], [-4.67, -8.73], [-1.28, 3.79], [-0.58, 9.16], [5.74, 1.82]]
Tập con: [4.8, 7.03, 7.73, -3.84, -10.3, 2.48, -4.41, -4.7, -7.52, -7.49, -9.51, -7.88, -5.29, 5.88, -2.5, -6.7, -5.73, -2.79, -1.16, 5.82]
Xét từng cặp cha mẹ:
Sai số ứng với con = 4.8 là: E = 52.0
Sai số ứng với con = 7.03 là: E = 58.0
Sai số ứng với con = 7.73 là: E = 58.0
Sai số ứng với con = -3.84 là: E = 56.0
Sai số ứng với con = -10.3 là: E = 66.0
Sai số ứng với con = 2.48 là: E = 44.0
Sai số ứng với con = -4.41 là: E = 56.0
Sai số ứng với con = -4.7 là: E = 54.0
Sai số ứng với con = -7.52 là: E = 62.0
Sai số ứng với con = -7.49 là: E = 62.0
Sai số ứng với con = -9.51 là: E = 66.0
Sai số ứng với con = -7.88 là: E = 66.0
Sai số ứng với con = -5.29 là: E = 56.0
Sai số ứng với con = 5.88 là: E = 52.0
Sai số ứng với con = -2.5 là: E = 48.0
Sai số ứng với con = -6.7 là: E = 60.0
Sai số ứng với con = -5.73 là: E = 56.0
Sai số ứng với con = -2.79 là: E = 50.0
Sai số ứng với con = -1.16 là: E = 36.0
Sai số ứng với con = 5.82 là: E = 52.0
E = 34.0
Lần chạy thứ 1
Xét trọng số thứ 3 của ma trận A:
Tập cha mẹ: [[3.38, -1.73], [-0.73, 3.8], [-1.69, -4.89], [6.09, -2.49], [7.01, -8.78], [9.8, -0.52], [0.01, -6.88], [-3.72, -1.17], [-3.66, -5.44], [4.76, -7.8], [3.58, -6.16], [-1.34, 1.82], [-2.95, 1.7], [-3.8, -7.33], [2.55, 6.24], [-3.3, -7.94], [5.8, -5.02], [4.93, 0.79], [-0.05, 9.94], [-7.93, 3.31]]
Tập con: [3.73, -1.8, -2.89, 6.49, 7.78, 9.52, 0.88, -4.17, -4.44, 4.8, 3.16, -2.82, -3.7, -4.33, 2.24, -4.94, 5.02, 4.79, -1.94, -8.31]
Xét từng cặp cha mẹ:
Sai số ứng với con = 3.73 là: E = 68.0
Sai số ứng với con = -1.8 là: E = 30.0
Sai số ứng với con = -2.89 là: E = 28.0
Sai số ứng với con = 6.49 là: E = 70.0
Sai số ứng với con = 7.78 là: E = 74.0
Sai số ứng với con = 9.52 là: E = 74.0
Sai số ứng với con = 0.88 là: E = 36.0
Sai số ứng với con = -4.17 là: E = 34.0
Sai số ứng với con = -4.44 là: E = 36.0
Sai số ứng với con = 4.8 là: E = 70.0
Sai số ứng với con = 3.16 là: E = 60.0
Sai số ứng với con = -2.82 là: E = 28.0
Sai số ứng với con = -3.7 là: E = 32.0
Sai số ứng với con = -4.33 là: E = 36.0
Sai số ứng với con = 2.24 là: E = 48.0
Sai số ứng với con = -4.94 là: E = 36.0
Sai số ứng với con = 5.02 là: E = 70.0
Sai số ứng với con = 4.79 là: E = 70.0
Sai số ứng với con = -1.94 là: E = 30.0
Sai số ứng với con = -8.31 là: E = 46.0
E = 28.0
Lần chạy thứ 1
Xét trọng số thứ 4 của ma trận A:
Tập cha mẹ: [[-4.35, -3.73], [-3.71, 5.95], [1.68, -8.27], [-7.68, -6.81], [-4.51, -6.78], [2.29, -0.25], [-0.03, -2.3], [8.93, 7.12], [-0.76, -2.51], [-5.84, 4.54], [4.07, 9.0], [-7.79, 8.88], [-1.93, 5.32], [3.03, 7.39], [-3.19, 7.43], [1.85, -0.59], [3.22, -5.71], [4.59, -0.64], [-0.84, -7.33], [-4.25, 4.2]]
Tập con: [-5.73, -4.95, 1.27, -8.81, -5.78, 2.25, -1.3, 8.12, -1.51, -6.54, 4.0, -8.88, -2.32, 3.39, -4.43, 1.59, 3.71, 4.64, -1.33, -5.2]
Xét từng cặp cha mẹ:
Sai số ứng với con = -5.73 là: E = 48.0
Sai số ứng với con = -4.95 là: E = 48.0
Sai số ứng với con = 1.27 là: E = 28.0
Sai số ứng với con = -8.81 là: E = 54.0
Sai số ứng với con = -5.78 là: E = 48.0
Sai số ứng với con = 2.25 là: E = 34.0
Sai số ứng với con = -1.3 là: E = 34.0
Sai số ứng với con = 8.12 là: E = 64.0
Sai số ứng với con = -1.51 là: E = 38.0
Sai số ứng với con = -6.54 là: E = 54.0
Sai số ứng với con = 4.0 là: E = 48.0
Sai số ứng với con = -8.88 là: E = 54.0
Sai số ứng với con = -2.32 là: E = 40.0
Sai số ứng với con = 3.39 là: E = 44.0
Sai số ứng với con = -4.43 là: E = 50.0
Sai số ứng với con = 1.59 là: E = 30.0
Sai số ứng với con = 3.71 là: E = 44.0
Sai số ứng với con = 4.64 là: E = 58.0
Sai số ứng với con = -1.33 là: E = 36.0
Sai số ứng với con = -5.2 là: E = 50.0
E = 28.0
Lần chạy thứ 1
Xét trọng số thứ 5 của ma trận A:
Tập cha mẹ: [[9.78, -5.8], [-4.94, -2.32], [-4.53, 7.7], [0.82, -5.33], [-6.32, 9.94], [0.54, -5.86], [2.73, -9.96], [-2.33, -8.13], [-6.33, 5.66], [-8.09, -8.32], [6.94, 9.85], [3.49, -2.31], [7.4, -4.44], [9.51, -8.29], [3.41, 6.3], [-4.63, 7.3], [9.37, -6.21], [4.31, 5.41], [1.7, 3.64], [5.94, 6.07]]
Tập con: [9.8, -5.32, -5.7, 0.33, -7.94, 0.86, 2.96, -3.13, -7.66, -9.32, 6.85, 3.31, 7.44, 9.29, 3.3, -5.3, 9.21, 4.41, 1.64, 5.07]
Xét từng cặp cha mẹ:
Sai số ứng với con = 9.8 là: E = 36.0
Sai số ứng với con = -5.32 là: E = 40.0
Sai số ứng với con = -5.7 là: E = 42.0
Sai số ứng với con = 0.33 là: E = 36.0
Sai số ứng với con = -7.94 là: E = 44.0
Sai số ứng với con = 0.86 là: E = 32.0
Sai số ứng với con = 2.96 là: E = 26.0
Sai số ứng với con = -3.13 là: E = 38.0
Sai số ứng với con = -7.66 là: E = 44.0
Sai số ứng với con = -9.32 là: E = 48.0
Sai số ứng với con = 6.85 là: E = 40.0
Sai số ứng với con = 3.31 là: E = 26.0
Sai số ứng với con = 7.44 là: E = 38.0
Sai số ứng với con = 9.29 là: E = 36.0
Sai số ứng với con = 3.3 là: E = 26.0
Sai số ứng với con = -5.3 là: E = 40.0
Sai số ứng với con = 9.21 là: E = 36.0
Sai số ứng với con = 4.41 là: E = 32.0
Sai số ứng với con = 1.64 là: E = 30.0
Sai số ứng với con = 5.07 là: E = 36.0
E = 26.0
Lần chạy thứ 1
Xét trọng số thứ 1 của ma trận B:
Tập cha mẹ: [[-8.64, -9.69], [0.55, -6.3], [-4.74, 0.64], [9.81, -1.94], [8.54, 6.72], [6.68, 0.56], [4.98, 9.24], [-1.59, 9.95], [-9.51, -4.2], [-8.76, 3.29], [3.33, 1.74], [7.6, -9.79], [7.72, -4.7], [1.49, 0.23], [-4.11, 4.42], [9.1, 8.29], [2.64, -3.73], [-1.64, -0.02], [-3.32, -0.83], [3.56, 5.95]]
Tập con: [-9.69, 0.3, -5.64, 9.94, 8.72, 6.56, 4.24, -2.95, -10.2, -9.29, 3.74, 7.79, 7.7, 1.23, -5.42, 9.29, 2.73, -2.02, -4.83, 3.95]
Xét từng cặp cha mẹ:
Sai số ứng với con = -9.69 là: E = 62.0
Sai số ứng với con = 0.3 là: E = 28.0
Sai số ứng với con = -5.64 là: E = 42.0
Sai số ứng với con = 9.94 là: E = 72.0
Sai số ứng với con = 8.72 là: E = 62.0
Sai số ứng với con = 6.56 là: E = 48.0
Sai số ứng với con = 4.24 là: E = 46.0
Sai số ứng với con = -2.95 là: E = 42.0
Sai số ứng với con = -10.2 là: E = 64.0
Sai số ứng với con = -9.29 là: E = 62.0
Sai số ứng với con = 3.74 là: E = 42.0
Sai số ứng với con = 7.79 là: E = 58.0
Sai số ứng với con = 7.7 là: E = 58.0
Sai số ứng với con = 1.23 là: E = 38.0
Sai số ứng với con = -5.42 là: E = 42.0
Sai số ứng với con = 9.29 là: E = 70.0
Sai số ứng với con = 2.73 là: E = 34.0
Sai số ứng với con = -2.02 là: E = 40.0
Sai số ứng với con = -4.83 là: E = 42.0
Sai số ứng với con = 3.95 là: E = 42.0
E = 26.0
Lần chạy thứ 1
Xét trọng số thứ 2 của ma trận B:
Tập cha mẹ: [[0.48, -5.64], [4.36, 8.83], [5.78, -2.85], [-2.91, 8.65], [-1.48, -2.58], [5.83, 6.98], [-6.2, 0.67], [-1.59, -9.85], [3.04, -1.7], [-1.88, 6.1], [8.47, -9.92], [-6.27, 2.63], [-2.72, 1.73], [6.47, -6.67], [8.46, -1.27], [1.95, -1.76], [-6.74, 7.73], [-2.59, -8.18], [-3.54, 3.62], [-4.59, 9.9]]
Tập con: [0.64, 4.83, 5.85, -3.65, -2.58, 5.98, -7.67, -2.85, 3.7, -2.1, 8.92, -7.63, -3.73, 6.67, 8.27, 1.76, -7.73, -3.18, -4.62, -5.9]
Xét từng cặp cha mẹ:
Sai số ứng với con = 0.64 là: E = 40.0
Sai số ứng với con = 4.83 là: E = 44.0
Sai số ứng với con = 5.85 là: E = 46.0
Sai số ứng với con = -3.65 là: E = 54.0
Sai số ứng với con = -2.58 là: E = 48.0
Sai số ứng với con = 5.98 là: E = 46.0
Sai số ứng với con = -7.67 là: E = 72.0
Sai số ứng với con = -2.85 là: E = 50.0
Sai số ứng với con = 3.7 là: E = 42.0
Sai số ứng với con = -2.1 là: E = 42.0
Sai số ứng với con = 8.92 là: E = 56.0
Sai số ứng với con = -7.63 là: E = 72.0
Sai số ứng với con = -3.73 là: E = 56.0
Sai số ứng với con = 6.67 là: E = 48.0
Sai số ứng với con = 8.27 là: E = 54.0
Sai số ứng với con = 1.76 là: E = 38.0
Sai số ứng với con = -7.73 là: E = 72.0
Sai số ứng với con = -3.18 là: E = 50.0
Sai số ứng với con = -4.62 là: E = 60.0
Sai số ứng với con = -5.9 là: E = 66.0
E = 26.0
Lần chạy thứ 1
Xét trọng số thứ 3 của ma trận B:
Tập cha mẹ: [[-0.19, -1.56], [1.74, -2.43], [6.16, -6.21], [4.43, 3.29], [7.84, -1.69], [1.13, -1.41], [8.45, -0.09], [-4.17, -7.37], [-6.6, -4.35], [3.5, 5.55], [-5.83, 1.93], [-2.39, 0.64], [7.72, 9.87], [0.04, 7.24], [-6.22, -6.05], [3.58, -8.25], [0.73, -7.66], [9.1, -9.15], [-0.49, -6.86], [5.45, -3.59]]
Tập con: [-1.56, 1.43, 6.21, 4.29, 7.69, 1.41, 8.09, -5.37, -7.35, 3.55, -6.93, -3.64, 7.87, 0.24, -7.05, 3.25, 0.66, 9.15, -1.86, 5.59]
Xét từng cặp cha mẹ:
Sai số ứng với con = -1.56 là: E = 26.0
Sai số ứng với con = 1.43 là: E = 40.0
Sai số ứng với con = 6.21 là: E = 64.0
Sai số ứng với con = 4.29 là: E = 40.0
Sai số ứng với con = 7.69 là: E = 78.0
Sai số ứng với con = 1.41 là: E = 40.0
Sai số ứng với con = 8.09 là: E = 78.0
Sai số ứng với con = -5.37 là: E = 36.0
Sai số ứng với con = -7.35 là: E = 44.0
Sai số ứng với con = 3.55 là: E = 36.0
Sai số ứng với con = -6.93 là: E = 42.0
Sai số ứng với con = -3.64 là: E = 36.0
Sai số ứng với con = 7.87 là: E = 78.0
Sai số ứng với con = 0.24 là: E = 28.0
Sai số ứng với con = -7.05 là: E = 42.0
Sai số ứng với con = 3.25 là: E = 36.0
Sai số ứng với con = 0.66 là: E = 38.0
Sai số ứng với con = 9.15 là: E = 84.0
Sai số ứng với con = -1.86 là: E = 26.0
Sai số ứng với con = 5.59 là: E = 54.0
E = 26.0
Lần chạy thứ 1
Xét trọng số thứ 4 của ma trận B:
Tập cha mẹ: [[-4.95, 7.62], [-7.78, -7.06], [4.37, -4.49], [2.54, 7.68], [-2.21, -1.82], [-8.66, -8.61], [-3.93, -6.26], [-7.52, -0.43], [-7.43, 9.39], [5.83, -6.31], [-2.07, -4.48], [-1.61, 8.79], [7.63, -8.5], [1.16, 7.47], [2.36, -1.2], [7.97, -7.11], [7.12, -3.42], [1.49, 7.81], [-4.8, -6.71], [4.39, -3.16]]
Tập con: [-5.62, -8.06, 4.49, 2.68, -3.82, -9.61, -4.26, -8.43, -8.39, 5.31, -3.48, -2.79, 7.5, 1.47, 2.2, 7.11, 7.42, 1.81, -5.71, 4.16]
Xét từng cặp cha mẹ:
Sai số ứng với con = -5.62 là: E = 56.0
Sai số ứng với con = -8.06 là: E = 72.0
Sai số ứng với con = 4.49 là: E = 54.0
Sai số ứng với con = 2.68 là: E = 44.0
Sai số ứng với con = -3.82 là: E = 48.0
Sai số ứng với con = -9.61 là: E = 72.0
Sai số ứng với con = -4.26 là: E = 50.0
Sai số ứng với con = -8.43 là: E = 72.0
Sai số ứng với con = -8.39 là: E = 72.0
Sai số ứng với con = 5.31 là: E = 56.0
Sai số ứng với con = -3.48 là: E = 46.0
Sai số ứng với con = -2.79 là: E = 40.0
Sai số ứng với con = 7.5 là: E = 66.0
Sai số ứng với con = 1.47 là: E = 26.0
Sai số ứng với con = 2.2 là: E = 30.0
Sai số ứng với con = 7.11 là: E = 66.0
Sai số ứng với con = 7.42 là: E = 66.0
Sai số ứng với con = 1.81 là: E = 30.0
Sai số ứng với con = -5.71 là: E = 58.0
Sai số ứng với con = 4.16 là: E = 54.0
E = 26.0
Lần chạy thứ 1
Xét trọng số thứ 5 của ma trận B:
Tập cha mẹ: [[-3.11, 1.1], [-5.49, 7.81], [3.83, -0.14], [2.34, -2.59], [-7.8, -1.96], [-5.1, 0.12], [0.34, 7.2], [4.09, -7.19], [4.69, -7.23], [5.55, -4.25], [7.74, -9.63], [8.92, -1.54], [-0.07, 4.32], [1.87, -5.23], [7.7, -1.02], [5.99, -6.42], [-9.34, 6.91], [2.1, -9.95], [-3.56, -7.22], [8.37, -0.16]]
Tập con: [-4.1, -6.81, 3.14, 2.59, -8.96, -6.12, 0.2, 4.19, 4.23, 5.25, 7.63, 8.54, -1.32, 1.23, 7.02, 5.42, -10.91, 2.95, -4.22, 8.16]
Xét từng cặp cha mẹ:
Sai số ứng với con = -4.1 là: E = 52.0
Sai số ứng với con = -6.81 là: E = 82.0
Sai số ứng với con = 3.14 là: E = 40.0
Sai số ứng với con = 2.59 là: E = 40.0
Sai số ứng với con = -8.96 là: E = 88.0
Sai số ứng với con = -6.12 là: E = 80.0
Sai số ứng với con = 0.2 là: E = 26.0
Sai số ứng với con = 4.19 là: E = 38.0
Sai số ứng với con = 4.23 là: E = 38.0
Sai số ứng với con = 5.25 là: E = 38.0
Sai số ứng với con = 7.63 là: E = 36.0
Sai số ứng với con = 8.54 là: E = 36.0
Sai số ứng với con = -1.32 là: E = 34.0
Sai số ứng với con = 1.23 là: E = 26.0
Sai số ứng với con = 7.02 là: E = 36.0
Sai số ứng với con = 5.42 là: E = 38.0
Sai số ứng với con = -10.91 là: E = 112.0
Sai số ứng với con = 2.95 là: E = 40.0
Sai số ứng với con = -4.22 là: E = 56.0
Sai số ứng với con = 8.16 là: E = 36.0
E = 26.0
Lần chạy thứ 1
Xét trọng số I
Tập cha mẹ: [[-1.26, 7.31], [0.88, -6.78], [2.92, -1.0], [8.4, 2.01], [-8.44, 4.04], [1.85, 2.78], [8.86, 2.9], [-9.14, -1.83], [-0.71, -4.89], [-3.97, -6.84], [-5.65, -0.41], [7.07, -2.66], [7.36, -4.07], [-1.49, 9.8], [7.26, 9.83], [0.35, -8.49], [-5.91, 9.98], [4.7, -5.55], [-4.64, -6.22], [6.07, -5.42]]
Tập con: [-2.31, 0.78, 2.0, 8.01, -9.04, 1.78, 8.9, -10.83, -1.89, -4.84, -6.41, 7.66, 7.07, -2.8, 7.83, 0.49, -6.98, 4.55, -5.22, 6.42]
Xét từng cặp cha mẹ:
Sai số ứng với con = -2.31 là: E = 40.0
Sai số ứng với con = 0.78 là: E = 26.0
Sai số ứng với con = 2.0 là: E = 26.0
Sai số ứng với con = 8.01 là: E = 36.0
Sai số ứng với con = -9.04 là: E = 68.0
Sai số ứng với con = 1.78 là: E = 24.0
Sai số ứng với con = 8.9 là: E = 40.0
Sai số ứng với con = -10.83 là: E = 80.0
Sai số ứng với con = -1.89 là: E = 38.0
Sai số ứng với con = -4.84 là: E = 48.0
Sai số ứng với con = -6.41 là: E = 54.0
Sai số ứng với con = 7.66 là: E = 36.0
Sai số ứng với con = 7.07 là: E = 34.0
Sai số ứng với con = -2.8 là: E = 44.0
Sai số ứng với con = 7.83 là: E = 36.0
Sai số ứng với con = 0.49 là: E = 26.0
Sai số ứng với con = -6.98 là: E = 56.0
Sai số ứng với con = 4.55 là: E = 34.0
Sai số ứng với con = -5.22 là: E = 50.0
Sai số ứng với con = 6.42 là: E = 32.0
A = [[-2.34  0.   -2.82]
 [ 1.27  3.3   1.27]
 [-2.82  0.   -2.34]]
B = [[ 0.    0.   -1.86]
 [ 1.47  1.23  1.47]
 [-1.86  0.    0.  ]]
I = 1.78
E = 24.0
Lần chạy thứ 2
Xét trọng số thứ 1 của ma trận A:
E = 24.0
Lần chạy thứ 2
Xét trọng số thứ 2 của ma trận A:
E = 24.0
Lần chạy thứ 2
Xét trọng số thứ 3 của ma trận A:
E = 24.0
Lần chạy thứ 2
Xét trọng số thứ 4 của ma trận A:
E = 22.0
Lần chạy thứ 2
Xét trọng số thứ 5 của ma trận A:
E = 22.0
Lần chạy thứ 2
Xét trọng số thứ 1 của ma trận B:
E = 22.0
Lần chạy thứ 2
Xét trọng số thứ 2 của ma trận B:
E = 22.0
Lần chạy thứ 2
Xét trọng số thứ 3 của ma trận B:
E = 22.0
Lần chạy thứ 2
Xét trọng số thứ 4 của ma trận B:
E = 22.0
Lần chạy thứ 2
Xét trọng số thứ 5 của ma trận B:
E = 18.0
Lần chạy thứ 2
Xét trọng số I
E = 18.0
Lần chạy thứ 3
Xét trọng số thứ 1 của ma trận A:
E = 18.0
Lần chạy thứ 3
Xét trọng số thứ 2 của ma trận A:
E = 16.0
Lần chạy thứ 3
Xét trọng số thứ 3 của ma trận A:
E = 16.0
Lần chạy thứ 3
Xét trọng số thứ 4 của ma trận A:
E = 14.0
Lần chạy thứ 3
Xét trọng số thứ 5 của ma trận A:
E = 14.0
Lần chạy thứ 3
Xét trọng số thứ 1 của ma trận B:
E = 14.0
Lần chạy thứ 3
Xét trọng số thứ 2 của ma trận B:
E = 6.0
Lần chạy thứ 3
Xét trọng số thứ 3 của ma trận B:
E = 6.0
Lần chạy thứ 3
Xét trọng số thứ 4 của ma trận B:
E = 6.0
Lần chạy thứ 3
Xét trọng số thứ 5 của ma trận B:
E = 6.0
Lần chạy thứ 3
Xét trọng số I
E = 6.0
Lần chạy thứ 4
Xét trọng số thứ 1 của ma trận A:
E = 6.0
Lần chạy thứ 4
Xét trọng số thứ 2 của ma trận A:
E = 4.0
Lần chạy thứ 4
Xét trọng số thứ 3 của ma trận A:
E = 4.0
Lần chạy thứ 4
Xét trọng số thứ 4 của ma trận A:
E = 4.0
Lần chạy thứ 4
Xét trọng số thứ 5 của ma trận A:
E = 4.0
Lần chạy thứ 4
Xét trọng số thứ 1 của ma trận B:
E = 4.0
Lần chạy thứ 4
Xét trọng số thứ 2 của ma trận B:
E = 4.0
Lần chạy thứ 4
Xét trọng số thứ 3 của ma trận B:
E = 2.0
Đạt đến mức sai số cho phép
Bộ trọng sau khi tối ưu: 
A = [[-1.14  3.81 -3.2 ]
 [-2.18  4.08 -2.18]
 [-3.2   3.81 -1.14]]
B = [[ 0.05 -8.57  0.46]
 [ 1.43  7.86  1.43]
 [ 0.46 -8.57  0.05]]
I = 5.1
