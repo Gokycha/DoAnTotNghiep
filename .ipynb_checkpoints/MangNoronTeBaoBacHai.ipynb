Lần chạy thứ 1
Xét trọng số thứ 1 của ma trận A1:
Tập cha mẹ: [[-3.42, 4.13], [-5.51, 0.16]]
Tập con: [-3.13, -5.16]
Xét từng cặp cha mẹ:
Sai số ứng với con = -3.13 là: E = 32.0
Sai số ứng với con = -5.16 là: E = 32.0
E = 32.0
Lần chạy thứ 1
Xét trọng số thứ 2 của ma trận A1:
Tập cha mẹ: [[-1.79, -2.93], [-8.49, 0.84]]
Tập con: [-1.93, -8.84]
Xét từng cặp cha mẹ:
Sai số ứng với con = -1.93 là: E = 32.0
Sai số ứng với con = -8.84 là: E = 32.0
E = 32.0
Lần chạy thứ 1
Xét trọng số thứ 3 của ma trận A1:
Tập cha mẹ: [[-5.87, -5.73], [-6.78, -6.95]]
Tập con: [-5.73, -6.95]
Xét từng cặp cha mẹ:
Sai số ứng với con = -5.73 là: E = 32.0
Sai số ứng với con = -6.95 là: E = 32.0
E = 32.0
Lần chạy thứ 1
Xét trọng số thứ 4 của ma trận A1:
Tập cha mẹ: [[7.6, 7.5], [-2.24, 8.91]]
Tập con: [7.5, -2.91]
Xét từng cặp cha mẹ:
Sai số ứng với con = 7.5 là: E = 32.0
Sai số ứng với con = -2.91 là: E = 32.0
E = 32.0
Lần chạy thứ 1
Xét trọng số thứ 5 của ma trận A1:
Tập cha mẹ: [[-9.3, 8.07], [1.06, 6.64]]
Tập con: [-9.07, 1.64]
Xét từng cặp cha mẹ:
Sai số ứng với con = -9.07 là: E = 32.0
Sai số ứng với con = 1.64 là: E = 32.0
E = 32.0
Lần chạy thứ 1
Xét trọng số thứ 1 của ma trận A21:
Tập cha mẹ: [[-2.23, -8.34], [9.69, -7.23]]
Tập con: [-2.34, 9.23]
Xét từng cặp cha mẹ:
Sai số ứng với con = -2.34 là: E = 32.0
Sai số ứng với con = 9.23 là: E = 32.0
E = 32.0
Lần chạy thứ 1
Xét trọng số thứ 2 của ma trận A21:
Tập cha mẹ: [[8.36, -1.0], [3.95, -2.53]]
Tập con: [8.0, 3.53]
Xét từng cặp cha mẹ:
Sai số ứng với con = 8.0 là: E = 32.0
Sai số ứng với con = 3.53 là: E = 32.0
E = 32.0
Lần chạy thứ 1
Xét trọng số thứ 3 của ma trận A21:
Tập cha mẹ: [[-0.08, -2.95], [-1.86, 2.77]]
Tập con: [-0.95, -1.77]
Xét từng cặp cha mẹ:
Sai số ứng với con = -0.95 là: E = 32.0
Sai số ứng với con = -1.77 là: E = 32.0
E = 32.0
Lần chạy thứ 1
Xét trọng số thứ 4 của ma trận A21:
Tập cha mẹ: [[6.59, 0.23], [-4.04, 7.78]]
Tập con: [6.23, -4.78]
Xét từng cặp cha mẹ:
Sai số ứng với con = 6.23 là: E = 32.0
Sai số ứng với con = -4.78 là: E = 32.0
E = 32.0
Lần chạy thứ 1
Xét trọng số thứ 5 của ma trận A21:
Tập cha mẹ: [[-3.98, -0.58], [5.03, -9.07]]
Tập con: [-3.58, 5.07]
Xét từng cặp cha mẹ:
Sai số ứng với con = -3.58 là: E = 32.0
Sai số ứng với con = 5.07 là: E = 32.0
E = 32.0
Lần chạy thứ 1
Xét trọng số thứ 1 của ma trận A22:
Tập cha mẹ: [[1.36, -4.82], [7.85, -6.94]]
Tập con: [1.82, 7.94]
Xét từng cặp cha mẹ:
Sai số ứng với con = 1.82 là: E = 32.0
Sai số ứng với con = 7.94 là: E = 32.0
E = 32.0
Lần chạy thứ 1
Xét trọng số thứ 2 của ma trận A22:
Tập cha mẹ: [[9.65, -2.05], [5.29, 9.34]]
Tập con: [9.05, 5.34]
Xét từng cặp cha mẹ:
Sai số ứng với con = 9.05 là: E = 32.0
Sai số ứng với con = 5.34 là: E = 32.0
E = 32.0
Lần chạy thứ 1
Xét trọng số thứ 3 của ma trận A22:
Tập cha mẹ: [[1.63, -3.5], [-8.54, -8.13]]
Tập con: [1.5, -8.13]
Xét từng cặp cha mẹ:
Sai số ứng với con = 1.5 là: E = 32.0
Sai số ứng với con = -8.13 là: E = 32.0
E = 32.0
Lần chạy thứ 1
Xét trọng số thứ 4 của ma trận A22:
Tập cha mẹ: [[4.94, 1.53], [6.77, -3.32]]
Tập con: [4.53, 6.32]
Xét từng cặp cha mẹ:
Sai số ứng với con = 4.53 là: E = 32.0
Sai số ứng với con = 6.32 là: E = 32.0
E = 32.0
Lần chạy thứ 1
Xét trọng số thứ 5 của ma trận A22:
Tập cha mẹ: [[2.5, -1.76], [-8.26, -8.43]]
Tập con: [2.76, -8.43]
Xét từng cặp cha mẹ:
Sai số ứng với con = 2.76 là: E = 32.0
Sai số ứng với con = -8.43 là: E = 32.0
E = 32.0
Lần chạy thứ 1
Xét trọng số thứ 1 của ma trận A23:
Tập cha mẹ: [[6.76, 9.45], [-2.1, 9.12]]
Tập con: [6.45, -2.12]
Xét từng cặp cha mẹ:
Sai số ứng với con = 6.45 là: E = 32.0
Sai số ứng với con = -2.12 là: E = 32.0
E = 32.0
Lần chạy thứ 1
Xét trọng số thứ 2 của ma trận A23:
Tập cha mẹ: [[4.17, -9.13], [-6.29, 2.4]]
Tập con: [4.13, -6.4]
Xét từng cặp cha mẹ:
Sai số ứng với con = 4.13 là: E = 32.0
Sai số ứng với con = -6.4 là: E = 32.0
E = 32.0
Lần chạy thứ 1
Xét trọng số thứ 3 của ma trận A23:
Tập cha mẹ: [[-7.6, -2.02], [-0.6, -6.02]]
Tập con: [-7.02, -0.02]
Xét từng cặp cha mẹ:
Sai số ứng với con = -7.02 là: E = 32.0
Sai số ứng với con = -0.02 là: E = 32.0
E = 32.0
Lần chạy thứ 1
Xét trọng số thứ 4 của ma trận A23:
Tập cha mẹ: [[-0.23, -5.26], [-4.66, -8.87]]
Tập con: [-0.26, -4.87]
Xét từng cặp cha mẹ:
Sai số ứng với con = -0.26 là: E = 32.0
Sai số ứng với con = -4.87 là: E = 32.0
E = 32.0
Lần chạy thứ 1
Xét trọng số thứ 5 của ma trận A23:
Tập cha mẹ: [[-2.46, -1.63], [-3.06, 5.22]]
Tập con: [-2.63, -3.22]
Xét từng cặp cha mẹ:
Sai số ứng với con = -2.63 là: E = 32.0
Sai số ứng với con = -3.22 là: E = 32.0
E = 32.0
Lần chạy thứ 1
Xét trọng số thứ 1 của ma trận A24:
Tập cha mẹ: [[1.72, 5.15], [6.06, -0.15]]
Tập con: [1.15, 6.15]
Xét từng cặp cha mẹ:
Sai số ứng với con = 1.15 là: E = 32.0
Sai số ứng với con = 6.15 là: E = 32.0
E = 32.0
Lần chạy thứ 1
Xét trọng số thứ 2 của ma trận A24:
Tập cha mẹ: [[-2.23, -1.68], [-0.84, -3.3]]
Tập con: [-2.68, -0.3]
Xét từng cặp cha mẹ:
Sai số ứng với con = -2.68 là: E = 32.0
Sai số ứng với con = -0.3 là: E = 32.0
E = 32.0
Lần chạy thứ 1
Xét trọng số thứ 3 của ma trận A24:
Tập cha mẹ: [[5.64, 5.2], [-3.81, 3.15]]
Tập con: [5.2, -3.15]
Xét từng cặp cha mẹ:
Sai số ứng với con = 5.2 là: E = 32.0
Sai số ứng với con = -3.15 là: E = 32.0
E = 32.0
Lần chạy thứ 1
Xét trọng số thứ 4 của ma trận A24:
Tập cha mẹ: [[-4.81, 6.96], [8.07, 6.32]]
Tập con: [-4.96, 8.32]
Xét từng cặp cha mẹ:
Sai số ứng với con = -4.96 là: E = 32.0
Sai số ứng với con = 8.32 là: E = 32.0
E = 32.0
Lần chạy thứ 1
Xét trọng số thứ 5 của ma trận A24:
Tập cha mẹ: [[-8.43, -8.94], [-4.19, 9.24]]
Tập con: [-8.94, -4.24]
Xét từng cặp cha mẹ:
Sai số ứng với con = -8.94 là: E = 32.0
Sai số ứng với con = -4.24 là: E = 32.0
E = 32.0
Lần chạy thứ 1
Xét trọng số thứ 1 của ma trận A25:
Tập cha mẹ: [[-9.17, 2.17], [6.51, 0.23]]
Tập con: [-9.17, 6.23]
Xét từng cặp cha mẹ:
Sai số ứng với con = -9.17 là: E = 32.0
Sai số ứng với con = 6.23 là: E = 32.0
E = 32.0
Lần chạy thứ 1
Xét trọng số thứ 2 của ma trận A25:
Tập cha mẹ: [[0.53, 8.34], [8.3, -3.39]]
Tập con: [0.34, 8.39]
Xét từng cặp cha mẹ:
Sai số ứng với con = 0.34 là: E = 32.0
Sai số ứng với con = 8.39 là: E = 32.0
E = 32.0
Lần chạy thứ 1
Xét trọng số thứ 3 của ma trận A25:
Tập cha mẹ: [[-7.75, 8.12], [-6.43, -9.13]]
Tập con: [-7.12, -6.13]
Xét từng cặp cha mẹ:
Sai số ứng với con = -7.12 là: E = 32.0
Sai số ứng với con = -6.13 là: E = 32.0
E = 32.0
Lần chạy thứ 1
Xét trọng số thứ 4 của ma trận A25:
Tập cha mẹ: [[7.59, 0.91], [-5.53, 9.31]]
Tập con: [7.91, -5.31]
Xét từng cặp cha mẹ:
Sai số ứng với con = 7.91 là: E = 32.0
Sai số ứng với con = -5.31 là: E = 32.0
E = 32.0
Lần chạy thứ 1
Xét trọng số thứ 5 của ma trận A25:
Tập cha mẹ: [[-2.06, -8.46], [-6.95, 3.7]]
Tập con: [-2.46, -6.7]
Xét từng cặp cha mẹ:
Sai số ứng với con = -2.46 là: E = 32.0
Sai số ứng với con = -6.7 là: E = 32.0
E = 32.0
Lần chạy thứ 1
Xét trọng số thứ 1 của ma trận A26:
Tập cha mẹ: [[5.45, -9.94], [0.03, 0.99]]
Tập con: [5.94, 0.99]
Xét từng cặp cha mẹ:
Sai số ứng với con = 5.94 là: E = 32.0
Sai số ứng với con = 0.99 là: E = 32.0
E = 32.0
Lần chạy thứ 1
Xét trọng số thứ 2 của ma trận A26:
Tập cha mẹ: [[-2.86, 1.71], [9.57, 2.44]]
Tập con: [-2.71, 9.44]
Xét từng cặp cha mẹ:
Sai số ứng với con = -2.71 là: E = 32.0
Sai số ứng với con = 9.44 là: E = 32.0
E = 32.0
Lần chạy thứ 1
Xét trọng số thứ 3 của ma trận A26:
Tập cha mẹ: [[-4.47, 2.99], [-0.95, 0.72]]
Tập con: [-4.99, -0.72]
Xét từng cặp cha mẹ:
Sai số ứng với con = -4.99 là: E = 32.0
Sai số ứng với con = -0.72 là: E = 32.0
E = 32.0
Lần chạy thứ 1
Xét trọng số thứ 4 của ma trận A26:
Tập cha mẹ: [[-3.08, -6.2], [-9.31, 0.41]]
Tập con: [-3.2, -9.41]
Xét từng cặp cha mẹ:
Sai số ứng với con = -3.2 là: E = 32.0
Sai số ứng với con = -9.41 là: E = 32.0
E = 32.0
Lần chạy thứ 1
Xét trọng số thứ 5 của ma trận A26:
Tập cha mẹ: [[2.63, 4.56], [6.52, 2.55]]
Tập con: [2.56, 6.55]
Xét từng cặp cha mẹ:
Sai số ứng với con = 2.56 là: E = 32.0
Sai số ứng với con = 6.55 là: E = 32.0
E = 32.0
Lần chạy thứ 1
Xét trọng số thứ 1 của ma trận A27:
Tập cha mẹ: [[2.09, 7.36], [-2.36, 9.98]]
Tập con: [2.36, -2.98]
Xét từng cặp cha mẹ:
Sai số ứng với con = 2.36 là: E = 32.0
Sai số ứng với con = -2.98 là: E = 32.0
E = 32.0
Lần chạy thứ 1
Xét trọng số thứ 2 của ma trận A27:
Tập cha mẹ: [[7.18, 3.72], [-3.83, 5.54]]
Tập con: [7.72, -3.54]
Xét từng cặp cha mẹ:
Sai số ứng với con = 7.72 là: E = 32.0
Sai số ứng với con = -3.54 là: E = 32.0
E = 32.0
Lần chạy thứ 1
Xét trọng số thứ 3 của ma trận A27:
Tập cha mẹ: [[-3.42, 2.82], [-8.95, -9.83]]
Tập con: [-3.82, -8.83]
Xét từng cặp cha mẹ:
Sai số ứng với con = -3.82 là: E = 32.0
Sai số ứng với con = -8.83 là: E = 32.0
E = 32.0
Lần chạy thứ 1
Xét trọng số thứ 4 của ma trận A27:
Tập cha mẹ: [[-1.41, 7.18], [-0.19, 4.85]]
Tập con: [-1.18, -0.85]
Xét từng cặp cha mẹ:
Sai số ứng với con = -1.18 là: E = 32.0
Sai số ứng với con = -0.85 là: E = 32.0
E = 32.0
Lần chạy thứ 1
Xét trọng số thứ 5 của ma trận A27:
Tập cha mẹ: [[-5.26, -2.13], [5.12, 0.77]]
Tập con: [-5.13, 5.77]
Xét từng cặp cha mẹ:
Sai số ứng với con = -5.13 là: E = 32.0
Sai số ứng với con = 5.77 là: E = 32.0
E = 32.0
Lần chạy thứ 1
Xét trọng số thứ 1 của ma trận A28:
Tập cha mẹ: [[4.49, 1.73], [6.61, -6.03]]
Tập con: [4.73, 6.03]
Xét từng cặp cha mẹ:
Sai số ứng với con = 4.73 là: E = 32.0
Sai số ứng với con = 6.03 là: E = 32.0
E = 32.0
Lần chạy thứ 1
Xét trọng số thứ 2 của ma trận A28:
Tập cha mẹ: [[6.54, -1.78], [9.56, 0.42]]
Tập con: [6.78, 9.42]
Xét từng cặp cha mẹ:
Sai số ứng với con = 6.78 là: E = 32.0
Sai số ứng với con = 9.42 là: E = 32.0
E = 32.0
Lần chạy thứ 1
Xét trọng số thứ 3 của ma trận A28:
Tập cha mẹ: [[3.06, -1.37], [8.72, -0.05]]
Tập con: [3.37, 8.05]
Xét từng cặp cha mẹ:
Sai số ứng với con = 3.37 là: E = 32.0
Sai số ứng với con = 8.05 là: E = 32.0
E = 32.0
Lần chạy thứ 1
Xét trọng số thứ 4 của ma trận A28:
Tập cha mẹ: [[0.02, -2.8], [-8.9, -0.1]]
Tập con: [0.8, -8.1]
Xét từng cặp cha mẹ:
Sai số ứng với con = 0.8 là: E = 32.0
Sai số ứng với con = -8.1 là: E = 32.0
E = 32.0
Lần chạy thứ 1
Xét trọng số thứ 5 của ma trận A28:
Tập cha mẹ: [[-6.63, 9.86], [3.17, -6.29]]
Tập con: [-6.86, 3.29]
Xét từng cặp cha mẹ:
Sai số ứng với con = -6.86 là: E = 32.0
Sai số ứng với con = 3.29 là: E = 32.0
E = 32.0
Lần chạy thứ 1
Xét trọng số thứ 1 của ma trận A29:
Tập cha mẹ: [[2.01, 4.77], [-1.15, -2.63]]
Tập con: [2.77, -1.63]
Xét từng cặp cha mẹ:
Sai số ứng với con = 2.77 là: E = 32.0
Sai số ứng với con = -1.63 là: E = 32.0
E = 32.0
Lần chạy thứ 1
Xét trọng số thứ 2 của ma trận A29:
Tập cha mẹ: [[8.56, 8.75], [-6.99, -4.29]]
Tập con: [8.75, -6.29]
Xét từng cặp cha mẹ:
Sai số ứng với con = 8.75 là: E = 32.0
Sai số ứng với con = -6.29 là: E = 32.0
E = 32.0
Lần chạy thứ 1
Xét trọng số thứ 3 của ma trận A29:
Tập cha mẹ: [[5.34, -8.35], [6.56, -4.23]]
Tập con: [5.35, 6.23]
Xét từng cặp cha mẹ:
Sai số ứng với con = 5.35 là: E = 32.0
Sai số ứng với con = 6.23 là: E = 32.0
E = 32.0
Lần chạy thứ 1
Xét trọng số thứ 4 của ma trận A29:
Tập cha mẹ: [[1.75, 1.62], [-2.83, -7.96]]
Tập con: [1.62, -2.96]
Xét từng cặp cha mẹ:
Sai số ứng với con = 1.62 là: E = 32.0
Sai số ứng với con = -2.96 là: E = 32.0
E = 32.0
Lần chạy thứ 1
Xét trọng số thứ 5 của ma trận A29:
Tập cha mẹ: [[1.23, -0.56], [-3.85, 2.55]]
Tập con: [1.56, -3.55]
Xét từng cặp cha mẹ:
Sai số ứng với con = 1.56 là: E = 32.0
Sai số ứng với con = -3.55 là: E = 32.0
E = 32.0
Lần chạy thứ 1
Xét trọng số thứ 1 của ma trận B1:
Tập cha mẹ: [[4.45, 2.33], [6.55, 5.33]]
Tập con: [4.33, 6.33]
Xét từng cặp cha mẹ:
Sai số ứng với con = 4.33 là: E = 32.0
Sai số ứng với con = 6.33 là: E = 32.0
E = 32.0
Lần chạy thứ 1
Xét trọng số thứ 2 của ma trận B1:
Tập cha mẹ: [[-2.11, -3.85], [-4.25, -0.73]]
Tập con: [-2.85, -4.73]
Xét từng cặp cha mẹ:
Sai số ứng với con = -2.85 là: E = 32.0
Sai số ứng với con = -4.73 là: E = 32.0
E = 32.0
Lần chạy thứ 1
Xét trọng số thứ 3 của ma trận B1:
Tập cha mẹ: [[-9.67, -6.15], [-0.94, 2.3]]
Tập con: [-9.15, -0.3]
Xét từng cặp cha mẹ:
Sai số ứng với con = -9.15 là: E = 32.0
Sai số ứng với con = -0.3 là: E = 32.0
E = 32.0
Lần chạy thứ 1
Xét trọng số thứ 4 của ma trận B1:
Tập cha mẹ: [[-3.72, 3.05], [1.05, 5.73]]
Tập con: [-3.05, 1.73]
Xét từng cặp cha mẹ:
Sai số ứng với con = -3.05 là: E = 32.0
Sai số ứng với con = 1.73 là: E = 32.0
E = 32.0
Lần chạy thứ 1
Xét trọng số thứ 5 của ma trận B1:
Tập cha mẹ: [[0.96, -0.99], [-2.57, 9.2]]
Tập con: [0.99, -2.2]
Xét từng cặp cha mẹ:
Sai số ứng với con = 0.99 là: E = 32.0
Sai số ứng với con = -2.2 là: E = 32.0
E = 32.0
Lần chạy thứ 1
Xét trọng số thứ 1 của ma trận B21:
Tập cha mẹ: [[3.29, -8.12], [-8.02, 2.49]]
Tập con: [3.12, -8.49]
Xét từng cặp cha mẹ:
Sai số ứng với con = 3.12 là: E = 32.0
Sai số ứng với con = -8.49 là: E = 32.0
E = 32.0
Lần chạy thứ 1
Xét trọng số thứ 2 của ma trận B21:
Tập cha mẹ: [[3.08, -2.36], [-3.09, -7.68]]
Tập con: [3.36, -3.68]
Xét từng cặp cha mẹ:
Sai số ứng với con = 3.36 là: E = 32.0
Sai số ứng với con = -3.68 là: E = 32.0
E = 32.0
Lần chạy thứ 1
Xét trọng số thứ 3 của ma trận B21:
Tập cha mẹ: [[9.95, -3.41], [2.94, 1.84]]
Tập con: [9.41, 2.84]
Xét từng cặp cha mẹ:
Sai số ứng với con = 9.41 là: E = 32.0
Sai số ứng với con = 2.84 là: E = 32.0
E = 32.0
Lần chạy thứ 1
Xét trọng số thứ 4 của ma trận B21:
Tập cha mẹ: [[6.77, 1.05], [-9.76, -0.11]]
Tập con: [6.05, -9.11]
Xét từng cặp cha mẹ:
Sai số ứng với con = 6.05 là: E = 32.0
Sai số ứng với con = -9.11 là: E = 32.0
E = 32.0
Lần chạy thứ 1
Xét trọng số thứ 5 của ma trận B21:
Tập cha mẹ: [[-8.51, 6.8], [-8.74, -7.21]]
Tập con: [-8.8, -8.21]
Xét từng cặp cha mẹ:
Sai số ứng với con = -8.8 là: E = 32.0
Sai số ứng với con = -8.21 là: E = 32.0
E = 32.0
Lần chạy thứ 1
Xét trọng số thứ 1 của ma trận B22:
Tập cha mẹ: [[8.91, -8.89], [8.55, -0.75]]
Tập con: [8.89, 8.75]
Xét từng cặp cha mẹ:
Sai số ứng với con = 8.89 là: E = 28.0
Sai số ứng với con = 8.75 là: E = 30.0
E = 28.0
Lần chạy thứ 1
Xét trọng số thứ 2 của ma trận B22:
Tập cha mẹ: [[3.37, 9.45], [2.58, -7.74]]
Tập con: [3.45, 2.74]
Xét từng cặp cha mẹ:
Sai số ứng với con = 3.45 là: E = 26.0
Sai số ứng với con = 2.74 là: E = 28.0
E = 26.0
Lần chạy thứ 1
Xét trọng số thứ 3 của ma trận B22:
Tập cha mẹ: [[4.23, -2.75], [8.12, -1.54]]
Tập con: [4.75, 8.54]
Xét từng cặp cha mẹ:
Sai số ứng với con = 4.75 là: E = 28.0
Sai số ứng với con = 8.54 là: E = 30.0
E = 26.0
Lần chạy thứ 1
Xét trọng số thứ 4 của ma trận B22:
Tập cha mẹ: [[3.06, 9.86], [5.15, -3.97]]
Tập con: [3.86, 5.97]
Xét từng cặp cha mẹ:
Sai số ứng với con = 3.86 là: E = 28.0
Sai số ứng với con = 5.97 là: E = 30.0
E = 26.0
Lần chạy thứ 1
Xét trọng số thứ 5 của ma trận B22:
Tập cha mẹ: [[-0.31, -6.1], [1.62, -0.96]]
Tập con: [-0.1, 1.96]
Xét từng cặp cha mẹ:
Sai số ứng với con = -0.1 là: E = 26.0
Sai số ứng với con = 1.96 là: E = 28.0
E = 26.0
Lần chạy thứ 1
Xét trọng số thứ 1 của ma trận B23:
Tập cha mẹ: [[-0.44, 4.29], [2.96, 6.49]]
Tập con: [-0.29, 2.49]
Xét từng cặp cha mẹ:
Sai số ứng với con = -0.29 là: E = 30.0
Sai số ứng với con = 2.49 là: E = 28.0
E = 26.0
Lần chạy thứ 1
Xét trọng số thứ 2 của ma trận B23:
Tập cha mẹ: [[2.34, -6.07], [6.74, -6.83]]
Tập con: [2.07, 6.83]
Xét từng cặp cha mẹ:
Sai số ứng với con = 2.07 là: E = 26.0
Sai số ứng với con = 6.83 là: E = 30.0
E = 26.0
Lần chạy thứ 1
Xét trọng số thứ 3 của ma trận B23:
Tập cha mẹ: [[-0.51, 4.0], [-7.88, 3.99]]
Tập con: [0.0, -7.99]
Xét từng cặp cha mẹ:
Sai số ứng với con = 0.0 là: E = 26.0
Sai số ứng với con = -7.99 là: E = 26.0
E = 26.0
Lần chạy thứ 1
Xét trọng số thứ 4 của ma trận B23:
Tập cha mẹ: [[0.83, 6.11], [8.06, 8.94]]
Tập con: [0.11, 8.94]
Xét từng cặp cha mẹ:
Sai số ứng với con = 0.11 là: E = 28.0
Sai số ứng với con = 8.94 là: E = 32.0
E = 26.0
Lần chạy thứ 1
Xét trọng số thứ 5 của ma trận B23:
Tập cha mẹ: [[1.49, -0.71], [6.8, -9.39]]
Tập con: [1.71, 6.39]
Xét từng cặp cha mẹ:
Sai số ứng với con = 1.71 là: E = 26.0
Sai số ứng với con = 6.39 là: E = 32.0
E = 26.0
Lần chạy thứ 1
Xét trọng số thứ 1 của ma trận B24:
Tập cha mẹ: [[-9.22, 4.62], [-6.92, -6.9]]
Tập con: [-9.62, -6.9]
Xét từng cặp cha mẹ:
Sai số ứng với con = -9.62 là: E = 30.0
Sai số ứng với con = -6.9 là: E = 26.0
E = 26.0
Lần chạy thứ 1
Xét trọng số thứ 2 của ma trận B24:
Tập cha mẹ: [[5.56, -9.67], [-3.8, 9.52]]
Tập con: [5.67, -3.52]
Xét từng cặp cha mẹ:
Sai số ứng với con = 5.67 là: E = 32.0
Sai số ứng với con = -3.52 là: E = 26.0
E = 26.0
Lần chạy thứ 1
Xét trọng số thứ 3 của ma trận B24:
Tập cha mẹ: [[6.03, 3.91], [6.71, 6.91]]
Tập con: [6.91, 6.91]
Xét từng cặp cha mẹ:
Sai số ứng với con = 6.91 là: E = 30.0
Sai số ứng với con = 6.91 là: E = 32.0
E = 26.0
Lần chạy thứ 1
Xét trọng số thứ 4 của ma trận B24:
Tập cha mẹ: [[8.03, -3.97], [-6.57, -8.65]]
Tập con: [8.97, -6.65]
Xét từng cặp cha mẹ:
Sai số ứng với con = 8.97 là: E = 28.0
Sai số ứng với con = -6.65 là: E = 26.0
E = 26.0
Lần chạy thứ 1
Xét trọng số thứ 5 của ma trận B24:
Tập cha mẹ: [[-5.31, 5.76], [-4.57, 8.85]]
Tập con: [-5.76, -4.85]
Xét từng cặp cha mẹ:
Sai số ứng với con = -5.76 là: E = 28.0
Sai số ứng với con = -4.85 là: E = 28.0
E = 26.0
Lần chạy thứ 1
Xét trọng số thứ 1 của ma trận B25:
Tập cha mẹ: [[-8.36, 6.8], [7.46, 5.3]]
Tập con: [-8.8, 7.3]
Xét từng cặp cha mẹ:
Sai số ứng với con = -8.8 là: E = 30.0
Sai số ứng với con = 7.3 là: E = 32.0
E = 26.0
Lần chạy thứ 1
Xét trọng số thứ 2 của ma trận B25:
Tập cha mẹ: [[5.89, -0.39], [7.48, -6.41]]
Tập con: [5.39, 7.41]
Xét từng cặp cha mẹ:
Sai số ứng với con = 5.39 là: E = 28.0
Sai số ứng với con = 7.41 là: E = 32.0
E = 26.0
Lần chạy thứ 1
Xét trọng số thứ 3 của ma trận B25:
Tập cha mẹ: [[-1.21, 5.93], [-9.19, 6.31]]
Tập con: [-1.93, -9.31]
Xét từng cặp cha mẹ:
Sai số ứng với con = -1.93 là: E = 32.0
Sai số ứng với con = -9.31 là: E = 26.0
E = 26.0
Lần chạy thứ 1
Xét trọng số thứ 4 của ma trận B25:
Tập cha mẹ: [[3.34, 0.27], [-4.29, 1.56]]
Tập con: [3.27, -4.56]
Xét từng cặp cha mẹ:
Sai số ứng với con = 3.27 là: E = 26.0
Sai số ứng với con = -4.56 là: E = 26.0
E = 26.0
Lần chạy thứ 1
Xét trọng số thứ 5 của ma trận B25:
Tập cha mẹ: [[-3.37, -5.41], [-3.32, -8.67]]
Tập con: [-3.41, -3.67]
Xét từng cặp cha mẹ:
Sai số ứng với con = -3.41 là: E = 28.0
Sai số ứng với con = -3.67 là: E = 26.0
E = 26.0
Lần chạy thứ 1
Xét trọng số thứ 1 của ma trận B26:
Tập cha mẹ: [[1.92, 0.6], [2.57, -2.13]]
Tập con: [1.6, 2.13]
Xét từng cặp cha mẹ:
Sai số ứng với con = 1.6 là: E = 26.0
Sai số ứng với con = 2.13 là: E = 28.0
E = 26.0
Lần chạy thứ 1
Xét trọng số thứ 2 của ma trận B26:
Tập cha mẹ: [[3.45, -6.02], [3.73, -2.62]]
Tập con: [3.02, 3.62]
Xét từng cặp cha mẹ:
Sai số ứng với con = 3.02 là: E = 28.0
Sai số ứng với con = 3.62 là: E = 28.0
E = 26.0
Lần chạy thứ 1
Xét trọng số thứ 3 của ma trận B26:
Tập cha mẹ: [[7.75, 5.14], [8.89, -3.65]]
Tập con: [7.14, 8.65]
Xét từng cặp cha mẹ:
Sai số ứng với con = 7.14 là: E = 30.0
Sai số ứng với con = 8.65 là: E = 30.0
E = 26.0
Lần chạy thứ 1
Xét trọng số thứ 4 của ma trận B26:
Tập cha mẹ: [[-3.6, -7.84], [5.45, 6.19]]
Tập con: [-3.84, 5.19]
Xét từng cặp cha mẹ:
Sai số ứng với con = -3.84 là: E = 28.0
Sai số ứng với con = 5.19 là: E = 28.0
E = 26.0
Lần chạy thứ 1
Xét trọng số thứ 5 của ma trận B26:
Tập cha mẹ: [[-1.73, 8.65], [-9.9, -1.83]]
Tập con: [-1.65, -9.83]
Xét từng cặp cha mẹ:
Sai số ứng với con = -1.65 là: E = 28.0
Sai số ứng với con = -9.83 là: E = 26.0
E = 26.0
Lần chạy thứ 1
Xét trọng số thứ 1 của ma trận B27:
Tập cha mẹ: [[1.77, 3.91], [9.77, 2.1]]
Tập con: [1.91, 9.1]
Xét từng cặp cha mẹ:
Sai số ứng với con = 1.91 là: E = 26.0
Sai số ứng với con = 9.1 là: E = 30.0
E = 26.0
Lần chạy thứ 1
Xét trọng số thứ 2 của ma trận B27:
Tập cha mẹ: [[-2.07, 9.21], [6.02, 3.52]]
Tập con: [-2.21, 6.52]
Xét từng cặp cha mẹ:
Sai số ứng với con = -2.21 là: E = 28.0
Sai số ứng với con = 6.52 là: E = 28.0
E = 26.0
Lần chạy thứ 1
Xét trọng số thứ 3 của ma trận B27:
Tập cha mẹ: [[7.67, -9.71], [8.02, 8.64]]
Tập con: [7.71, 8.64]
Xét từng cặp cha mẹ:
Sai số ứng với con = 7.71 là: E = 26.0
Sai số ứng với con = 8.64 là: E = 30.0
E = 26.0
Lần chạy thứ 1
Xét trọng số thứ 4 của ma trận B27:
Tập cha mẹ: [[-8.87, -4.5], [5.52, 6.15]]
Tập con: [-8.5, 5.15]
Xét từng cặp cha mẹ:
Sai số ứng với con = -8.5 là: E = 32.0
Sai số ứng với con = 5.15 là: E = 28.0
E = 26.0
Lần chạy thứ 1
Xét trọng số thứ 5 của ma trận B27:
Tập cha mẹ: [[2.12, -1.08], [9.23, -1.93]]
Tập con: [2.08, 9.93]
Xét từng cặp cha mẹ:
Sai số ứng với con = 2.08 là: E = 28.0
Sai số ứng với con = 9.93 là: E = 32.0
E = 26.0
Lần chạy thứ 1
Xét trọng số thứ 1 của ma trận B28:
Tập cha mẹ: [[5.92, 0.85], [9.37, -0.73]]
Tập con: [5.85, 9.73]
Xét từng cặp cha mẹ:
Sai số ứng với con = 5.85 là: E = 30.0
Sai số ứng với con = 9.73 là: E = 32.0
E = 26.0
Lần chạy thứ 1
Xét trọng số thứ 2 của ma trận B28:
Tập cha mẹ: [[-2.47, -5.48], [-1.99, -8.24]]
Tập con: [-2.48, -1.24]
Xét từng cặp cha mẹ:
Sai số ứng với con = -2.48 là: E = 26.0
Sai số ứng với con = -1.24 là: E = 28.0
E = 26.0
Lần chạy thứ 1
Xét trọng số thứ 3 của ma trận B28:
Tập cha mẹ: [[7.86, -8.67], [-0.22, -7.17]]
Tập con: [7.67, -0.17]
Xét từng cặp cha mẹ:
Sai số ứng với con = 7.67 là: E = 32.0
Sai số ứng với con = -0.17 là: E = 28.0
E = 26.0
Lần chạy thứ 1
Xét trọng số thứ 4 của ma trận B28:
Tập cha mẹ: [[-8.71, -2.84], [0.05, 4.0]]
Tập con: [-8.84, 0.0]
Xét từng cặp cha mẹ:
Sai số ứng với con = -8.84 là: E = 36.0
Sai số ứng với con = 0.0 là: E = 28.0
E = 26.0
Lần chạy thứ 1
Xét trọng số thứ 5 của ma trận B28:
Tập cha mẹ: [[5.96, 3.83], [4.24, 3.78]]
Tập con: [5.83, 4.78]
Xét từng cặp cha mẹ:
Sai số ứng với con = 5.83 là: E = 32.0
Sai số ứng với con = 4.78 là: E = 30.0
E = 26.0
Lần chạy thứ 1
Xét trọng số thứ 1 của ma trận B29:
Tập cha mẹ: [[-1.43, 2.0], [4.48, 6.83]]
Tập con: [-1.0, 4.83]
Xét từng cặp cha mẹ:
Sai số ứng với con = -1.0 là: E = 28.0
Sai số ứng với con = 4.83 là: E = 30.0
E = 26.0
Lần chạy thứ 1
Xét trọng số thứ 2 của ma trận B29:
Tập cha mẹ: [[9.42, 4.72], [7.06, -8.33]]
Tập con: [9.72, 7.33]
Xét từng cặp cha mẹ:
Sai số ứng với con = 9.72 là: E = 32.0
Sai số ứng với con = 7.33 là: E = 30.0
E = 26.0
Lần chạy thứ 1
Xét trọng số thứ 3 của ma trận B29:
Tập cha mẹ: [[-7.01, 6.18], [6.01, -8.11]]
Tập con: [-7.18, 6.11]
Xét từng cặp cha mẹ:
Sai số ứng với con = -7.18 là: E = 32.0
Sai số ứng với con = 6.11 là: E = 30.0
E = 26.0
Lần chạy thứ 1
Xét trọng số thứ 4 của ma trận B29:
Tập cha mẹ: [[-6.16, -7.77], [-7.51, 6.91]]
Tập con: [-6.77, -7.91]
Xét từng cặp cha mẹ:
Sai số ứng với con = -6.77 là: E = 34.0
Sai số ứng với con = -7.91 là: E = 24.0
E = 24.0
Lần chạy thứ 1
Xét trọng số thứ 5 của ma trận B29:
Tập cha mẹ: [[-7.5, -6.78], [1.55, -9.13]]
Tập con: [-7.78, 1.13]
Xét từng cặp cha mẹ:
Sai số ứng với con = -7.78 là: E = 32.0
Sai số ứng với con = 1.13 là: E = 28.0
E = 24.0
Lần chạy thứ 1
Xét trọng số thứ 1 của ma trận B1:
Tập cha mẹ: [[-9.38, 1.25], [-4.36, 5.79]]
Tập con: [-9.25, -4.79]
Xét từng cặp cha mẹ:
Sai số ứng với con = -9.25 là: E = 30.0
Sai số ứng với con = -4.79 là: E = 26.0
A1 = [[-3.13 -1.93 -5.73]
 [ 7.5  -9.07  7.5 ]
 [-5.73 -1.93 -3.13]]
A21 = [[-2.34  8.   -0.95]
 [-7.91 -3.58 -7.91]
 [-0.95  8.   -2.34]]
A22 = [[1.82 9.05 1.5 ]
 [4.53 2.76 4.53]
 [1.5  9.05 1.82]]
A23 = [[ 6.45  4.13 -7.02]
 [-0.26 -2.63 -0.26]
 [-7.02  4.13  6.45]]
A24 = [[ 1.15 -2.68  5.2 ]
 [-4.96 -8.94 -4.96]
 [ 5.2  -2.68  1.15]]
A25 = [[-9.17  0.34 -7.12]
 [ 7.91 -2.46  7.91]
 [-7.12  0.34 -9.17]]
A26 = [[ 5.94 -2.71 -4.99]
 [-3.2   2.56 -3.2 ]
 [-4.99 -2.71  5.94]]
A27 = [[ 2.36  7.72 -3.82]
 [-1.18 -5.13 -1.18]
 [-3.82  7.72  2.36]]
A28 = [[ 4.73  6.78  3.37]
 [ 0.8  -6.86  0.8 ]
 [ 3.37  6.78  4.73]]
A29 = [[2.77 8.75 5.35]
 [1.62 1.56 1.62]
 [5.35 8.75 2.77]]
B1 = [[ 4.33 -2.85 -9.15]
 [-3.05  0.99 -3.05]
 [-9.15 -2.85  4.33]]
B21 = [[ 3.12  3.36  9.41]
 [ 6.05 -8.8   6.05]
 [ 9.41  3.36  3.12]]
B22 = [[ 8.89  3.45  2.  ]
 [ 2.   -0.1   2.  ]
 [ 2.    3.45  8.89]]
B23 = [[2.   2.07 0.  ]
 [2.   1.71 2.  ]
 [0.   2.07 2.  ]]
B24 = [[2. 2. 2.]
 [2. 2. 2.]
 [2. 2. 2.]]
B25 = [[2.   2.   2.  ]
 [3.27 2.   3.27]
 [2.   2.   2.  ]]
B26 = [[1.6 2.  2. ]
 [2.  2.  2. ]
 [2.  2.  1.6]]
B27 = [[1.91 2.   7.71]
 [2.   2.   2.  ]
 [7.71 2.   1.91]]
B28 = [[ 2.   -2.48  2.  ]
 [ 2.    2.    2.  ]
 [ 2.   -2.48  2.  ]]
B29 = [[2. 2. 2.]
 [2. 2. 2.]
 [2. 2. 2.]]
I = 2.0
E = 24.0
Lần chạy thứ 2
Xét trọng số thứ 1 của ma trận A1:
E = 24.0
Lần chạy thứ 2
Xét trọng số thứ 2 của ma trận A1:
E = 24.0
Lần chạy thứ 2
Xét trọng số thứ 3 của ma trận A1:
E = 24.0
Lần chạy thứ 2
Xét trọng số thứ 4 của ma trận A1:
E = 24.0
Lần chạy thứ 2
Xét trọng số thứ 5 của ma trận A1:
E = 24.0
Lần chạy thứ 2
Xét trọng số thứ 1 của ma trận A21:
E = 24.0
Lần chạy thứ 2
Xét trọng số thứ 2 của ma trận A21:
E = 24.0
Lần chạy thứ 2
Xét trọng số thứ 3 của ma trận A21:
E = 24.0
Lần chạy thứ 2
Xét trọng số thứ 4 của ma trận A21:
E = 24.0
Lần chạy thứ 2
Xét trọng số thứ 5 của ma trận A21:
E = 24.0
Lần chạy thứ 2
Xét trọng số thứ 1 của ma trận A22:
E = 24.0
Lần chạy thứ 2
Xét trọng số thứ 2 của ma trận A22:
E = 24.0
Lần chạy thứ 2
Xét trọng số thứ 3 của ma trận A22:
E = 24.0
Lần chạy thứ 2
Xét trọng số thứ 4 của ma trận A22:
E = 22.0
Lần chạy thứ 2
Xét trọng số thứ 5 của ma trận A22:
E = 22.0
Lần chạy thứ 2
Xét trọng số thứ 1 của ma trận A23:
E = 22.0
Lần chạy thứ 2
Xét trọng số thứ 2 của ma trận A23:
E = 22.0
Lần chạy thứ 2
Xét trọng số thứ 3 của ma trận A23:
E = 22.0
Lần chạy thứ 2
Xét trọng số thứ 4 của ma trận A23:
E = 22.0
Lần chạy thứ 2
Xét trọng số thứ 5 của ma trận A23:
E = 22.0
Lần chạy thứ 2
Xét trọng số thứ 1 của ma trận A24:
E = 22.0
Lần chạy thứ 2
Xét trọng số thứ 2 của ma trận A24:
E = 22.0
Lần chạy thứ 2
Xét trọng số thứ 3 của ma trận A24:
E = 22.0
Lần chạy thứ 2
Xét trọng số thứ 4 của ma trận A24:
E = 22.0
Lần chạy thứ 2
Xét trọng số thứ 5 của ma trận A24:
E = 22.0
Lần chạy thứ 2
Xét trọng số thứ 1 của ma trận A25:
E = 22.0
Lần chạy thứ 2
Xét trọng số thứ 2 của ma trận A25:
E = 22.0
Lần chạy thứ 2
Xét trọng số thứ 3 của ma trận A25:
E = 22.0
Lần chạy thứ 2
Xét trọng số thứ 4 của ma trận A25:
E = 22.0
Lần chạy thứ 2
Xét trọng số thứ 5 của ma trận A25:
E = 22.0
Lần chạy thứ 2
Xét trọng số thứ 1 của ma trận A26:
E = 22.0
Lần chạy thứ 2
Xét trọng số thứ 2 của ma trận A26:
E = 22.0
Lần chạy thứ 2
Xét trọng số thứ 3 của ma trận A26:
E = 22.0
Lần chạy thứ 2
Xét trọng số thứ 4 của ma trận A26:
E = 22.0
Lần chạy thứ 2
Xét trọng số thứ 5 của ma trận A26:
E = 22.0
Lần chạy thứ 2
Xét trọng số thứ 1 của ma trận A27:
E = 22.0
Lần chạy thứ 2
Xét trọng số thứ 2 của ma trận A27:
E = 22.0
Lần chạy thứ 2
Xét trọng số thứ 3 của ma trận A27:
E = 22.0
Lần chạy thứ 2
Xét trọng số thứ 4 của ma trận A27:
E = 22.0
Lần chạy thứ 2
Xét trọng số thứ 5 của ma trận A27:
E = 22.0
Lần chạy thứ 2
Xét trọng số thứ 1 của ma trận A28:
E = 22.0
Lần chạy thứ 2
Xét trọng số thứ 2 của ma trận A28:
E = 22.0
Lần chạy thứ 2
Xét trọng số thứ 3 của ma trận A28:
E = 22.0
Lần chạy thứ 2
Xét trọng số thứ 4 của ma trận A28:
E = 22.0
Lần chạy thứ 2
Xét trọng số thứ 5 của ma trận A28:
E = 22.0
Lần chạy thứ 2
Xét trọng số thứ 1 của ma trận A29:
E = 22.0
Lần chạy thứ 2
Xét trọng số thứ 2 của ma trận A29:
E = 22.0
Lần chạy thứ 2
Xét trọng số thứ 3 của ma trận A29:
E = 22.0
Lần chạy thứ 2
Xét trọng số thứ 4 của ma trận A29:
E = 22.0
Lần chạy thứ 2
Xét trọng số thứ 5 của ma trận A29:
E = 22.0
Lần chạy thứ 2
Xét trọng số thứ 1 của ma trận B1:
E = 22.0
Lần chạy thứ 2
Xét trọng số thứ 2 của ma trận B1:
E = 22.0
Lần chạy thứ 2
Xét trọng số thứ 3 của ma trận B1:
E = 22.0
Lần chạy thứ 2
Xét trọng số thứ 4 của ma trận B1:
E = 22.0
Lần chạy thứ 2
Xét trọng số thứ 5 của ma trận B1:
E = 22.0
Lần chạy thứ 2
Xét trọng số thứ 1 của ma trận B21:
E = 22.0
Lần chạy thứ 2
Xét trọng số thứ 2 của ma trận B21:
E = 22.0
Lần chạy thứ 2
Xét trọng số thứ 3 của ma trận B21:
E = 22.0
Lần chạy thứ 2
Xét trọng số thứ 4 của ma trận B21:
E = 22.0
Lần chạy thứ 2
Xét trọng số thứ 5 của ma trận B21:
E = 22.0
Lần chạy thứ 2
Xét trọng số thứ 1 của ma trận B22:
E = 22.0
Lần chạy thứ 2
Xét trọng số thứ 2 của ma trận B22:
E = 22.0
Lần chạy thứ 2
Xét trọng số thứ 3 của ma trận B22:
E = 22.0
Lần chạy thứ 2
Xét trọng số thứ 4 của ma trận B22:
E = 22.0
Lần chạy thứ 2
Xét trọng số thứ 5 của ma trận B22:
E = 22.0
Lần chạy thứ 2
Xét trọng số thứ 1 của ma trận B23:
E = 22.0
Lần chạy thứ 2
Xét trọng số thứ 2 của ma trận B23:
E = 22.0
Lần chạy thứ 2
Xét trọng số thứ 3 của ma trận B23:
E = 22.0
Lần chạy thứ 2
Xét trọng số thứ 4 của ma trận B23:
E = 22.0
Lần chạy thứ 2
Xét trọng số thứ 5 của ma trận B23:
E = 22.0
Lần chạy thứ 2
Xét trọng số thứ 1 của ma trận B24:
E = 22.0
Lần chạy thứ 2
Xét trọng số thứ 2 của ma trận B24:
E = 22.0
Lần chạy thứ 2
Xét trọng số thứ 3 của ma trận B24:
E = 22.0
Lần chạy thứ 2
Xét trọng số thứ 4 của ma trận B24:
E = 22.0
Lần chạy thứ 2
Xét trọng số thứ 5 của ma trận B24:
E = 22.0
Lần chạy thứ 2
Xét trọng số thứ 1 của ma trận B25:
E = 22.0
Lần chạy thứ 2
Xét trọng số thứ 2 của ma trận B25:
E = 22.0
Lần chạy thứ 2
Xét trọng số thứ 3 của ma trận B25:
E = 22.0
Lần chạy thứ 2
Xét trọng số thứ 4 của ma trận B25:
E = 22.0
Lần chạy thứ 2
Xét trọng số thứ 5 của ma trận B25:
E = 22.0
Lần chạy thứ 2
Xét trọng số thứ 1 của ma trận B26:
E = 22.0
Lần chạy thứ 2
Xét trọng số thứ 2 của ma trận B26:
E = 22.0
Lần chạy thứ 2
Xét trọng số thứ 3 của ma trận B26:
E = 22.0
Lần chạy thứ 2
Xét trọng số thứ 4 của ma trận B26:
E = 22.0
Lần chạy thứ 2
Xét trọng số thứ 5 của ma trận B26:
E = 22.0
Lần chạy thứ 2
Xét trọng số thứ 1 của ma trận B27:
E = 22.0
Lần chạy thứ 2
Xét trọng số thứ 2 của ma trận B27:
E = 22.0
Lần chạy thứ 2
Xét trọng số thứ 3 của ma trận B27:
E = 22.0
Lần chạy thứ 2
Xét trọng số thứ 4 của ma trận B27:
E = 22.0
Lần chạy thứ 2
Xét trọng số thứ 5 của ma trận B27:
E = 22.0
Lần chạy thứ 2
Xét trọng số thứ 1 của ma trận B28:
E = 22.0
Lần chạy thứ 2
Xét trọng số thứ 2 của ma trận B28:
E = 22.0
Lần chạy thứ 2
Xét trọng số thứ 3 của ma trận B28:
E = 22.0
Lần chạy thứ 2
Xét trọng số thứ 4 của ma trận B28:
E = 22.0
Lần chạy thứ 2
Xét trọng số thứ 5 của ma trận B28:
E = 22.0
Lần chạy thứ 2
Xét trọng số thứ 1 của ma trận B29:
E = 22.0
Lần chạy thứ 2
Xét trọng số thứ 2 của ma trận B29:
E = 22.0
Lần chạy thứ 2
Xét trọng số thứ 3 của ma trận B29:
E = 22.0
Lần chạy thứ 2
Xét trọng số thứ 4 của ma trận B29:
E = 22.0
Lần chạy thứ 2
Xét trọng số thứ 5 của ma trận B29:
E = 22.0
Lần chạy thứ 2
Xét trọng số thứ 1 của ma trận B1:
E = 22.0
Lần chạy thứ 3
Xét trọng số thứ 1 của ma trận A1:
E = 22.0
Lần chạy thứ 3
Xét trọng số thứ 2 của ma trận A1:
E = 22.0
Lần chạy thứ 3
Xét trọng số thứ 3 của ma trận A1:
E = 22.0
Lần chạy thứ 3
Xét trọng số thứ 4 của ma trận A1:
E = 22.0
Lần chạy thứ 3
Xét trọng số thứ 5 của ma trận A1:
E = 22.0
Lần chạy thứ 3
Xét trọng số thứ 1 của ma trận A21:
E = 22.0
Lần chạy thứ 3
Xét trọng số thứ 2 của ma trận A21:
E = 22.0
Lần chạy thứ 3
Xét trọng số thứ 3 của ma trận A21:
E = 22.0
Lần chạy thứ 3
Xét trọng số thứ 4 của ma trận A21:
E = 22.0
Lần chạy thứ 3
Xét trọng số thứ 5 của ma trận A21:
E = 22.0
Lần chạy thứ 3
Xét trọng số thứ 1 của ma trận A22:
E = 22.0
Lần chạy thứ 3
Xét trọng số thứ 2 của ma trận A22:
E = 22.0
Lần chạy thứ 3
Xét trọng số thứ 3 của ma trận A22:
E = 22.0
Lần chạy thứ 3
Xét trọng số thứ 4 của ma trận A22:
E = 22.0
Lần chạy thứ 3
Xét trọng số thứ 5 của ma trận A22:
E = 22.0
Lần chạy thứ 3
Xét trọng số thứ 1 của ma trận A23:
E = 22.0
Lần chạy thứ 3
Xét trọng số thứ 2 của ma trận A23:
E = 22.0
Lần chạy thứ 3
Xét trọng số thứ 3 của ma trận A23:
E = 22.0
Lần chạy thứ 3
Xét trọng số thứ 4 của ma trận A23:
E = 22.0
Lần chạy thứ 3
Xét trọng số thứ 5 của ma trận A23:
E = 22.0
Lần chạy thứ 3
Xét trọng số thứ 1 của ma trận A24:
E = 22.0
Lần chạy thứ 3
Xét trọng số thứ 2 của ma trận A24:
E = 22.0
Lần chạy thứ 3
Xét trọng số thứ 3 của ma trận A24:
E = 22.0
Lần chạy thứ 3
Xét trọng số thứ 4 của ma trận A24:
E = 22.0
Lần chạy thứ 3
Xét trọng số thứ 5 của ma trận A24:
E = 20.0
Lần chạy thứ 3
Xét trọng số thứ 1 của ma trận A25:
E = 20.0
Lần chạy thứ 3
Xét trọng số thứ 2 của ma trận A25:
E = 20.0
Lần chạy thứ 3
Xét trọng số thứ 3 của ma trận A25:
E = 20.0
Lần chạy thứ 3
Xét trọng số thứ 4 của ma trận A25:
E = 20.0
Lần chạy thứ 3
Xét trọng số thứ 5 của ma trận A25:
E = 20.0
Lần chạy thứ 3
Xét trọng số thứ 1 của ma trận A26:
E = 20.0
Lần chạy thứ 3
Xét trọng số thứ 2 của ma trận A26:
E = 20.0
Lần chạy thứ 3
Xét trọng số thứ 3 của ma trận A26:
E = 20.0
Lần chạy thứ 3
Xét trọng số thứ 4 của ma trận A26:
E = 20.0
Lần chạy thứ 3
Xét trọng số thứ 5 của ma trận A26:
E = 20.0
Lần chạy thứ 3
Xét trọng số thứ 1 của ma trận A27:
E = 20.0
Lần chạy thứ 3
Xét trọng số thứ 2 của ma trận A27:
E = 20.0
Lần chạy thứ 3
Xét trọng số thứ 3 của ma trận A27:
E = 20.0
Lần chạy thứ 3
Xét trọng số thứ 4 của ma trận A27:
E = 20.0
Lần chạy thứ 3
Xét trọng số thứ 5 của ma trận A27:
E = 20.0
Lần chạy thứ 3
Xét trọng số thứ 1 của ma trận A28:
E = 18.0
Lần chạy thứ 3
Xét trọng số thứ 2 của ma trận A28:
E = 18.0
Lần chạy thứ 3
Xét trọng số thứ 3 của ma trận A28:
E = 18.0
Lần chạy thứ 3
Xét trọng số thứ 4 của ma trận A28:
E = 18.0
Lần chạy thứ 3
Xét trọng số thứ 5 của ma trận A28:
E = 18.0
Lần chạy thứ 3
Xét trọng số thứ 1 của ma trận A29:
E = 18.0
Lần chạy thứ 3
Xét trọng số thứ 2 của ma trận A29:
E = 18.0
Lần chạy thứ 3
Xét trọng số thứ 3 của ma trận A29:
E = 18.0
Lần chạy thứ 3
Xét trọng số thứ 4 của ma trận A29:
E = 18.0
Lần chạy thứ 3
Xét trọng số thứ 5 của ma trận A29:
E = 18.0
Lần chạy thứ 3
Xét trọng số thứ 1 của ma trận B1:
E = 18.0
Lần chạy thứ 3
Xét trọng số thứ 2 của ma trận B1:
E = 18.0
Lần chạy thứ 3
Xét trọng số thứ 3 của ma trận B1:
E = 18.0
Lần chạy thứ 3
Xét trọng số thứ 4 của ma trận B1:
E = 18.0
Lần chạy thứ 3
Xét trọng số thứ 5 của ma trận B1:
E = 18.0
Lần chạy thứ 3
Xét trọng số thứ 1 của ma trận B21:
E = 18.0
Lần chạy thứ 3
Xét trọng số thứ 2 của ma trận B21:
E = 18.0
Lần chạy thứ 3
Xét trọng số thứ 3 của ma trận B21:
E = 18.0
Lần chạy thứ 3
Xét trọng số thứ 4 của ma trận B21:
E = 18.0
Lần chạy thứ 3
Xét trọng số thứ 5 của ma trận B21:
E = 18.0
Lần chạy thứ 3
Xét trọng số thứ 1 của ma trận B22:
E = 18.0
Lần chạy thứ 3
Xét trọng số thứ 2 của ma trận B22:
E = 18.0
Lần chạy thứ 3
Xét trọng số thứ 3 của ma trận B22:
E = 18.0
Lần chạy thứ 3
Xét trọng số thứ 4 của ma trận B22:
E = 18.0
Lần chạy thứ 3
Xét trọng số thứ 5 của ma trận B22:
E = 18.0
Lần chạy thứ 3
Xét trọng số thứ 1 của ma trận B23:
E = 18.0
Lần chạy thứ 3
Xét trọng số thứ 2 của ma trận B23:
E = 18.0
Lần chạy thứ 3
Xét trọng số thứ 3 của ma trận B23:
E = 18.0
Lần chạy thứ 3
Xét trọng số thứ 4 của ma trận B23:
E = 18.0
Lần chạy thứ 3
Xét trọng số thứ 5 của ma trận B23:
E = 16.0
Lần chạy thứ 3
Xét trọng số thứ 1 của ma trận B24:
E = 16.0
Lần chạy thứ 3
Xét trọng số thứ 2 của ma trận B24:
E = 16.0
Lần chạy thứ 3
Xét trọng số thứ 3 của ma trận B24:
E = 16.0
Lần chạy thứ 3
Xét trọng số thứ 4 của ma trận B24:
E = 16.0
Lần chạy thứ 3
Xét trọng số thứ 5 của ma trận B24:
E = 16.0
Lần chạy thứ 3
Xét trọng số thứ 1 của ma trận B25:
E = 16.0
Lần chạy thứ 3
Xét trọng số thứ 2 của ma trận B25:
E = 16.0
Lần chạy thứ 3
Xét trọng số thứ 3 của ma trận B25:
E = 16.0
Lần chạy thứ 3
Xét trọng số thứ 4 của ma trận B25:
E = 16.0
Lần chạy thứ 3
Xét trọng số thứ 5 của ma trận B25:
E = 16.0
Lần chạy thứ 3
Xét trọng số thứ 1 của ma trận B26:
E = 16.0
Lần chạy thứ 3
Xét trọng số thứ 2 của ma trận B26:
E = 16.0
Lần chạy thứ 3
Xét trọng số thứ 3 của ma trận B26:
E = 16.0
Lần chạy thứ 3
Xét trọng số thứ 4 của ma trận B26:
E = 16.0
Lần chạy thứ 3
Xét trọng số thứ 5 của ma trận B26:
E = 16.0
Lần chạy thứ 3
Xét trọng số thứ 1 của ma trận B27:
E = 16.0
Lần chạy thứ 3
Xét trọng số thứ 2 của ma trận B27:
E = 14.0
Lần chạy thứ 3
Xét trọng số thứ 3 của ma trận B27:
E = 14.0
Lần chạy thứ 3
Xét trọng số thứ 4 của ma trận B27:
E = 14.0
Lần chạy thứ 3
Xét trọng số thứ 5 của ma trận B27:
E = 14.0
Lần chạy thứ 3
Xét trọng số thứ 1 của ma trận B28:
E = 14.0
Lần chạy thứ 3
Xét trọng số thứ 2 của ma trận B28:
E = 14.0
Lần chạy thứ 3
Xét trọng số thứ 3 của ma trận B28:
E = 14.0
Lần chạy thứ 3
Xét trọng số thứ 4 của ma trận B28:
E = 14.0
Lần chạy thứ 3
Xét trọng số thứ 5 của ma trận B28:
E = 14.0
Lần chạy thứ 3
Xét trọng số thứ 1 của ma trận B29:
E = 14.0
Lần chạy thứ 3
Xét trọng số thứ 2 của ma trận B29:
E = 14.0
Lần chạy thứ 3
Xét trọng số thứ 3 của ma trận B29:
E = 14.0
Lần chạy thứ 3
Xét trọng số thứ 4 của ma trận B29:
E = 14.0
Lần chạy thứ 3
Xét trọng số thứ 5 của ma trận B29:
E = 14.0
Lần chạy thứ 3
Xét trọng số thứ 1 của ma trận B1:
E = 14.0
Lần chạy thứ 4
Xét trọng số thứ 1 của ma trận A1:
E = 14.0
Lần chạy thứ 4
Xét trọng số thứ 2 của ma trận A1:
E = 14.0
Lần chạy thứ 4
Xét trọng số thứ 3 của ma trận A1:
E = 14.0
Lần chạy thứ 4
Xét trọng số thứ 4 của ma trận A1:
E = 14.0
Lần chạy thứ 4
Xét trọng số thứ 5 của ma trận A1:
E = 14.0
Lần chạy thứ 4
Xét trọng số thứ 1 của ma trận A21:
E = 14.0
Lần chạy thứ 4
Xét trọng số thứ 2 của ma trận A21:
E = 14.0
Lần chạy thứ 4
Xét trọng số thứ 3 của ma trận A21:
E = 14.0
Lần chạy thứ 4
Xét trọng số thứ 4 của ma trận A21:
E = 14.0
Lần chạy thứ 4
Xét trọng số thứ 5 của ma trận A21:
E = 14.0
Lần chạy thứ 4
Xét trọng số thứ 1 của ma trận A22:
E = 14.0
Lần chạy thứ 4
Xét trọng số thứ 2 của ma trận A22:
E = 14.0
Lần chạy thứ 4
Xét trọng số thứ 3 của ma trận A22:
E = 14.0
Lần chạy thứ 4
Xét trọng số thứ 4 của ma trận A22:
E = 14.0
Lần chạy thứ 4
Xét trọng số thứ 5 của ma trận A22:
E = 14.0
Lần chạy thứ 4
Xét trọng số thứ 1 của ma trận A23:
E = 14.0
Lần chạy thứ 4
Xét trọng số thứ 2 của ma trận A23:
E = 14.0
Lần chạy thứ 4
Xét trọng số thứ 3 của ma trận A23:
E = 14.0
Lần chạy thứ 4
Xét trọng số thứ 4 của ma trận A23:
E = 14.0
Lần chạy thứ 4
Xét trọng số thứ 5 của ma trận A23:
E = 14.0
Lần chạy thứ 4
Xét trọng số thứ 1 của ma trận A24:
E = 14.0
Lần chạy thứ 4
Xét trọng số thứ 2 của ma trận A24:
E = 14.0
Lần chạy thứ 4
Xét trọng số thứ 3 của ma trận A24:
E = 14.0
Lần chạy thứ 4
Xét trọng số thứ 4 của ma trận A24:
E = 14.0
Lần chạy thứ 4
Xét trọng số thứ 5 của ma trận A24:
E = 14.0
Lần chạy thứ 4
Xét trọng số thứ 1 của ma trận A25:
E = 14.0
Lần chạy thứ 4
Xét trọng số thứ 2 của ma trận A25:
E = 14.0
Lần chạy thứ 4
Xét trọng số thứ 3 của ma trận A25:
E = 14.0
Lần chạy thứ 4
Xét trọng số thứ 4 của ma trận A25:
E = 14.0
Lần chạy thứ 4
Xét trọng số thứ 5 của ma trận A25:
E = 14.0
Lần chạy thứ 4
Xét trọng số thứ 1 của ma trận A26:
E = 14.0
Lần chạy thứ 4
Xét trọng số thứ 2 của ma trận A26:
E = 14.0
Lần chạy thứ 4
Xét trọng số thứ 3 của ma trận A26:
E = 12.0
Lần chạy thứ 4
Xét trọng số thứ 4 của ma trận A26:
E = 12.0
Lần chạy thứ 4
Xét trọng số thứ 5 của ma trận A26:
E = 12.0
Lần chạy thứ 4
Xét trọng số thứ 1 của ma trận A27:
E = 12.0
Lần chạy thứ 4
Xét trọng số thứ 2 của ma trận A27:
E = 12.0
Lần chạy thứ 4
Xét trọng số thứ 3 của ma trận A27:
E = 12.0
Lần chạy thứ 4
Xét trọng số thứ 4 của ma trận A27:
E = 12.0
Lần chạy thứ 4
Xét trọng số thứ 5 của ma trận A27:
E = 12.0
Lần chạy thứ 4
Xét trọng số thứ 1 của ma trận A28:
E = 12.0
Lần chạy thứ 4
Xét trọng số thứ 2 của ma trận A28:
E = 12.0
Lần chạy thứ 4
Xét trọng số thứ 3 của ma trận A28:
E = 12.0
Lần chạy thứ 4
Xét trọng số thứ 4 của ma trận A28:
E = 12.0
Lần chạy thứ 4
Xét trọng số thứ 5 của ma trận A28:
E = 12.0
Lần chạy thứ 4
Xét trọng số thứ 1 của ma trận A29:
E = 12.0
Lần chạy thứ 4
Xét trọng số thứ 2 của ma trận A29:
E = 12.0
Lần chạy thứ 4
Xét trọng số thứ 3 của ma trận A29:
E = 12.0
Lần chạy thứ 4
Xét trọng số thứ 4 của ma trận A29:
E = 12.0
Lần chạy thứ 4
Xét trọng số thứ 5 của ma trận A29:
E = 12.0
Lần chạy thứ 4
Xét trọng số thứ 1 của ma trận B1:
E = 12.0
Lần chạy thứ 4
Xét trọng số thứ 2 của ma trận B1:
E = 12.0
Lần chạy thứ 4
Xét trọng số thứ 3 của ma trận B1:
E = 12.0
Lần chạy thứ 4
Xét trọng số thứ 4 của ma trận B1:
E = 12.0
Lần chạy thứ 4
Xét trọng số thứ 5 của ma trận B1:
E = 12.0
Lần chạy thứ 4
Xét trọng số thứ 1 của ma trận B21:
E = 10.0
Lần chạy thứ 4
Xét trọng số thứ 2 của ma trận B21:
E = 10.0
Lần chạy thứ 4
Xét trọng số thứ 3 của ma trận B21:
E = 10.0
Lần chạy thứ 4
Xét trọng số thứ 4 của ma trận B21:
E = 10.0
Lần chạy thứ 4
Xét trọng số thứ 5 của ma trận B21:
E = 10.0
Lần chạy thứ 4
Xét trọng số thứ 1 của ma trận B22:
E = 10.0
Lần chạy thứ 4
Xét trọng số thứ 2 của ma trận B22:
E = 10.0
Lần chạy thứ 4
Xét trọng số thứ 3 của ma trận B22:
E = 8.0
Lần chạy thứ 4
Xét trọng số thứ 4 của ma trận B22:
E = 8.0
Lần chạy thứ 4
Xét trọng số thứ 5 của ma trận B22:
E = 8.0
Lần chạy thứ 4
Xét trọng số thứ 1 của ma trận B23:
E = 8.0
Lần chạy thứ 4
Xét trọng số thứ 2 của ma trận B23:
E = 8.0
Lần chạy thứ 4
Xét trọng số thứ 3 của ma trận B23:
E = 8.0
Lần chạy thứ 4
Xét trọng số thứ 4 của ma trận B23:
E = 8.0
Lần chạy thứ 4
Xét trọng số thứ 5 của ma trận B23:
E = 8.0
Lần chạy thứ 4
Xét trọng số thứ 1 của ma trận B24:
E = 8.0
Lần chạy thứ 4
Xét trọng số thứ 2 của ma trận B24:
E = 8.0
Lần chạy thứ 4
Xét trọng số thứ 3 của ma trận B24:
E = 8.0
Lần chạy thứ 4
Xét trọng số thứ 4 của ma trận B24:
E = 8.0
Lần chạy thứ 4
Xét trọng số thứ 5 của ma trận B24:
E = 8.0
Lần chạy thứ 4
Xét trọng số thứ 1 của ma trận B25:
E = 8.0
Lần chạy thứ 4
Xét trọng số thứ 2 của ma trận B25:
E = 8.0
Lần chạy thứ 4
Xét trọng số thứ 3 của ma trận B25:
E = 8.0
Lần chạy thứ 4
Xét trọng số thứ 4 của ma trận B25:
E = 8.0
Lần chạy thứ 4
Xét trọng số thứ 5 của ma trận B25:
E = 8.0
Lần chạy thứ 4
Xét trọng số thứ 1 của ma trận B26:
E = 8.0
Lần chạy thứ 4
Xét trọng số thứ 2 của ma trận B26:
E = 8.0
Lần chạy thứ 4
Xét trọng số thứ 3 của ma trận B26:
E = 8.0
Lần chạy thứ 4
Xét trọng số thứ 4 của ma trận B26:
E = 8.0
Lần chạy thứ 4
Xét trọng số thứ 5 của ma trận B26:
E = 8.0
Lần chạy thứ 4
Xét trọng số thứ 1 của ma trận B27:
E = 8.0
Lần chạy thứ 4
Xét trọng số thứ 2 của ma trận B27:
E = 8.0
Lần chạy thứ 4
Xét trọng số thứ 3 của ma trận B27:
E = 8.0
Lần chạy thứ 4
Xét trọng số thứ 4 của ma trận B27:
E = 8.0
Lần chạy thứ 4
Xét trọng số thứ 5 của ma trận B27:
E = 8.0
Lần chạy thứ 4
Xét trọng số thứ 1 của ma trận B28:
E = 8.0
Lần chạy thứ 4
Xét trọng số thứ 2 của ma trận B28:
E = 8.0
Lần chạy thứ 4
Xét trọng số thứ 3 của ma trận B28:
E = 8.0
Lần chạy thứ 4
Xét trọng số thứ 4 của ma trận B28:
E = 8.0
Lần chạy thứ 4
Xét trọng số thứ 5 của ma trận B28:
E = 8.0
Lần chạy thứ 4
Xét trọng số thứ 1 của ma trận B29:
E = 8.0
Lần chạy thứ 4
Xét trọng số thứ 2 của ma trận B29:
E = 8.0
Lần chạy thứ 4
Xét trọng số thứ 3 của ma trận B29:
E = 8.0
Lần chạy thứ 4
Xét trọng số thứ 4 của ma trận B29:
E = 8.0
Lần chạy thứ 4
Xét trọng số thứ 5 của ma trận B29:
E = 8.0
Lần chạy thứ 4
Xét trọng số thứ 1 của ma trận B1:
E = 8.0
Lần chạy thứ 5
Xét trọng số thứ 1 của ma trận A1:
E = 8.0
Lần chạy thứ 5
Xét trọng số thứ 2 của ma trận A1:
E = 8.0
Lần chạy thứ 5
Xét trọng số thứ 3 của ma trận A1:
E = 8.0
Lần chạy thứ 5
Xét trọng số thứ 4 của ma trận A1:
E = 8.0
Lần chạy thứ 5
Xét trọng số thứ 5 của ma trận A1:
E = 8.0
Lần chạy thứ 5
Xét trọng số thứ 1 của ma trận A21:
E = 8.0
Lần chạy thứ 5
Xét trọng số thứ 2 của ma trận A21:
E = 8.0
Lần chạy thứ 5
Xét trọng số thứ 3 của ma trận A21:
E = 6.0
Lần chạy thứ 5
Xét trọng số thứ 4 của ma trận A21:
E = 6.0
Lần chạy thứ 5
Xét trọng số thứ 5 của ma trận A21:
E = 6.0
Lần chạy thứ 5
Xét trọng số thứ 1 của ma trận A22:
E = 6.0
Lần chạy thứ 5
Xét trọng số thứ 2 của ma trận A22:
E = 6.0
Lần chạy thứ 5
Xét trọng số thứ 3 của ma trận A22:
E = 6.0
Lần chạy thứ 5
Xét trọng số thứ 4 của ma trận A22:
E = 6.0
Lần chạy thứ 5
Xét trọng số thứ 5 của ma trận A22:
E = 6.0
Lần chạy thứ 5
Xét trọng số thứ 1 của ma trận A23:
E = 6.0
Lần chạy thứ 5
Xét trọng số thứ 2 của ma trận A23:
E = 6.0
Lần chạy thứ 5
Xét trọng số thứ 3 của ma trận A23:
E = 6.0
Lần chạy thứ 5
Xét trọng số thứ 4 của ma trận A23:
E = 6.0
Lần chạy thứ 5
Xét trọng số thứ 5 của ma trận A23:
E = 6.0
Lần chạy thứ 5
Xét trọng số thứ 1 của ma trận A24:
E = 6.0
Lần chạy thứ 5
Xét trọng số thứ 2 của ma trận A24:
E = 6.0
Lần chạy thứ 5
Xét trọng số thứ 3 của ma trận A24:
E = 6.0
Lần chạy thứ 5
Xét trọng số thứ 4 của ma trận A24:
E = 6.0
Lần chạy thứ 5
Xét trọng số thứ 5 của ma trận A24:
E = 6.0
Lần chạy thứ 5
Xét trọng số thứ 1 của ma trận A25:
E = 6.0
Lần chạy thứ 5
Xét trọng số thứ 2 của ma trận A25:
E = 6.0
Lần chạy thứ 5
Xét trọng số thứ 3 của ma trận A25:
E = 6.0
Lần chạy thứ 5
Xét trọng số thứ 4 của ma trận A25:
E = 6.0
Lần chạy thứ 5
Xét trọng số thứ 5 của ma trận A25:
E = 6.0
Lần chạy thứ 5
Xét trọng số thứ 1 của ma trận A26:
E = 6.0
Lần chạy thứ 5
Xét trọng số thứ 2 của ma trận A26:
E = 6.0
Lần chạy thứ 5
Xét trọng số thứ 3 của ma trận A26:
E = 6.0
Lần chạy thứ 5
Xét trọng số thứ 4 của ma trận A26:
E = 6.0
Lần chạy thứ 5
Xét trọng số thứ 5 của ma trận A26:
E = 6.0
Lần chạy thứ 5
Xét trọng số thứ 1 của ma trận A27:
E = 6.0
Lần chạy thứ 5
Xét trọng số thứ 2 của ma trận A27:
E = 6.0
Lần chạy thứ 5
Xét trọng số thứ 3 của ma trận A27:
E = 6.0
Lần chạy thứ 5
Xét trọng số thứ 4 của ma trận A27:
E = 6.0
Lần chạy thứ 5
Xét trọng số thứ 5 của ma trận A27:
E = 6.0
Lần chạy thứ 5
Xét trọng số thứ 1 của ma trận A28:
E = 6.0
Lần chạy thứ 5
Xét trọng số thứ 2 của ma trận A28:
E = 6.0
Lần chạy thứ 5
Xét trọng số thứ 3 của ma trận A28:
E = 6.0
Lần chạy thứ 5
Xét trọng số thứ 4 của ma trận A28:
E = 6.0
Lần chạy thứ 5
Xét trọng số thứ 5 của ma trận A28:
E = 6.0
Lần chạy thứ 5
Xét trọng số thứ 1 của ma trận A29:
E = 6.0
Lần chạy thứ 5
Xét trọng số thứ 2 của ma trận A29:
E = 6.0
Lần chạy thứ 5
Xét trọng số thứ 3 của ma trận A29:
E = 6.0
Lần chạy thứ 5
Xét trọng số thứ 4 của ma trận A29:
E = 6.0
Lần chạy thứ 5
Xét trọng số thứ 5 của ma trận A29:
E = 6.0
Lần chạy thứ 5
Xét trọng số thứ 1 của ma trận B1:
E = 6.0
Lần chạy thứ 5
Xét trọng số thứ 2 của ma trận B1:
E = 6.0
Lần chạy thứ 5
Xét trọng số thứ 3 của ma trận B1:
E = 6.0
Lần chạy thứ 5
Xét trọng số thứ 4 của ma trận B1:
E = 6.0
Lần chạy thứ 5
Xét trọng số thứ 5 của ma trận B1:
E = 6.0
Lần chạy thứ 5
Xét trọng số thứ 1 của ma trận B21:
E = 6.0
Lần chạy thứ 5
Xét trọng số thứ 2 của ma trận B21:
E = 6.0
Lần chạy thứ 5
Xét trọng số thứ 3 của ma trận B21:
E = 6.0
Lần chạy thứ 5
Xét trọng số thứ 4 của ma trận B21:
E = 6.0
Lần chạy thứ 5
Xét trọng số thứ 5 của ma trận B21:
E = 6.0
Lần chạy thứ 5
Xét trọng số thứ 1 của ma trận B22:
E = 6.0
Lần chạy thứ 5
Xét trọng số thứ 2 của ma trận B22:
E = 6.0
Lần chạy thứ 5
Xét trọng số thứ 3 của ma trận B22:
E = 6.0
Lần chạy thứ 5
Xét trọng số thứ 4 của ma trận B22:
E = 6.0
Lần chạy thứ 5
Xét trọng số thứ 5 của ma trận B22:
E = 6.0
Lần chạy thứ 5
Xét trọng số thứ 1 của ma trận B23:
E = 6.0
Lần chạy thứ 5
Xét trọng số thứ 2 của ma trận B23:
E = 6.0
Lần chạy thứ 5
Xét trọng số thứ 3 của ma trận B23:
E = 6.0
Lần chạy thứ 5
Xét trọng số thứ 4 của ma trận B23:
E = 6.0
Lần chạy thứ 5
Xét trọng số thứ 5 của ma trận B23:
E = 4.0
Đạt đến mức sai số cho phép
Bộ trọng sau khi tối ưu: 
A1 = [[-3.13 -1.93 -5.73]
 [ 5.4  -9.07  5.4 ]
 [-5.73 -1.93 -3.13]]
A21 = [[-1.18  5.8  -4.32]
 [-8.34 -5.62 -8.34]
 [-4.32  5.8  -1.18]]
A22 = [[-0.74  7.82  1.5 ]
 [ 1.   -0.12  1.  ]
 [ 1.5   7.82 -0.74]]
A23 = [[ 6.45 -2.52 -7.02]
 [-0.26 -8.   -0.26]
 [-7.02 -2.52  6.45]]
A24 = [[-0.77 -0.08 -8.63]
 [-4.96  3.17 -4.96]
 [-8.63 -0.08 -0.77]]
A25 = [[-9.17  0.75 -7.12]
 [ 6.66 -4.27  6.66]
 [-7.12  0.75 -9.17]]
A26 = [[-4.88 -5.73 -4.99]
 [-3.92 -9.34 -3.92]
 [-4.99 -5.73 -4.88]]
A27 = [[-0.92 -0.2  -4.28]
 [-0.5  -3.65 -0.5 ]
 [-4.28 -0.2  -0.92]]
A28 = [[ 5.47  6.78  3.5 ]
 [ 0.8  -6.86  0.8 ]
 [ 3.5   6.78  5.47]]
A29 = [[ 2.77  8.75  5.27]
 [-8.94  1.56 -8.94]
 [ 5.27  8.75  2.77]]
B1 = [[ 0.02  3.49 -0.55]
 [-2.99  4.84 -2.99]
 [-0.55  3.49  0.02]]
B21 = [[ 0.24  2.52  9.41]
 [ 6.05 -8.8   6.05]
 [ 9.41  2.52  0.24]]
B22 = [[ 8.89 -1.29 -0.84]
 [-1.41 -0.1  -1.41]
 [-0.84 -1.29  8.89]]
B23 = [[2.   1.96 0.  ]
 [2.07 2.   2.07]
 [0.   1.96 2.  ]]
B24 = [[ 2.    2.    2.16]
 [-2.11  2.   -2.11]
 [ 2.16  2.    2.  ]]
B25 = [[2.   1.81 2.  ]
 [3.27 3.5  3.27]
 [2.   1.81 2.  ]]
B26 = [[1.6 2.  2. ]
 [2.  2.  2. ]
 [2.  2.  1.6]]
B27 = [[ 1.91 -5.21  7.82]
 [ 2.    2.    2.  ]
 [ 7.82 -5.21  1.91]]
B28 = [[ 2.   -2.34  2.  ]
 [ 2.    2.    2.  ]
 [ 2.   -2.34  2.  ]]
B29 = [[2.   2.   2.  ]
 [2.   6.45 2.  ]
 [2.   2.   2.  ]]
I = 0.85
E = 4.0
