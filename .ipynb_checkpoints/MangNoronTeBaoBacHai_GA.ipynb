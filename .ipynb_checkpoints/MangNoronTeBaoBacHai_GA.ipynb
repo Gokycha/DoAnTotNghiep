Lần chạy thứ 1
Xét trọng số thứ 1 của ma trận A1:
Tập cha mẹ: [[-2.38, -5.75], [-6.75, 0.75], [-1.96, 9.51]]
Tập con: [-2.75, -6.75, -1.51]
Xét từng cặp cha mẹ:
Sai số ứng với con = -2.75 là: E = 32.0
Sai số ứng với con = -6.75 là: E = 32.0
Sai số ứng với con = -1.51 là: E = 32.0
E = 32.0
Lần chạy thứ 1
Xét trọng số thứ 2 của ma trận A1:
Tập cha mẹ: [[-4.54, 3.92], [4.36, -4.11], [8.7, 4.45]]
Tập con: [-4.92, 4.11, 8.45]
Xét từng cặp cha mẹ:
Sai số ứng với con = -4.92 là: E = 32.0
Sai số ứng với con = 4.11 là: E = 32.0
Sai số ứng với con = 8.45 là: E = 32.0
E = 32.0
Lần chạy thứ 1
Xét trọng số thứ 3 của ma trận A1:
Tập cha mẹ: [[-3.99, -6.28], [-6.98, 7.28], [7.87, 6.75]]
Tập con: [-3.28, -6.28, 7.75]
Xét từng cặp cha mẹ:
Sai số ứng với con = -3.28 là: E = 32.0
Sai số ứng với con = -6.28 là: E = 32.0
Sai số ứng với con = 7.75 là: E = 32.0
E = 32.0
Lần chạy thứ 1
Xét trọng số thứ 4 của ma trận A1:
Tập cha mẹ: [[-6.74, -7.15], [-1.8, 0.81], [-1.16, -3.3]]
Tập con: [-6.15, -1.81, -1.3]
Xét từng cặp cha mẹ:
Sai số ứng với con = -6.15 là: E = 32.0
Sai số ứng với con = -1.81 là: E = 32.0
Sai số ứng với con = -1.3 là: E = 32.0
E = 32.0
Lần chạy thứ 1
Xét trọng số thứ 5 của ma trận A1:
Tập cha mẹ: [[-2.28, 3.89], [-3.07, 2.84], [1.07, -2.47]]
Tập con: [-2.89, -3.84, 1.47]
Xét từng cặp cha mẹ:
Sai số ứng với con = -2.89 là: E = 32.0
Sai số ứng với con = -3.84 là: E = 32.0
Sai số ứng với con = 1.47 là: E = 32.0
E = 32.0
Lần chạy thứ 1
Xét trọng số thứ 1 của ma trận A21:
Tập cha mẹ: [[-0.28, 0.9], [-2.18, 7.42], [9.08, 4.8]]
Tập con: [-0.9, -2.42, 9.8]
Xét từng cặp cha mẹ:
Sai số ứng với con = -0.9 là: E = 32.0
Sai số ứng với con = -2.42 là: E = 32.0
Sai số ứng với con = 9.8 là: E = 32.0
E = 32.0
Lần chạy thứ 1
Xét trọng số thứ 2 của ma trận A21:
Tập cha mẹ: [[4.97, -3.22], [-0.4, 5.02], [1.73, -9.21]]
Tập con: [4.22, -0.02, 1.21]
Xét từng cặp cha mẹ:
Sai số ứng với con = 4.22 là: E = 32.0
Sai số ứng với con = -0.02 là: E = 32.0
Sai số ứng với con = 1.21 là: E = 32.0
E = 32.0
Lần chạy thứ 1
Xét trọng số thứ 3 của ma trận A21:
Tập cha mẹ: [[-4.63, 0.1], [1.76, 3.34], [-4.43, 0.08]]
Tập con: [-4.1, 1.34, -4.08]
Xét từng cặp cha mẹ:
Sai số ứng với con = -4.1 là: E = 32.0
Sai số ứng với con = 1.34 là: E = 32.0
Sai số ứng với con = -4.08 là: E = 32.0
E = 32.0
Lần chạy thứ 1
Xét trọng số thứ 4 của ma trận A21:
Tập cha mẹ: [[-3.74, -0.84], [1.47, -3.04], [-4.59, -7.09]]
Tập con: [-3.84, 1.04, -4.09]
Xét từng cặp cha mẹ:
Sai số ứng với con = -3.84 là: E = 32.0
Sai số ứng với con = 1.04 là: E = 32.0
Sai số ứng với con = -4.09 là: E = 32.0
E = 32.0
Lần chạy thứ 1
Xét trọng số thứ 5 của ma trận A21:
Tập cha mẹ: [[-1.56, -9.33], [5.07, 7.09], [-9.89, -9.39]]
Tập con: [-1.33, 5.09, -9.39]
Xét từng cặp cha mẹ:
Sai số ứng với con = -1.33 là: E = 32.0
Sai số ứng với con = 5.09 là: E = 32.0
Sai số ứng với con = -9.39 là: E = 32.0
E = 32.0
Lần chạy thứ 1
Xét trọng số thứ 1 của ma trận A22:
Tập cha mẹ: [[-2.23, 8.3], [1.2, -3.19], [1.61, 5.24]]
Tập con: [-2.3, 1.19, 1.24]
Xét từng cặp cha mẹ:
Sai số ứng với con = -2.3 là: E = 32.0
Sai số ứng với con = 1.19 là: E = 32.0
Sai số ứng với con = 1.24 là: E = 32.0
E = 32.0
Lần chạy thứ 1
Xét trọng số thứ 2 của ma trận A22:
Tập cha mẹ: [[1.86, 8.8], [-0.12, 2.37], [-9.28, 1.86]]
Tập con: [1.8, -0.37, -9.86]
Xét từng cặp cha mẹ:
Sai số ứng với con = 1.8 là: E = 32.0
Sai số ứng với con = -0.37 là: E = 32.0
Sai số ứng với con = -9.86 là: E = 32.0
E = 32.0
Lần chạy thứ 1
Xét trọng số thứ 3 của ma trận A22:
Tập cha mẹ: [[8.98, 7.63], [7.24, 8.5], [1.52, -2.59]]
Tập con: [8.63, 7.5, 1.59]
Xét từng cặp cha mẹ:
Sai số ứng với con = 8.63 là: E = 32.0
Sai số ứng với con = 7.5 là: E = 32.0
Sai số ứng với con = 1.59 là: E = 32.0
E = 32.0
Lần chạy thứ 1
Xét trọng số thứ 4 của ma trận A22:
Tập cha mẹ: [[6.34, -5.21], [4.2, -6.34], [6.99, -0.07]]
Tập con: [6.21, 4.34, 6.07]
Xét từng cặp cha mẹ:
Sai số ứng với con = 6.21 là: E = 32.0
Sai số ứng với con = 4.34 là: E = 32.0
Sai số ứng với con = 6.07 là: E = 32.0
E = 32.0
Lần chạy thứ 1
Xét trọng số thứ 5 của ma trận A22:
Tập cha mẹ: [[-3.61, -7.14], [1.34, 0.44], [0.26, 9.47]]
Tập con: [-3.14, 1.44, 0.47]
Xét từng cặp cha mẹ:
Sai số ứng với con = -3.14 là: E = 32.0
Sai số ứng với con = 1.44 là: E = 32.0
Sai số ứng với con = 0.47 là: E = 32.0
E = 32.0
Lần chạy thứ 1
Xét trọng số thứ 1 của ma trận A23:
Tập cha mẹ: [[7.91, 9.52], [-0.21, 6.11], [3.59, 9.38]]
Tập con: [7.52, -0.11, 3.38]
Xét từng cặp cha mẹ:
Sai số ứng với con = 7.52 là: E = 32.0
Sai số ứng với con = -0.11 là: E = 32.0
Sai số ứng với con = 3.38 là: E = 32.0
E = 32.0
Lần chạy thứ 1
Xét trọng số thứ 2 của ma trận A23:
Tập cha mẹ: [[-4.09, -5.63], [-0.56, -4.86], [4.09, -7.27]]
Tập con: [-4.63, -0.86, 4.27]
Xét từng cặp cha mẹ:
Sai số ứng với con = -4.63 là: E = 32.0
Sai số ứng với con = -0.86 là: E = 32.0
Sai số ứng với con = 4.27 là: E = 32.0
E = 32.0
Lần chạy thứ 1
Xét trọng số thứ 3 của ma trận A23:
Tập cha mẹ: [[-8.98, -3.94], [-1.95, -7.53], [9.96, 3.58]]
Tập con: [-8.94, -1.53, 9.58]
Xét từng cặp cha mẹ:
Sai số ứng với con = -8.94 là: E = 32.0
Sai số ứng với con = -1.53 là: E = 32.0
Sai số ứng với con = 9.58 là: E = 32.0
E = 32.0
Lần chạy thứ 1
Xét trọng số thứ 4 của ma trận A23:
Tập cha mẹ: [[5.46, 6.78], [-2.23, -2.48], [0.72, 2.28]]
Tập con: [5.78, -2.48, 0.28]
Xét từng cặp cha mẹ:
Sai số ứng với con = 5.78 là: E = 32.0
Sai số ứng với con = -2.48 là: E = 32.0
Sai số ứng với con = 0.28 là: E = 32.0
E = 32.0
Lần chạy thứ 1
Xét trọng số thứ 5 của ma trận A23:
Tập cha mẹ: [[7.86, 1.82], [5.26, 1.77], [-1.86, 4.66]]
Tập con: [7.82, 5.77, -1.66]
Xét từng cặp cha mẹ:
Sai số ứng với con = 7.82 là: E = 32.0
Sai số ứng với con = 5.77 là: E = 32.0
Sai số ứng với con = -1.66 là: E = 32.0
E = 32.0
Lần chạy thứ 1
Xét trọng số thứ 1 của ma trận A24:
Tập cha mẹ: [[-0.41, -0.91], [-4.48, 0.98], [9.83, 6.49]]
Tập con: [-0.91, -4.98, 9.49]
Xét từng cặp cha mẹ:
Sai số ứng với con = -0.91 là: E = 32.0
Sai số ứng với con = -4.98 là: E = 32.0
Sai số ứng với con = 9.49 là: E = 32.0
E = 32.0
Lần chạy thứ 1
Xét trọng số thứ 2 của ma trận A24:
Tập cha mẹ: [[1.47, 4.63], [7.82, 4.47], [-3.16, 6.03]]
Tập con: [1.63, 7.47, -3.03]
Xét từng cặp cha mẹ:
Sai số ứng với con = 1.63 là: E = 32.0
Sai số ứng với con = 7.47 là: E = 32.0
Sai số ứng với con = -3.03 là: E = 32.0
E = 32.0
Lần chạy thứ 1
Xét trọng số thứ 3 của ma trận A24:
Tập cha mẹ: [[-9.73, 5.44], [5.63, 4.83], [-3.76, 3.46]]
Tập con: [-9.44, 5.83, -3.46]
Xét từng cặp cha mẹ:
Sai số ứng với con = -9.44 là: E = 32.0
Sai số ứng với con = 5.83 là: E = 32.0
Sai số ứng với con = -3.46 là: E = 32.0
E = 32.0
Lần chạy thứ 1
Xét trọng số thứ 4 của ma trận A24:
Tập cha mẹ: [[-8.15, -9.79], [1.09, -2.38], [8.14, -1.18]]
Tập con: [-8.79, 1.38, 8.18]
Xét từng cặp cha mẹ:
Sai số ứng với con = -8.79 là: E = 32.0
Sai số ứng với con = 1.38 là: E = 30.0
Sai số ứng với con = 8.18 là: E = 30.0
E = 30.0
Lần chạy thứ 1
Xét trọng số thứ 5 của ma trận A24:
Tập cha mẹ: [[8.76, -0.85], [2.27, -9.95], [5.94, -4.88]]
Tập con: [8.85, 2.95, 5.88]
Xét từng cặp cha mẹ:
Sai số ứng với con = 8.85 là: E = 30.0
Sai số ứng với con = 2.95 là: E = 30.0
Sai số ứng với con = 5.88 là: E = 30.0
E = 30.0
Lần chạy thứ 1
Xét trọng số thứ 1 của ma trận A25:
Tập cha mẹ: [[-5.98, -3.4], [4.2, 2.79], [5.76, -8.65]]
Tập con: [-5.4, 4.79, 5.65]
Xét từng cặp cha mẹ:
Sai số ứng với con = -5.4 là: E = 30.0
Sai số ứng với con = 4.79 là: E = 30.0
Sai số ứng với con = 5.65 là: E = 30.0
E = 30.0
Lần chạy thứ 1
Xét trọng số thứ 2 của ma trận A25:
Tập cha mẹ: [[7.39, 7.67], [-7.88, -2.66], [1.01, 5.31]]
Tập con: [7.67, -7.66, 1.31]
Xét từng cặp cha mẹ:
Sai số ứng với con = 7.67 là: E = 30.0
Sai số ứng với con = -7.66 là: E = 30.0
Sai số ứng với con = 1.31 là: E = 30.0
E = 30.0
Lần chạy thứ 1
Xét trọng số thứ 3 của ma trận A25:
Tập cha mẹ: [[-0.85, 2.79], [6.4, 3.29], [5.52, -5.36]]
Tập con: [-0.79, 6.29, 5.36]
Xét từng cặp cha mẹ:
Sai số ứng với con = -0.79 là: E = 30.0
Sai số ứng với con = 6.29 là: E = 30.0
Sai số ứng với con = 5.36 là: E = 30.0
E = 30.0
Lần chạy thứ 1
Xét trọng số thứ 4 của ma trận A25:
Tập cha mẹ: [[-2.57, -4.41], [-8.58, 2.02], [1.0, 8.72]]
Tập con: [-2.41, -8.02, 1.72]
Xét từng cặp cha mẹ:
Sai số ứng với con = -2.41 là: E = 30.0
Sai số ứng với con = -8.02 là: E = 32.0
Sai số ứng với con = 1.72 là: E = 30.0
E = 30.0
Lần chạy thứ 1
Xét trọng số thứ 5 của ma trận A25:
Tập cha mẹ: [[2.66, 6.26], [1.91, -7.41], [-9.65, 2.82]]
Tập con: [2.26, 1.41, -9.82]
Xét từng cặp cha mẹ:
Sai số ứng với con = 2.26 là: E = 30.0
Sai số ứng với con = 1.41 là: E = 30.0
Sai số ứng với con = -9.82 là: E = 34.0
E = 30.0
Lần chạy thứ 1
Xét trọng số thứ 1 của ma trận A26:
Tập cha mẹ: [[3.47, 6.18], [3.57, 7.72], [9.46, -7.25]]
Tập con: [3.18, 3.72, 9.25]
Xét từng cặp cha mẹ:
Sai số ứng với con = 3.18 là: E = 30.0
Sai số ứng với con = 3.72 là: E = 30.0
Sai số ứng với con = 9.25 là: E = 30.0
E = 30.0
Lần chạy thứ 1
Xét trọng số thứ 2 của ma trận A26:
Tập cha mẹ: [[9.64, 4.8], [7.54, 4.32], [-3.42, -7.27]]
Tập con: [9.8, 7.32, -3.27]
Xét từng cặp cha mẹ:
Sai số ứng với con = 9.8 là: E = 32.0
Sai số ứng với con = 7.32 là: E = 30.0
Sai số ứng với con = -3.27 là: E = 32.0
E = 30.0
Lần chạy thứ 1
Xét trọng số thứ 3 của ma trận A26:
Tập cha mẹ: [[-7.13, -1.08], [-3.89, 3.66], [2.36, -0.08]]
Tập con: [-7.08, -3.66, 2.08]
Xét từng cặp cha mẹ:
Sai số ứng với con = -7.08 là: E = 30.0
Sai số ứng với con = -3.66 là: E = 28.0
Sai số ứng với con = 2.08 là: E = 28.0
E = 28.0
Lần chạy thứ 1
Xét trọng số thứ 4 của ma trận A26:
Tập cha mẹ: [[9.23, -5.97], [-5.26, 1.34], [-8.46, -8.77]]
Tập con: [9.97, -5.34, -8.77]
Xét từng cặp cha mẹ:
Sai số ứng với con = 9.97 là: E = 28.0
Sai số ứng với con = -5.34 là: E = 32.0
Sai số ứng với con = -8.77 là: E = 32.0
E = 28.0
Lần chạy thứ 1
Xét trọng số thứ 5 của ma trận A26:
Tập cha mẹ: [[-2.93, -8.09], [6.62, -7.01], [-9.77, -5.42]]
Tập con: [-2.09, 6.01, -9.42]
Xét từng cặp cha mẹ:
Sai số ứng với con = -2.09 là: E = 28.0
Sai số ứng với con = 6.01 là: E = 28.0
Sai số ứng với con = -9.42 là: E = 32.0
E = 28.0
Lần chạy thứ 1
Xét trọng số thứ 1 của ma trận A27:
Tập cha mẹ: [[2.1, 8.16], [-5.4, -9.55], [4.96, 2.09]]
Tập con: [2.16, -5.55, 4.09]
Xét từng cặp cha mẹ:
Sai số ứng với con = 2.16 là: E = 28.0
Sai số ứng với con = -5.55 là: E = 32.0
Sai số ứng với con = 4.09 là: E = 28.0
E = 28.0
Lần chạy thứ 1
Xét trọng số thứ 2 của ma trận A27:
Tập cha mẹ: [[-0.1, -3.22], [9.02, -6.73], [-7.78, -9.88]]
Tập con: [-0.22, 9.73, -7.88]
Xét từng cặp cha mẹ:
Sai số ứng với con = -0.22 là: E = 28.0
Sai số ứng với con = 9.73 là: E = 30.0
Sai số ứng với con = -7.88 là: E = 32.0
E = 28.0
Lần chạy thứ 1
Xét trọng số thứ 3 của ma trận A27:
Tập cha mẹ: [[3.63, -0.5], [2.55, -4.61], [-2.68, 1.91]]
Tập con: [3.5, 2.61, -2.91]
Xét từng cặp cha mẹ:
Sai số ứng với con = 3.5 là: E = 28.0
Sai số ứng với con = 2.61 là: E = 28.0
Sai số ứng với con = -2.91 là: E = 30.0
E = 28.0
Lần chạy thứ 1
Xét trọng số thứ 4 của ma trận A27:
Tập cha mẹ: [[5.61, -3.56], [9.77, 4.08], [-1.01, 3.6]]
Tập con: [5.56, 9.08, -1.6]
Xét từng cặp cha mẹ:
Sai số ứng với con = 5.56 là: E = 28.0
Sai số ứng với con = 9.08 là: E = 28.0
Sai số ứng với con = -1.6 là: E = 30.0
E = 28.0
Lần chạy thứ 1
Xét trọng số thứ 5 của ma trận A27:
Tập cha mẹ: [[-6.11, -9.09], [-2.33, 2.73], [0.44, -8.17]]
Tập con: [-6.09, -2.73, 0.17]
Xét từng cặp cha mẹ:
Sai số ứng với con = -6.09 là: E = 28.0
Sai số ứng với con = -2.73 là: E = 32.0
Sai số ứng với con = 0.17 là: E = 32.0
E = 28.0
Lần chạy thứ 1
Xét trọng số thứ 1 của ma trận A28:
Tập cha mẹ: [[6.7, -6.85], [6.59, -0.73], [9.52, -2.63]]
Tập con: [6.85, 6.73, 9.63]
Xét từng cặp cha mẹ:
Sai số ứng với con = 6.85 là: E = 30.0
Sai số ứng với con = 6.73 là: E = 30.0
Sai số ứng với con = 9.63 là: E = 28.0
E = 28.0
Lần chạy thứ 1
Xét trọng số thứ 2 của ma trận A28:
Tập cha mẹ: [[-6.8, -9.53], [6.5, -1.65], [1.93, -6.54]]
Tập con: [-6.53, 6.65, 1.54]
Xét từng cặp cha mẹ:
Sai số ứng với con = -6.53 là: E = 36.0
Sai số ứng với con = 6.65 là: E = 30.0
Sai số ứng với con = 1.54 là: E = 32.0
E = 28.0
Lần chạy thứ 1
Xét trọng số thứ 3 của ma trận A28:
Tập cha mẹ: [[1.29, -3.36], [-6.6, -1.36], [-1.57, -3.45]]
Tập con: [1.36, -6.36, -1.45]
Xét từng cặp cha mẹ:
Sai số ứng với con = 1.36 là: E = 28.0
Sai số ứng với con = -6.36 là: E = 28.0
Sai số ứng với con = -1.45 là: E = 32.0
E = 28.0
Lần chạy thứ 1
Xét trọng số thứ 4 của ma trận A28:
Tập cha mẹ: [[-4.15, 0.46], [-3.33, 0.69], [0.92, -5.59]]
Tập con: [-4.46, -3.69, 0.59]
Xét từng cặp cha mẹ:
Sai số ứng với con = -4.46 là: E = 26.0
Sai số ứng với con = -3.69 là: E = 26.0
Sai số ứng với con = 0.59 là: E = 26.0
E = 26.0
Lần chạy thứ 1
Xét trọng số thứ 5 của ma trận A28:
Tập cha mẹ: [[-3.95, -3.26], [0.21, -8.56], [9.34, 6.57]]
Tập con: [-3.26, 0.56, 9.57]
Xét từng cặp cha mẹ:
Sai số ứng với con = -3.26 là: E = 26.0
Sai số ứng với con = 0.56 là: E = 26.0
Sai số ứng với con = 9.57 là: E = 30.0
E = 26.0
Lần chạy thứ 1
Xét trọng số thứ 1 của ma trận A29:
Tập cha mẹ: [[-0.43, 9.88], [6.89, -0.86], [-5.12, -4.58]]
Tập con: [-0.88, 6.86, -5.58]
Xét từng cặp cha mẹ:
Sai số ứng với con = -0.88 là: E = 24.0
Sai số ứng với con = 6.86 là: E = 26.0
Sai số ứng với con = -5.58 là: E = 22.0
E = 22.0
Lần chạy thứ 1
Xét trọng số thứ 2 của ma trận A29:
Tập cha mẹ: [[2.28, 0.05], [6.47, 7.7], [3.85, -0.08]]
Tập con: [2.05, 6.7, 3.08]
Xét từng cặp cha mẹ:
Sai số ứng với con = 2.05 là: E = 22.0
Sai số ứng với con = 6.7 là: E = 26.0
Sai số ứng với con = 3.08 là: E = 26.0
E = 22.0
Lần chạy thứ 1
Xét trọng số thứ 3 của ma trận A29:
Tập cha mẹ: [[9.03, 4.12], [6.41, 9.08], [3.21, -1.18]]
Tập con: [9.12, 6.08, 3.18]
Xét từng cặp cha mẹ:
Sai số ứng với con = 9.12 là: E = 32.0
Sai số ứng với con = 6.08 là: E = 26.0
Sai số ứng với con = 3.18 là: E = 26.0
E = 22.0
Lần chạy thứ 1
Xét trọng số thứ 4 của ma trận A29:
Tập cha mẹ: [[-9.86, -5.63], [-4.34, -1.11], [-8.23, 8.09]]
Tập con: [-9.63, -4.11, -8.09]
Xét từng cặp cha mẹ:
Sai số ứng với con = -9.63 là: E = 24.0
Sai số ứng với con = -4.11 là: E = 24.0
Sai số ứng với con = -8.09 là: E = 20.0
E = 20.0
Lần chạy thứ 1
Xét trọng số thứ 5 của ma trận A29:
Tập cha mẹ: [[-7.43, -7.52], [-9.59, 1.94], [3.06, 5.21]]
Tập con: [-7.52, -9.94, 3.21]
Xét từng cặp cha mẹ:
Sai số ứng với con = -7.52 là: E = 20.0
Sai số ứng với con = -9.94 là: E = 20.0
Sai số ứng với con = 3.21 là: E = 18.0
E = 18.0
Lần chạy thứ 1
Xét trọng số thứ 1 của ma trận B1:
Tập cha mẹ: [[-6.34, 5.02], [-2.58, 3.99], [-1.52, 7.31]]
Tập con: [-6.02, -2.99, -1.31]
Xét từng cặp cha mẹ:
Sai số ứng với con = -6.02 là: E = 20.0
Sai số ứng với con = -2.99 là: E = 22.0
Sai số ứng với con = -1.31 là: E = 20.0
E = 18.0
Lần chạy thứ 1
Xét trọng số thứ 2 của ma trận B1:
Tập cha mẹ: [[0.38, 3.52], [-7.0, -7.45], [5.6, 9.83]]
Tập con: [0.52, -7.45, 5.83]
Xét từng cặp cha mẹ:
Sai số ứng với con = 0.52 là: E = 22.0
Sai số ứng với con = -7.45 là: E = 20.0
Sai số ứng với con = 5.83 là: E = 24.0
E = 18.0
Lần chạy thứ 1
Xét trọng số thứ 3 của ma trận B1:
Tập cha mẹ: [[8.78, -8.86], [1.57, 9.5], [-7.62, -5.83]]
Tập con: [8.86, 1.5, -7.83]
Xét từng cặp cha mẹ:
Sai số ứng với con = 8.86 là: E = 22.0
Sai số ứng với con = 1.5 là: E = 22.0
Sai số ứng với con = -7.83 là: E = 20.0
E = 18.0
Lần chạy thứ 1
Xét trọng số thứ 4 của ma trận B1:
Tập cha mẹ: [[2.55, 0.96], [1.93, 3.95], [-9.47, 6.28]]
Tập con: [2.96, 1.95, -9.28]
Xét từng cặp cha mẹ:
Sai số ứng với con = 2.96 là: E = 22.0
Sai số ứng với con = 1.95 là: E = 20.0
Sai số ứng với con = -9.28 là: E = 20.0
E = 18.0
Lần chạy thứ 1
Xét trọng số thứ 5 của ma trận B1:
Tập cha mẹ: [[-9.49, 4.11], [3.62, -0.56], [3.65, -4.35]]
Tập con: [-9.11, 3.56, 3.35]
Xét từng cặp cha mẹ:
Sai số ứng với con = -9.11 là: E = 32.0
Sai số ứng với con = 3.56 là: E = 18.0
Sai số ứng với con = 3.35 là: E = 18.0
E = 18.0
Lần chạy thứ 1
Xét trọng số thứ 1 của ma trận B21:
Tập cha mẹ: [[7.98, 8.72], [-2.92, -0.43], [-7.89, 9.71]]
Tập con: [7.72, -2.43, -7.71]
Xét từng cặp cha mẹ:
Sai số ứng với con = 7.72 là: E = 28.0
Sai số ứng với con = -2.43 là: E = 22.0
Sai số ứng với con = -7.71 là: E = 20.0
E = 18.0
Lần chạy thứ 1
Xét trọng số thứ 2 của ma trận B21:
Tập cha mẹ: [[4.83, 5.36], [-0.49, 8.68], [8.87, -5.88]]
Tập con: [4.36, -0.68, 8.88]
Xét từng cặp cha mẹ:
Sai số ứng với con = 4.36 là: E = 22.0
Sai số ứng với con = -0.68 là: E = 22.0
Sai số ứng với con = 8.88 là: E = 24.0
E = 18.0
Lần chạy thứ 1
Xét trọng số thứ 3 của ma trận B21:
Tập cha mẹ: [[-3.45, 8.21], [-0.89, 1.92], [0.19, 5.59]]
Tập con: [-3.21, -0.92, 0.59]
Xét từng cặp cha mẹ:
Sai số ứng với con = -3.21 là: E = 26.0
Sai số ứng với con = -0.92 là: E = 20.0
Sai số ứng với con = 0.59 là: E = 24.0
E = 18.0
Lần chạy thứ 1
Xét trọng số thứ 4 của ma trận B21:
Tập cha mẹ: [[8.06, 8.48], [-9.99, 6.03], [-4.19, 8.6]]
Tập con: [8.48, -9.03, -4.6]
Xét từng cặp cha mẹ:
Sai số ứng với con = 8.48 là: E = 24.0
Sai số ứng với con = -9.03 là: E = 20.0
Sai số ứng với con = -4.6 là: E = 22.0
E = 18.0
Lần chạy thứ 1
Xét trọng số thứ 5 của ma trận B21:
Tập cha mẹ: [[-4.83, 0.28], [9.84, -9.75], [1.12, 0.83]]
Tập con: [-4.28, 9.75, 1.83]
Xét từng cặp cha mẹ:
Sai số ứng với con = -4.28 là: E = 28.0
Sai số ứng với con = 9.75 là: E = 24.0
Sai số ứng với con = 1.83 là: E = 20.0
E = 18.0
Lần chạy thứ 1
Xét trọng số thứ 1 của ma trận B22:
Tập cha mẹ: [[-6.97, -8.2], [-1.98, -8.97], [-9.03, 1.83]]
Tập con: [-6.2, -1.97, -9.83]
Xét từng cặp cha mẹ:
Sai số ứng với con = -6.2 là: E = 26.0
Sai số ứng với con = -1.97 là: E = 24.0
Sai số ứng với con = -9.83 là: E = 20.0
E = 18.0
Lần chạy thứ 1
Xét trọng số thứ 2 của ma trận B22:
Tập cha mẹ: [[0.13, -5.97], [2.72, -4.81], [9.95, -2.29]]
Tập con: [0.97, 2.81, 9.29]
Xét từng cặp cha mẹ:
Sai số ứng với con = 0.97 là: E = 18.0
Sai số ứng với con = 2.81 là: E = 20.0
Sai số ứng với con = 9.29 là: E = 22.0
E = 18.0
Lần chạy thứ 1
Xét trọng số thứ 3 của ma trận B22:
Tập cha mẹ: [[-5.42, -2.94], [-6.07, 7.35], [5.76, -9.12]]
Tập con: [-5.94, -6.35, 5.12]
Xét từng cặp cha mẹ:
Sai số ứng với con = -5.94 là: E = 22.0
Sai số ứng với con = -6.35 là: E = 20.0
Sai số ứng với con = 5.12 là: E = 18.0
E = 18.0
Lần chạy thứ 1
Xét trọng số thứ 4 của ma trận B22:
Tập cha mẹ: [[-5.39, -3.31], [2.72, 5.13], [6.24, 1.71]]
Tập con: [-5.31, 2.13, 6.71]
Xét từng cặp cha mẹ:
Sai số ứng với con = -5.31 là: E = 32.0
Sai số ứng với con = 2.13 là: E = 24.0
Sai số ứng với con = 6.71 là: E = 24.0
E = 18.0
Lần chạy thứ 1
Xét trọng số thứ 5 của ma trận B22:
Tập cha mẹ: [[5.09, -5.15], [5.32, 1.16], [7.52, -0.95]]
Tập con: [5.15, 5.16, 7.95]
Xét từng cặp cha mẹ:
Sai số ứng với con = 5.15 là: E = 18.0
Sai số ứng với con = 5.16 là: E = 18.0
Sai số ứng với con = 7.95 là: E = 22.0
E = 18.0
Lần chạy thứ 1
Xét trọng số thứ 1 của ma trận B23:
Tập cha mẹ: [[3.37, 7.66], [-9.5, -1.71], [-0.33, -3.95]]
Tập con: [3.66, -9.71, -0.95]
Xét từng cặp cha mẹ:
Sai số ứng với con = 3.66 là: E = 22.0
Sai số ứng với con = -9.71 là: E = 20.0
Sai số ứng với con = -0.95 là: E = 20.0
E = 18.0
Lần chạy thứ 1
Xét trọng số thứ 2 của ma trận B23:
Tập cha mẹ: [[-1.88, -2.1], [9.34, -3.08], [-6.51, 7.72]]
Tập con: [-1.1, 9.08, -6.72]
Xét từng cặp cha mẹ:
Sai số ứng với con = -1.1 là: E = 26.0
Sai số ứng với con = 9.08 là: E = 22.0
Sai số ứng với con = -6.72 là: E = 20.0
E = 18.0
Lần chạy thứ 1
Xét trọng số thứ 3 của ma trận B23:
Tập cha mẹ: [[-4.7, -1.44], [-3.56, 7.44], [-0.4, -7.47]]
Tập con: [-4.44, -3.44, -0.47]
Xét từng cặp cha mẹ:
Sai số ứng với con = -4.44 là: E = 28.0
Sai số ứng với con = -3.44 là: E = 22.0
Sai số ứng với con = -0.47 là: E = 20.0
E = 18.0
Lần chạy thứ 1
Xét trọng số thứ 4 của ma trận B23:
Tập cha mẹ: [[9.01, 2.55], [-0.81, -4.28], [6.61, 4.7]]
Tập con: [9.55, -0.28, 6.7]
Xét từng cặp cha mẹ:
Sai số ứng với con = 9.55 là: E = 24.0
Sai số ứng với con = -0.28 là: E = 20.0
Sai số ứng với con = 6.7 là: E = 24.0
E = 18.0
Lần chạy thứ 1
Xét trọng số thứ 5 của ma trận B23:
Tập cha mẹ: [[6.65, 1.85], [-5.05, 5.4], [1.84, -8.95]]
Tập con: [6.85, -5.4, 1.95]
Xét từng cặp cha mẹ:
Sai số ứng với con = 6.85 là: E = 24.0
Sai số ứng với con = -5.4 là: E = 18.0
Sai số ứng với con = 1.95 là: E = 24.0
E = 18.0
Lần chạy thứ 1
Xét trọng số thứ 1 của ma trận B24:
Tập cha mẹ: [[0.24, -9.08], [9.87, -2.97], [5.07, 1.93]]
Tập con: [0.08, 9.97, 5.93]
Xét từng cặp cha mẹ:
Sai số ứng với con = 0.08 là: E = 22.0
Sai số ứng với con = 9.97 là: E = 22.0
Sai số ứng với con = 5.93 là: E = 24.0
E = 18.0
Lần chạy thứ 1
Xét trọng số thứ 2 của ma trận B24:
Tập cha mẹ: [[-5.47, 6.65], [5.29, -5.33], [-9.11, 4.63]]
Tập con: [-5.65, 5.33, -9.63]
Xét từng cặp cha mẹ:
Sai số ứng với con = -5.65 là: E = 24.0
Sai số ứng với con = 5.33 là: E = 22.0
Sai số ứng với con = -9.63 là: E = 20.0
E = 18.0
Lần chạy thứ 1
Xét trọng số thứ 3 của ma trận B24:
Tập cha mẹ: [[-0.67, 1.71], [-9.58, 0.12], [6.84, -8.77]]
Tập con: [-0.71, -9.12, 6.77]
Xét từng cặp cha mẹ:
Sai số ứng với con = -0.71 là: E = 20.0
Sai số ứng với con = -9.12 là: E = 20.0
Sai số ứng với con = 6.77 là: E = 24.0
E = 18.0
Lần chạy thứ 1
Xét trọng số thứ 4 của ma trận B24:
Tập cha mẹ: [[6.08, -4.7], [4.64, -3.14], [1.34, 0.43]]
Tập con: [6.7, 4.14, 1.43]
Xét từng cặp cha mẹ:
Sai số ứng với con = 6.7 là: E = 22.0
Sai số ứng với con = 4.14 là: E = 18.0
Sai số ứng với con = 1.43 là: E = 22.0
E = 18.0
Lần chạy thứ 1
Xét trọng số thứ 5 của ma trận B24:
Tập cha mẹ: [[4.51, -0.76], [-4.17, -9.56], [-1.62, 4.72]]
Tập con: [4.76, -4.56, -1.72]
Xét từng cặp cha mẹ:
Sai số ứng với con = 4.76 là: E = 18.0
Sai số ứng với con = -4.56 là: E = 20.0
Sai số ứng với con = -1.72 là: E = 20.0
E = 18.0
Lần chạy thứ 1
Xét trọng số thứ 1 của ma trận B25:
Tập cha mẹ: [[2.73, -0.39], [1.62, -2.48], [-3.68, 7.49]]
Tập con: [2.39, 1.48, -3.49]
Xét từng cặp cha mẹ:
Sai số ứng với con = 2.39 là: E = 18.0
Sai số ứng với con = 1.48 là: E = 24.0
Sai số ứng với con = -3.49 là: E = 18.0
E = 18.0
Lần chạy thứ 1
Xét trọng số thứ 2 của ma trận B25:
Tập cha mẹ: [[9.33, 2.76], [-7.07, -7.11], [8.29, -2.04]]
Tập con: [9.76, -7.11, 8.04]
Xét từng cặp cha mẹ:
Sai số ứng với con = 9.76 là: E = 20.0
Sai số ứng với con = -7.11 là: E = 22.0
Sai số ứng với con = 8.04 là: E = 22.0
E = 18.0
Lần chạy thứ 1
Xét trọng số thứ 3 của ma trận B25:
Tập cha mẹ: [[7.88, 5.71], [5.75, -4.27], [-6.0, -1.83]]
Tập con: [7.71, 5.27, -6.83]
Xét từng cặp cha mẹ:
Sai số ứng với con = 7.71 là: E = 20.0
Sai số ứng với con = 5.27 là: E = 22.0
Sai số ứng với con = -6.83 là: E = 20.0
E = 18.0
Lần chạy thứ 1
Xét trọng số thứ 4 của ma trận B25:
Tập cha mẹ: [[8.66, 5.07], [-7.47, -3.67], [5.23, -7.19]]
Tập con: [8.07, -7.67, 5.19]
Xét từng cặp cha mẹ:
Sai số ứng với con = 8.07 là: E = 24.0
Sai số ứng với con = -7.67 là: E = 20.0
Sai số ứng với con = 5.19 là: E = 22.0
E = 18.0
Lần chạy thứ 1
Xét trọng số thứ 5 của ma trận B25:
Tập cha mẹ: [[-2.72, -1.97], [2.39, -8.62], [6.79, 5.38]]
Tập con: [-2.97, 2.62, 6.38]
Xét từng cặp cha mẹ:
Sai số ứng với con = -2.97 là: E = 18.0
Sai số ứng với con = 2.62 là: E = 22.0
Sai số ứng với con = 6.38 là: E = 22.0
E = 18.0
Lần chạy thứ 1
Xét trọng số thứ 1 của ma trận B26:
Tập cha mẹ: [[-6.15, -1.4], [9.35, -5.91], [-9.6, -5.93]]
Tập con: [-6.4, 9.91, -9.93]
Xét từng cặp cha mẹ:
Sai số ứng với con = -6.4 là: E = 18.0
Sai số ứng với con = 9.91 là: E = 28.0
Sai số ứng với con = -9.93 là: E = 16.0
E = 16.0
Lần chạy thứ 1
Xét trọng số thứ 2 của ma trận B26:
Tập cha mẹ: [[2.8, 9.54], [-6.79, 6.87], [-4.04, -8.28]]
Tập con: [2.54, -6.87, -4.28]
Xét từng cặp cha mẹ:
Sai số ứng với con = 2.54 là: E = 16.0
Sai số ứng với con = -6.87 là: E = 14.0
Sai số ứng với con = -4.28 là: E = 18.0
E = 14.0
Lần chạy thứ 1
Xét trọng số thứ 3 của ma trận B26:
Tập cha mẹ: [[-3.31, 6.36], [6.73, -9.51], [3.25, -6.59]]
Tập con: [-3.36, 6.51, 3.59]
Xét từng cặp cha mẹ:
Sai số ứng với con = -3.36 là: E = 22.0
Sai số ứng với con = 6.51 là: E = 26.0
Sai số ứng với con = 3.59 là: E = 20.0
E = 14.0
Lần chạy thứ 1
Xét trọng số thứ 4 của ma trận B26:
Tập cha mẹ: [[-7.61, -5.15], [6.0, -8.98], [6.03, -2.71]]
Tập con: [-7.15, 6.98, 6.71]
Xét từng cặp cha mẹ:
Sai số ứng với con = -7.15 là: E = 12.0
Sai số ứng với con = 6.98 là: E = 20.0
Sai số ứng với con = 6.71 là: E = 18.0
E = 12.0
Lần chạy thứ 1
Xét trọng số thứ 5 của ma trận B26:
Tập cha mẹ: [[6.73, -3.48], [7.04, 0.68], [4.55, 0.42]]
Tập con: [6.48, 7.68, 4.42]
Xét từng cặp cha mẹ:
Sai số ứng với con = 6.48 là: E = 12.0
Sai số ứng với con = 7.68 là: E = 20.0
Sai số ứng với con = 4.42 là: E = 18.0
E = 12.0
Lần chạy thứ 1
Xét trọng số thứ 1 của ma trận B27:
Tập cha mẹ: [[-8.78, 9.36], [-3.66, 7.69], [6.46, -1.74]]
Tập con: [-8.36, -3.69, 6.74]
Xét từng cặp cha mẹ:
Sai số ứng với con = -8.36 là: E = 20.0
Sai số ứng với con = -3.69 là: E = 16.0
Sai số ứng với con = 6.74 là: E = 24.0
E = 12.0
Lần chạy thứ 1
Xét trọng số thứ 2 của ma trận B27:
Tập cha mẹ: [[-0.38, 8.76], [5.46, 8.97], [-7.71, -2.02]]
Tập con: [-0.76, 5.97, -7.02]
Xét từng cặp cha mẹ:
Sai số ứng với con = -0.76 là: E = 14.0
Sai số ứng với con = 5.97 là: E = 20.0
Sai số ứng với con = -7.02 là: E = 12.0
E = 12.0
Lần chạy thứ 1
Xét trọng số thứ 3 của ma trận B27:
Tập cha mẹ: [[-9.12, 6.55], [8.68, -8.36], [7.5, -0.8]]
Tập con: [-9.55, 8.36, 7.8]
Xét từng cặp cha mẹ:
Sai số ứng với con = -9.55 là: E = 20.0
Sai số ứng với con = 8.36 là: E = 20.0
Sai số ứng với con = 7.8 là: E = 20.0
E = 12.0
Lần chạy thứ 1
Xét trọng số thứ 4 của ma trận B27:
Tập cha mẹ: [[-9.29, 7.52], [5.16, 2.89], [-6.06, -6.8]]
Tập con: [-9.52, 5.89, -6.8]
Xét từng cặp cha mẹ:
Sai số ứng với con = -9.52 là: E = 14.0
Sai số ứng với con = 5.89 là: E = 20.0
Sai số ứng với con = -6.8 là: E = 12.0
E = 12.0
Lần chạy thứ 1
Xét trọng số thứ 5 của ma trận B27:
Tập cha mẹ: [[-4.04, 2.54], [8.65, 8.74], [-7.03, -9.6]]
Tập con: [-4.54, 8.74, -7.6]
Xét từng cặp cha mẹ:
Sai số ứng với con = -4.54 là: E = 16.0
Sai số ứng với con = 8.74 là: E = 20.0
Sai số ứng với con = -7.6 là: E = 12.0
E = 12.0
Lần chạy thứ 1
Xét trọng số thứ 1 của ma trận B28:
Tập cha mẹ: [[5.38, -6.95], [6.67, 9.95], [-8.64, 0.32]]
Tập con: [5.95, 6.95, -8.32]
Xét từng cặp cha mẹ:
Sai số ứng với con = 5.95 là: E = 14.0
Sai số ứng với con = 6.95 là: E = 22.0
Sai số ứng với con = -8.32 là: E = 12.0
E = 12.0
Lần chạy thứ 1
Xét trọng số thứ 2 của ma trận B28:
Tập cha mẹ: [[9.38, 5.02], [9.06, -4.46], [9.78, 9.24]]
Tập con: [9.02, 9.46, 9.24]
Xét từng cặp cha mẹ:
Sai số ứng với con = 9.02 là: E = 18.0
Sai số ứng với con = 9.46 là: E = 20.0
Sai số ứng với con = 9.24 là: E = 20.0
E = 12.0
Lần chạy thứ 1
Xét trọng số thứ 3 của ma trận B28:
Tập cha mẹ: [[-3.89, -2.62], [-6.8, -8.91], [-5.65, -4.08]]
Tập con: [-3.62, -6.91, -5.08]
Xét từng cặp cha mẹ:
Sai số ứng với con = -3.62 là: E = 16.0
Sai số ứng với con = -6.91 là: E = 12.0
Sai số ứng với con = -5.08 là: E = 16.0
E = 12.0
Lần chạy thứ 1
Xét trọng số thứ 4 của ma trận B28:
Tập cha mẹ: [[-3.97, 9.43], [8.23, -4.18], [-1.73, 9.7]]
Tập con: [-3.43, 8.18, -1.7]
Xét từng cặp cha mẹ:
Sai số ứng với con = -3.43 là: E = 22.0
Sai số ứng với con = 8.18 là: E = 20.0
Sai số ứng với con = -1.7 là: E = 16.0
E = 12.0
Lần chạy thứ 1
Xét trọng số thứ 5 của ma trận B28:
Tập cha mẹ: [[9.09, 8.49], [3.08, 7.77], [-9.7, -9.4]]
Tập con: [9.49, 3.77, -9.4]
Xét từng cặp cha mẹ:
Sai số ứng với con = 9.49 là: E = 14.0
Sai số ứng với con = 3.77 là: E = 18.0
Sai số ứng với con = -9.4 là: E = 14.0
E = 12.0
Lần chạy thứ 1
Xét trọng số thứ 1 của ma trận B29:
Tập cha mẹ: [[-2.75, 2.62], [8.18, -6.28], [6.13, 1.2]]
Tập con: [-2.62, 8.28, 6.2]
Xét từng cặp cha mẹ:
Sai số ứng với con = -2.62 là: E = 16.0
Sai số ứng với con = 8.28 là: E = 20.0
Sai số ứng với con = 6.2 là: E = 22.0
E = 12.0
Lần chạy thứ 1
Xét trọng số thứ 2 của ma trận B29:
Tập cha mẹ: [[4.25, -3.45], [5.13, 8.05], [9.58, 4.4]]
Tập con: [4.45, 5.05, 9.4]
Xét từng cặp cha mẹ:
Sai số ứng với con = 4.45 là: E = 14.0
Sai số ứng với con = 5.05 là: E = 20.0
Sai số ứng với con = 9.4 là: E = 20.0
E = 12.0
Lần chạy thứ 1
Xét trọng số thứ 3 của ma trận B29:
Tập cha mẹ: [[5.66, -5.01], [-8.63, -5.91], [9.7, 3.51]]
Tập con: [5.01, -8.91, 9.51]
Xét từng cặp cha mẹ:
Sai số ứng với con = 5.01 là: E = 14.0
Sai số ứng với con = -8.91 là: E = 12.0
Sai số ứng với con = 9.51 là: E = 20.0
E = 12.0
Lần chạy thứ 1
Xét trọng số thứ 4 của ma trận B29:
Tập cha mẹ: [[-6.51, -7.63], [-3.3, 3.55], [-6.26, -0.85]]
Tập con: [-6.63, -3.55, -6.85]
Xét từng cặp cha mẹ:
Sai số ứng với con = -6.63 là: E = 20.0
Sai số ứng với con = -3.55 là: E = 16.0
Sai số ứng với con = -6.85 là: E = 12.0
E = 12.0
Lần chạy thứ 1
Xét trọng số thứ 5 của ma trận B29:
Tập cha mẹ: [[-7.7, 4.47], [-9.42, -5.35], [-4.67, 4.77]]
Tập con: [-7.47, -9.35, -4.77]
Xét từng cặp cha mẹ:
Sai số ứng với con = -7.47 là: E = 14.0
Sai số ứng với con = -9.35 là: E = 14.0
Sai số ứng với con = -4.77 là: E = 16.0
E = 12.0
Lần chạy thứ 1
Xét trọng số thứ 1 của ma trận B1:
Tập cha mẹ: [[-0.3, -5.83], [6.33, 6.09], [-9.78, 7.9]]
Tập con: [-0.83, 6.09, -9.9]
Xét từng cặp cha mẹ:
Sai số ứng với con = -0.83 là: E = 14.0
Sai số ứng với con = 6.09 là: E = 20.0
Sai số ứng với con = -9.9 là: E = 12.0
A1 = [[-2.75 -4.92 -3.28]
 [-6.15 -2.89 -6.15]
 [-3.28 -4.92 -2.75]]
A21 = [[-0.9   4.22 -4.1 ]
 [-9.9  -1.33 -9.9 ]
 [-4.1   4.22 -0.9 ]]
A22 = [[-2.3   1.8   8.63]
 [ 6.21 -3.14  6.21]
 [ 8.63  1.8  -2.3 ]]
A23 = [[ 7.52 -4.63 -8.94]
 [ 5.78  7.82  5.78]
 [-8.94 -4.63  7.52]]
A24 = [[-0.91  1.63 -9.44]
 [-8.79  8.85 -8.79]
 [-9.44  1.63 -0.91]]
A25 = [[-5.4   7.67 -0.79]
 [-2.41  2.26 -2.41]
 [-0.79  7.67 -5.4 ]]
A26 = [[ 3.18  2.   -7.08]
 [ 9.97 -2.09  9.97]
 [-7.08  2.    3.18]]
A27 = [[ 2.16 -0.22  3.5 ]
 [ 5.56 -6.09  5.56]
 [ 3.5  -0.22  2.16]]
A28 = [[ 1.    2.    1.36]
 [-4.46 -3.26 -4.46]
 [ 1.36  2.    1.  ]]
A29 = [[-0.88  2.05  3.  ]
 [ 4.   -7.52  4.  ]
 [ 3.    2.05 -0.88]]
B1 = [[1. 2. 3.]
 [4. 5. 4.]
 [3. 2. 1.]]
B21 = [[1. 2. 3.]
 [4. 5. 4.]
 [3. 2. 1.]]
B22 = [[1.   0.97 3.  ]
 [4.   5.15 4.  ]
 [3.   0.97 1.  ]]
B23 = [[1. 2. 3.]
 [4. 5. 4.]
 [3. 2. 1.]]
B24 = [[1.   2.   3.  ]
 [4.   4.76 4.  ]
 [3.   2.   1.  ]]
B25 = [[ 2.39  2.    3.  ]
 [ 4.   -2.97  4.  ]
 [ 3.    2.    2.39]]
B26 = [[-6.4   2.54  3.  ]
 [-7.15  6.48 -7.15]
 [ 3.    2.54 -6.4 ]]
B27 = [[1. 2. 3.]
 [4. 5. 4.]
 [3. 2. 1.]]
B28 = [[1. 2. 3.]
 [4. 5. 4.]
 [3. 2. 1.]]
B29 = [[1. 2. 3.]
 [4. 5. 4.]
 [3. 2. 1.]]
I = -1.0
E = 12.0
Lần chạy thứ 2
Xét trọng số thứ 1 của ma trận A1:
E = 10.0
Lần chạy thứ 2
Xét trọng số thứ 2 của ma trận A1:
E = 10.0
Lần chạy thứ 2
Xét trọng số thứ 3 của ma trận A1:
E = 10.0
Lần chạy thứ 2
Xét trọng số thứ 4 của ma trận A1:
E = 10.0
Lần chạy thứ 2
Xét trọng số thứ 5 của ma trận A1:
E = 10.0
Lần chạy thứ 2
Xét trọng số thứ 1 của ma trận A21:
E = 10.0
Lần chạy thứ 2
Xét trọng số thứ 2 của ma trận A21:
E = 10.0
Lần chạy thứ 2
Xét trọng số thứ 3 của ma trận A21:
E = 10.0
Lần chạy thứ 2
Xét trọng số thứ 4 của ma trận A21:
E = 10.0
Lần chạy thứ 2
Xét trọng số thứ 5 của ma trận A21:
E = 10.0
Lần chạy thứ 2
Xét trọng số thứ 1 của ma trận A22:
E = 10.0
Lần chạy thứ 2
Xét trọng số thứ 2 của ma trận A22:
E = 10.0
Lần chạy thứ 2
Xét trọng số thứ 3 của ma trận A22:
E = 10.0
Lần chạy thứ 2
Xét trọng số thứ 4 của ma trận A22:
E = 10.0
Lần chạy thứ 2
Xét trọng số thứ 5 của ma trận A22:
E = 10.0
Lần chạy thứ 2
Xét trọng số thứ 1 của ma trận A23:
E = 10.0
Lần chạy thứ 2
Xét trọng số thứ 2 của ma trận A23:
E = 10.0
Lần chạy thứ 2
Xét trọng số thứ 3 của ma trận A23:
E = 10.0
Lần chạy thứ 2
Xét trọng số thứ 4 của ma trận A23:
E = 10.0
Lần chạy thứ 2
Xét trọng số thứ 5 của ma trận A23:
E = 10.0
Lần chạy thứ 2
Xét trọng số thứ 1 của ma trận A24:
E = 10.0
Lần chạy thứ 2
Xét trọng số thứ 2 của ma trận A24:
E = 10.0
Lần chạy thứ 2
Xét trọng số thứ 3 của ma trận A24:
E = 10.0
Lần chạy thứ 2
Xét trọng số thứ 4 của ma trận A24:
E = 10.0
Lần chạy thứ 2
Xét trọng số thứ 5 của ma trận A24:
E = 10.0
Lần chạy thứ 2
Xét trọng số thứ 1 của ma trận A25:
E = 10.0
Lần chạy thứ 2
Xét trọng số thứ 2 của ma trận A25:
E = 10.0
Lần chạy thứ 2
Xét trọng số thứ 3 của ma trận A25:
E = 10.0
Lần chạy thứ 2
Xét trọng số thứ 4 của ma trận A25:
E = 10.0
Lần chạy thứ 2
Xét trọng số thứ 5 của ma trận A25:
E = 8.0
Lần chạy thứ 2
Xét trọng số thứ 1 của ma trận A26:
E = 8.0
Lần chạy thứ 2
Xét trọng số thứ 2 của ma trận A26:
E = 8.0
Lần chạy thứ 2
Xét trọng số thứ 3 của ma trận A26:
E = 8.0
Lần chạy thứ 2
Xét trọng số thứ 4 của ma trận A26:
E = 8.0
Lần chạy thứ 2
Xét trọng số thứ 5 của ma trận A26:
E = 8.0
Lần chạy thứ 2
Xét trọng số thứ 1 của ma trận A27:
E = 8.0
Lần chạy thứ 2
Xét trọng số thứ 2 của ma trận A27:
E = 8.0
Lần chạy thứ 2
Xét trọng số thứ 3 của ma trận A27:
E = 8.0
Lần chạy thứ 2
Xét trọng số thứ 4 của ma trận A27:
E = 8.0
Lần chạy thứ 2
Xét trọng số thứ 5 của ma trận A27:
E = 8.0
Lần chạy thứ 2
Xét trọng số thứ 1 của ma trận A28:
E = 8.0
Lần chạy thứ 2
Xét trọng số thứ 2 của ma trận A28:
E = 8.0
Lần chạy thứ 2
Xét trọng số thứ 3 của ma trận A28:
E = 8.0
Lần chạy thứ 2
Xét trọng số thứ 4 của ma trận A28:
E = 8.0
Lần chạy thứ 2
Xét trọng số thứ 5 của ma trận A28:
E = 8.0
Lần chạy thứ 2
Xét trọng số thứ 1 của ma trận A29:
E = 8.0
Lần chạy thứ 2
Xét trọng số thứ 2 của ma trận A29:
E = 8.0
Lần chạy thứ 2
Xét trọng số thứ 3 của ma trận A29:
E = 8.0
Lần chạy thứ 2
Xét trọng số thứ 4 của ma trận A29:
E = 8.0
Lần chạy thứ 2
Xét trọng số thứ 5 của ma trận A29:
E = 8.0
Lần chạy thứ 2
Xét trọng số thứ 1 của ma trận B1:
E = 8.0
Lần chạy thứ 2
Xét trọng số thứ 2 của ma trận B1:
E = 8.0
Lần chạy thứ 2
Xét trọng số thứ 3 của ma trận B1:
E = 8.0
Lần chạy thứ 2
Xét trọng số thứ 4 của ma trận B1:
E = 8.0
Lần chạy thứ 2
Xét trọng số thứ 5 của ma trận B1:
E = 8.0
Lần chạy thứ 2
Xét trọng số thứ 1 của ma trận B21:
E = 8.0
Lần chạy thứ 2
Xét trọng số thứ 2 của ma trận B21:
E = 8.0
Lần chạy thứ 2
Xét trọng số thứ 3 của ma trận B21:
E = 8.0
Lần chạy thứ 2
Xét trọng số thứ 4 của ma trận B21:
E = 8.0
Lần chạy thứ 2
Xét trọng số thứ 5 của ma trận B21:
E = 8.0
Lần chạy thứ 2
Xét trọng số thứ 1 của ma trận B22:
E = 8.0
Lần chạy thứ 2
Xét trọng số thứ 2 của ma trận B22:
E = 8.0
Lần chạy thứ 2
Xét trọng số thứ 3 của ma trận B22:
E = 8.0
Lần chạy thứ 2
Xét trọng số thứ 4 của ma trận B22:
E = 8.0
Lần chạy thứ 2
Xét trọng số thứ 5 của ma trận B22:
E = 8.0
Lần chạy thứ 2
Xét trọng số thứ 1 của ma trận B23:
E = 8.0
Lần chạy thứ 2
Xét trọng số thứ 2 của ma trận B23:
E = 8.0
Lần chạy thứ 2
Xét trọng số thứ 3 của ma trận B23:
E = 8.0
Lần chạy thứ 2
Xét trọng số thứ 4 của ma trận B23:
E = 8.0
Lần chạy thứ 2
Xét trọng số thứ 5 của ma trận B23:
E = 8.0
Lần chạy thứ 2
Xét trọng số thứ 1 của ma trận B24:
E = 8.0
Lần chạy thứ 2
Xét trọng số thứ 2 của ma trận B24:
E = 8.0
Lần chạy thứ 2
Xét trọng số thứ 3 của ma trận B24:
E = 8.0
Lần chạy thứ 2
Xét trọng số thứ 4 của ma trận B24:
E = 8.0
Lần chạy thứ 2
Xét trọng số thứ 5 của ma trận B24:
E = 8.0
Lần chạy thứ 2
Xét trọng số thứ 1 của ma trận B25:
E = 8.0
Lần chạy thứ 2
Xét trọng số thứ 2 của ma trận B25:
E = 6.0
Lần chạy thứ 2
Xét trọng số thứ 3 của ma trận B25:
E = 6.0
Lần chạy thứ 2
Xét trọng số thứ 4 của ma trận B25:
E = 4.0
Lần chạy thứ 2
Xét trọng số thứ 5 của ma trận B25:
E = 4.0
Lần chạy thứ 2
Xét trọng số thứ 1 của ma trận B26:
E = 4.0
Lần chạy thứ 2
Xét trọng số thứ 2 của ma trận B26:
E = 4.0
Lần chạy thứ 2
Xét trọng số thứ 3 của ma trận B26:
E = 4.0
Lần chạy thứ 2
Xét trọng số thứ 4 của ma trận B26:
E = 4.0
Lần chạy thứ 2
Xét trọng số thứ 5 của ma trận B26:
E = 4.0
Lần chạy thứ 2
Xét trọng số thứ 1 của ma trận B27:
E = 4.0
Lần chạy thứ 2
Xét trọng số thứ 2 của ma trận B27:
E = 4.0
Lần chạy thứ 2
Xét trọng số thứ 3 của ma trận B27:
E = 4.0
Lần chạy thứ 2
Xét trọng số thứ 4 của ma trận B27:
E = 4.0
Lần chạy thứ 2
Xét trọng số thứ 5 của ma trận B27:
E = 4.0
Lần chạy thứ 2
Xét trọng số thứ 1 của ma trận B28:
E = 4.0
Lần chạy thứ 2
Xét trọng số thứ 2 của ma trận B28:
E = 4.0
Lần chạy thứ 2
Xét trọng số thứ 3 của ma trận B28:
E = 4.0
Lần chạy thứ 2
Xét trọng số thứ 4 của ma trận B28:
E = 4.0
Lần chạy thứ 2
Xét trọng số thứ 5 của ma trận B28:
E = 4.0
Lần chạy thứ 2
Xét trọng số thứ 1 của ma trận B29:
E = 4.0
Lần chạy thứ 2
Xét trọng số thứ 2 của ma trận B29:
E = 2.0
Đạt đến mức sai số cho phép
Bộ trọng sau khi tối ưu: 
A1 = [[-9.62 -4.92 -3.28]
 [-6.15 -1.83 -6.15]
 [-3.28 -4.92 -9.62]]
A21 = [[ 4.17 -7.2  -4.1 ]
 [-1.45 -1.33 -1.45]
 [-4.1  -7.2   4.17]]
A22 = [[-2.3   1.8   8.51]
 [ 8.66 -3.76  8.66]
 [ 8.51  1.8  -2.3 ]]
A23 = [[ 7.67 -4.63 -8.94]
 [ 5.78  7.82  5.78]
 [-8.94 -4.63  7.67]]
A24 = [[-0.91 -3.17 -9.44]
 [-4.7   6.6  -4.7 ]
 [-9.44 -3.17 -0.91]]
A25 = [[-5.4   7.67 -0.79]
 [-2.41  5.   -2.41]
 [-0.79  7.67 -5.4 ]]
A26 = [[ 3.18  2.   -7.08]
 [ 9.97 -2.09  9.97]
 [-7.08  2.    3.18]]
A27 = [[ 2.55 -0.22  3.5 ]
 [ 5.56 -6.09  5.56]
 [ 3.5  -0.22  2.55]]
A28 = [[ 1.    8.63  1.36]
 [-4.46  0.31 -4.46]
 [ 1.36  8.63  1.  ]]
A29 = [[ 6.43  2.05  3.  ]
 [ 4.   -7.52  4.  ]
 [ 3.    2.05  6.43]]
B1 = [[-5.12  2.    3.  ]
 [ 8.75  5.    8.75]
 [ 3.    2.   -5.12]]
B21 = [[1.   1.62 3.  ]
 [4.68 7.32 4.68]
 [3.   1.62 1.  ]]
B22 = [[0.98 0.97 3.  ]
 [0.04 5.15 0.04]
 [3.   0.97 0.98]]
B23 = [[1.   2.   4.  ]
 [4.   7.29 4.  ]
 [4.   2.   1.  ]]
B24 = [[1.   2.   1.81]
 [4.   8.61 4.  ]
 [1.81 2.   1.  ]]
B25 = [[ 2.39 -5.47  3.  ]
 [ 4.   -2.97  4.  ]
 [ 3.   -5.47  2.39]]
B26 = [[-6.4   3.13  3.49]
 [-7.15  9.61 -7.15]
 [ 3.49  3.13 -6.4 ]]
B27 = [[ 1.    2.    3.  ]
 [-5.64  1.92 -5.64]
 [ 3.    2.    1.  ]]
B28 = [[1.   2.76 3.  ]
 [4.   5.   4.  ]
 [3.   2.76 1.  ]]
B29 = [[1.   0.76 3.  ]
 [4.   5.   4.  ]
 [3.   0.76 1.  ]]
I = -1.0
E = 2.0
