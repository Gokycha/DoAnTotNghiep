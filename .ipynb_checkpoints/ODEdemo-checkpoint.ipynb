{
 "cells": [
  {
   "cell_type": "code",
   "execution_count": 1,
   "id": "ccc2ca29",
   "metadata": {},
   "outputs": [
    {
     "name": "stdout",
     "output_type": "stream",
     "text": [
      "True\n"
     ]
    }
   ],
   "source": [
    "# Ta sử dụng hàm integrate của lớp ODE trong thư viện Scipy để giải phương trình vi phân f(t,y,y') = 0. Cụ thể như sau:\n",
    "# Phương trình: y' = y với y = y(t) (dễ thấy phương trình có nghiệm là y = e ^ t)\n",
    "# Lưu ý 1: hàm integrate không trả về một phương trình giống như khi giải một phương trình vi phân thông thường  mà chỉ tính gần đúng giá trị của y(t) khi cho trước t = t0.\n",
    "# Lưu ý 2: các con số cần được viết dưới dạng số thực (2 thì viết là 2.0)\n",
    "# Demo các sử dụng hàm:\n",
    "\n",
    "from scipy.integrate import ode #khai báo lớp ODE\n",
    "import numpy as np\n",
    "import matplotlib.pyplot as plt\n",
    "\n",
    "def f(t,y): # khởi tạo phương trình vi phân f theo dạng y' = .... (trong trường hợp này là y' = y)\n",
    "    return y # y' = y\n",
    "\n",
    "y0 = np.array([1.0]) # khởi tạo giá trị ban đầu cho y (mặc định là xét t = 0.0)\n",
    "\n",
    "ode_f = ode(f) # khởi tại đối tượng ode với f\n",
    "ode_f.set_integrator('vode') # khai báo thuật toán được sử dụng\n",
    "# nếu là vode thì sẽ sử dụng phương pháp adam để tính toán\n",
    "ode_f.set_initial_value(y0) # gán giá trị khởi tạo\n",
    "\n",
    "print(ode_f.successful())# kiểm tra hàm chạy ok chưa"
   ]
  },
  {
   "cell_type": "code",
   "execution_count": 71,
   "id": "85cd4640",
   "metadata": {},
   "outputs": [
    {
     "data": {
      "text/plain": [
       "array([20.08554837])"
      ]
     },
     "execution_count": 71,
     "metadata": {},
     "output_type": "execute_result"
    }
   ],
   "source": [
    "t1 = 3 # tính y với t = 3\n",
    "y1 = ode_f.integrate(t0) # Lưu ý: kết quả luôn trả về dang np.array\n",
    "y1"
   ]
  },
  {
   "cell_type": "code",
   "execution_count": 2,
   "id": "564d8e27",
   "metadata": {},
   "outputs": [
    {
     "name": "stdout",
     "output_type": "stream",
     "text": [
      "[1.         1.04040404 1.08080808 1.12121212 1.16161616 1.2020202\n",
      " 1.24242424 1.28282828 1.32323232 1.36363636 1.4040404  1.44444444\n",
      " 1.48484848 1.52525253 1.56565657 1.60606061 1.64646465 1.68686869\n",
      " 1.72727273 1.76767677 1.80808081 1.84848485 1.88888889 1.92929293\n",
      " 1.96969697 2.01010101 2.05050505 2.09090909 2.13131313 2.17171717\n",
      " 2.21212121 2.25252525 2.29292929 2.33333333 2.37373737 2.41414141\n",
      " 2.45454545 2.49494949 2.53535354 2.57575758 2.61616162 2.65656566\n",
      " 2.6969697  2.73737374 2.77777778 2.81818182 2.85858586 2.8989899\n",
      " 2.93939394 2.97979798 3.02020202 3.06060606 3.1010101  3.14141414\n",
      " 3.18181818 3.22222222 3.26262626 3.3030303  3.34343434 3.38383838\n",
      " 3.42424242 3.46464646 3.50505051 3.54545455 3.58585859 3.62626263\n",
      " 3.66666667 3.70707071 3.74747475 3.78787879 3.82828283 3.86868687\n",
      " 3.90909091 3.94949495 3.98989899 4.03030303 4.07070707 4.11111111\n",
      " 4.15151515 4.19191919 4.23232323 4.27272727 4.31313131 4.35353535\n",
      " 4.39393939 4.43434343 4.47474747 4.51515152 4.55555556 4.5959596\n",
      " 4.63636364 4.67676768 4.71717172 4.75757576 4.7979798  4.83838384\n",
      " 4.87878788 4.91919192 4.95959596 5.        ]\n",
      "[  2.71828424   2.83036284   2.9470626    3.06857398   3.19509549\n",
      "   3.32683368   3.46400353   3.60682912   3.75554365   3.91038981\n",
      "   4.07162051   4.23949904   4.41429935   4.59630687   4.78581883\n",
      "   4.98314467   5.18860658   5.40254      5.62529426   5.85723306\n",
      "   6.09873505   6.35019442   6.61202164   6.88464437   7.16850777\n",
      "   7.46407529   7.77182948   8.09227283   8.42592862   8.77334158\n",
      "   9.1350788    9.51173063   9.90391217  10.312264    10.73745287\n",
      "  11.18017295  11.64114698  12.12112779  12.62089908  13.14127667\n",
      "  13.68310985  14.24728291  14.83471759  15.44637316  16.08324832\n",
      "  16.74638287  17.43685954  18.15580592  18.90439574  19.68385086\n",
      "  20.49544319  21.34049808  22.22039591  23.13657337  24.0905263\n",
      "  25.08381206  26.11805275  27.19493709  28.31622302  29.48374056\n",
      "  30.69939513  31.9651728   33.28314057  34.65545034  36.08434255\n",
      "  37.57215015  39.12130291  40.73432992  42.41386406  44.16264605\n",
      "  45.98353155  47.87949501  49.85363219  51.90916629  54.04945308\n",
      "  56.27798773  58.59840905  61.01450498  63.53021874  66.14965588\n",
      "  68.87709585  71.7169926   74.673983    77.75289469  80.95875456\n",
      "  84.29679814  87.77247511  91.39145873  95.15965467  99.08321576\n",
      " 103.16855144 107.4223323  111.8515035  116.46329585 121.26524051\n",
      " 126.26517835 131.47127149 136.89201675 142.5362604  148.4132234 ]\n"
     ]
    }
   ],
   "source": [
    "t = np.linspace(1.0,5.0,100)\n",
    "y = np.zeros(len(t))\n",
    "for i in range(len(t)):\n",
    "    y[i] = (ode_f.integrate(t[i]))[0]\n",
    "    assert ode_f.successful()\n",
    "\n",
    "print(t)\n",
    "print(y)"
   ]
  },
  {
   "cell_type": "code",
   "execution_count": 3,
   "id": "c2f6154f",
   "metadata": {},
   "outputs": [
    {
     "data": {
      "image/png": "[encoded data removed]",
      "text/plain": [
       "<Figure size 432x288 with 1 Axes>"
      ]
     },
     "metadata": {
      "needs_background": "light"
     },
     "output_type": "display_data"
    }
   ],
   "source": [
    "# biểu diễn trên đồ thị\n",
    "plt.plot(t, y, 'b-')\n",
    "plt.xlabel('t')\n",
    "plt.ylabel('y')\n",
    "plt.show()\n",
    "\n",
    "# đúng là hàm y = e ^ t"
   ]
  },
  {
   "cell_type": "code",
   "execution_count": null,
   "id": "3f20a563",
   "metadata": {},
   "outputs": [],
   "source": []
  }
 ],
 "metadata": {
  "kernelspec": {
   "display_name": "Python 3 (ipykernel)",
   "language": "python",
   "name": "python3"
  },
  "language_info": {
   "codemirror_mode": {
    "name": "ipython",
    "version": 3
   },
   "file_extension": ".py",
   "mimetype": "text/x-python",
   "name": "python",
   "nbconvert_exporter": "python",
   "pygments_lexer": "ipython3",
   "version": "3.9.12"
  }
 },
 "nbformat": 4,
 "nbformat_minor": 5
}
