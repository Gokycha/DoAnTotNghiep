{
 "cells": [
  {
   "cell_type": "code",
   "execution_count": 17,
   "id": "ccc2ca29",
   "metadata": {},
   "outputs": [
    {
     "name": "stdout",
     "output_type": "stream",
     "text": [
      "True\n"
     ]
    }
   ],
   "source": [
    "# Ta sử dụng hàm integrate của lớp ODE trong thư viện Scipy để giải phương trình vi phân f(t,y,y') = 0. Cụ thể như sau:\n",
    "# Phương trình: y' = y với y = y(t) (dễ thấy phương trình có nghiệm là y = e ^ t)\n",
    "# Lưu ý 1: hàm integrate không trả về một phương trình giống như khi giải một phương trình vi phân thông thường  mà chỉ tính gần đúng giá trị của y(t) khi cho trước t = t0.\n",
    "# Lưu ý 2: các con số cần được viết dưới dạng số thực (2 thì viết là 2.0)\n",
    "# Demo các sử dụng hàm:\n",
    "\n",
    "from scipy.integrate import ode #khai báo lớp ODE\n",
    "import numpy as np\n",
    "import matplotlib.pyplot as plt\n",
    "\n",
    "def f(t,y): # khởi tạo phương trình vi phân f theo dạng y' = .... (trong trường hợp này là y' = y)\n",
    "    return y # y' = y\n",
    "\n",
    "y0 = np.array([1.0]) # khởi tạo giá trị ban đầu cho y (mặc định là xét t = 0.0)\n",
    "\n",
    "ode_f = ode(f) # khởi tại đối tượng ode với f\n",
    "ode_f.set_integrator('vode') # khai báo thuật toán được sử dụng\n",
    "# nếu là vode thì sẽ sử dụng phương pháp adam để tính toán\n",
    "ode_f.set_initial_value(y0,1.0) # gán giá trị khởi tạo\n",
    "\n",
    "print(ode_f.successful())# kiểm tra hàm chạy ok chưa"
   ]
  },
  {
   "cell_type": "code",
   "execution_count": 13,
   "id": "85cd4640",
   "metadata": {},
   "outputs": [
    {
     "data": {
      "text/plain": [
       "array([7.38906009])"
      ]
     },
     "execution_count": 13,
     "metadata": {},
     "output_type": "execute_result"
    }
   ],
   "source": [
    "t1 = 3 # tính y với t = 3\n",
    "y1 = ode_f.integrate(t1) # Lưu ý: kết quả luôn trả về dang np.array\n",
    "y1"
   ]
  },
  {
   "cell_type": "code",
   "execution_count": 18,
   "id": "564d8e27",
   "metadata": {},
   "outputs": [
    {
     "name": "stdout",
     "output_type": "stream",
     "text": [
      "[2.         2.03030303 2.06060606 2.09090909 2.12121212 2.15151515\n",
      " 2.18181818 2.21212121 2.24242424 2.27272727 2.3030303  2.33333333\n",
      " 2.36363636 2.39393939 2.42424242 2.45454545 2.48484848 2.51515152\n",
      " 2.54545455 2.57575758 2.60606061 2.63636364 2.66666667 2.6969697\n",
      " 2.72727273 2.75757576 2.78787879 2.81818182 2.84848485 2.87878788\n",
      " 2.90909091 2.93939394 2.96969697 3.         3.03030303 3.06060606\n",
      " 3.09090909 3.12121212 3.15151515 3.18181818 3.21212121 3.24242424\n",
      " 3.27272727 3.3030303  3.33333333 3.36363636 3.39393939 3.42424242\n",
      " 3.45454545 3.48484848 3.51515152 3.54545455 3.57575758 3.60606061\n",
      " 3.63636364 3.66666667 3.6969697  3.72727273 3.75757576 3.78787879\n",
      " 3.81818182 3.84848485 3.87878788 3.90909091 3.93939394 3.96969697\n",
      " 4.         4.03030303 4.06060606 4.09090909 4.12121212 4.15151515\n",
      " 4.18181818 4.21212121 4.24242424 4.27272727 4.3030303  4.33333333\n",
      " 4.36363636 4.39393939 4.42424242 4.45454545 4.48484848 4.51515152\n",
      " 4.54545455 4.57575758 4.60606061 4.63636364 4.66666667 4.6969697\n",
      " 4.72727273 4.75757576 4.78787879 4.81818182 4.84848485 4.87878788\n",
      " 4.90909091 4.93939394 4.96969697 5.        ]\n",
      "[ 2.71828424  2.80191722  2.88812335  2.97698174  3.06857398  3.16298426\n",
      "  3.26029926  3.36060833  3.46400353  3.5705799   3.68043533  3.79367065\n",
      "  3.91038981  4.03070007  4.15471193  4.28253926  4.41429935  4.55011326\n",
      "  4.69010574  4.83440537  4.98314467  5.13646023  5.29449285  5.45738765\n",
      "  5.62529426  5.79836686  5.97676439  6.16065064  6.35019442  6.54556975\n",
      "  6.74695617  6.95453862  7.16850777  7.38906009  7.61639813  7.85073063\n",
      "  8.09227283  8.34124659  8.59788054  8.86241033  9.1350788   9.41613624\n",
      "  9.70584075 10.00445858 10.312264   10.62953969 10.95657702 11.29367627\n",
      " 11.64114698 11.99930838 12.3684894  12.74902904 13.14127667 13.54559236\n",
      " 13.96234715 14.39192399 14.83471759 15.29113463 15.76159429 16.2465286\n",
      " 16.74638287 17.26161615 17.79270177 18.34012741 18.90439574 19.48602478\n",
      " 20.08554837 20.7035168  21.34049808 21.99707735 22.67385761 23.37146039\n",
      " 24.0905263  24.83171559 25.59570908 26.38320853 27.19493709 28.03164006\n",
      " 28.89408557 29.78306517 30.69939513 31.64391773 32.61750046 33.62103747\n",
      " 34.65545034 35.72168894 36.82073234 37.95359018 39.12130291 40.32494278\n",
      " 41.56561488 42.84445808 44.16264605 45.52138981 46.92193797 48.36557682\n",
      " 49.85363219 51.3874706  52.96850051 54.59817384]\n"
     ]
    }
   ],
   "source": [
    "t = np.linspace(2.0,5.0,100)\n",
    "y = np.zeros(len(t))\n",
    "for i in range(len(t)):\n",
    "    y[i] = (ode_f.integrate(t[i]))[0]\n",
    "    assert ode_f.successful()\n",
    "\n",
    "print(t)\n",
    "print(y)"
   ]
  },
  {
   "cell_type": "code",
   "execution_count": 19,
   "id": "c2f6154f",
   "metadata": {},
   "outputs": [
    {
     "data": {
      "image/png": "[encoded data removed]",
      "text/plain": [
       "<Figure size 432x288 with 1 Axes>"
      ]
     },
     "metadata": {
      "needs_background": "light"
     },
     "output_type": "display_data"
    }
   ],
   "source": [
    "# biểu diễn trên đồ thị\n",
    "plt.plot(t, y, 'b-')\n",
    "plt.xlabel('t')\n",
    "plt.ylabel('y')\n",
    "plt.show()\n",
    "\n",
    "# đúng là hàm y = e ^ t"
   ]
  },
  {
   "cell_type": "code",
   "execution_count": null,
   "id": "3f20a563",
   "metadata": {},
   "outputs": [],
   "source": []
  }
 ],
 "metadata": {
  "kernelspec": {
   "display_name": "Python 3 (ipykernel)",
   "language": "python",
   "name": "python3"
  },
  "language_info": {
   "codemirror_mode": {
    "name": "ipython",
    "version": 3
   },
   "file_extension": ".py",
   "mimetype": "text/x-python",
   "name": "python",
   "nbconvert_exporter": "python",
   "pygments_lexer": "ipython3",
   "version": "3.9.12"
  }
 },
 "nbformat": 4,
 "nbformat_minor": 5
}
