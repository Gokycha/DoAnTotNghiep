{
 "cells": [
  {
   "cell_type": "markdown",
   "metadata": {},
   "source": [
    "Sử dụng thuật toán di truyền để tìm trọng số cho mạng nơ ron tế bào cho bài toán tìm biên ảnh.\n",
    "Một số lưu ý trong quá trình code:\n",
    "- Do hàm giải phương trình vi phân (ODE) chỉ nhận mảng 1 chiều (array) vào giá trị ban đầu cũng như đầu ra của x nên phải biến đổi từ dạng ma trận về mảng 1 chiều ở một số phép tính.\n",
    "- Thứ tự của m, n (kích thước của ma trận đầu vào) đôi khi bị ngược nhau trong quá trình reshape. Lưu ý khi đưa vào ma trận không vuông.\n",
    "- Các số dùng trong phép tính nên để ở dạng float"
   ]
  },
  {
   "cell_type": "code",
   "execution_count": 29,
   "metadata": {},
   "outputs": [],
   "source": [
    "from scipy.signal import convolve2d\n",
    "from scipy.integrate import ode\n",
    "from PIL import Image as img\n",
    "import numpy as np\n",
    "import numpy.matlib as mat"
   ]
  },
  {
   "cell_type": "code",
   "execution_count": 39,
   "metadata": {},
   "outputs": [
    {
     "name": "stdout",
     "output_type": "stream",
     "text": [
      "[[829 689 250]\n",
      " [814 369 689]\n",
      " [250 814 829]]\n",
      "[[183 345 293]\n",
      " [222 861 345]\n",
      " [293 222 183]]\n"
     ]
    }
   ],
   "source": [
    "# khai báo hàm trạng thái\n",
    "def hamTrangThai(t, x, u, B, A, I, n, m):\n",
    "    x = x.reshape(n, m)\n",
    "    dx = -x + convolve2d(u, B, 'same') + convolve2d(hamDauRa(x), A, 'same') + I\n",
    "    return dx.reshape(n*m)\n",
    "\n",
    "# khai báo hàm đầu ra\n",
    "def hamDauRa(x):\n",
    "    return 0.5 * (abs(x + 1) - abs(x - 1))\n",
    "\n",
    "# Tạo ma trận đối xứng từ 5 trọng số (hàm này chỉ dành riêng cho ma trận đối xứng 3x3)\n",
    "def taoMaTranDoiXung(arr1):#giả sử cho mảng [1,2,3,4,5]\n",
    "    arr2 = arr1[-2::-1].copy()#tạo mảng phụ [4,3,2,1]\n",
    "    arr2[0], arr2[2] = arr2[2], arr2[0]#nếu không có lệnh này thì ma trận tạo ra sẽ bị ngược\n",
    "    return np.append(arr1,arr2).reshape(h,h)#kết hợp hai mảng rồi chuyển về dạng ma trận 3x3\n",
    "\n",
    "# Hàm lai hai số\n",
    "def lai(a,b,k=1):#k là điểm lai (mặc định là 1)  67|8\n",
    "    return np.round(a/10**k)*10**k+b%10**k\n",
    "\n",
    "# Tiến hành tạo bộ trọng số mới bằng phép lai\n",
    "def laiTrongSo(A,B,I):\n",
    "    L=np.append((A.reshape(h*h))[:h*h//2+1],(B.reshape(h*h))[:h*h//2+1])\n",
    "    L=np.append(L,I)\n",
    "    L2=L.copy()\n",
    "\n",
    "    #Hàm lai để tạo ra trọng số mới\n",
    "    for i in range(len(L)):\n",
    "        L2[i] = lai(L[i],L[(i+1)%len(L)])\n",
    "        \n",
    "    return taoMaTranDoiXung(L2[0:5]), taoMaTranDoiXung(L2[5:10]), L2[10]\n",
    "\n",
    "# Hàm tính sai số\n",
    "def saiSo(d,y):\n",
    "    return np.sum(0.5*(d-y)**2)\n",
    "\n",
    "# kích thước ma trận đầu vào, ma trận đầu ra và ma trận trạng thái\n",
    "m, n = 5, 5\n",
    "\n",
    "# ma trận ảnh đầu vào u\n",
    "u = np.array([\n",
    "    [ 1, 1, 1, 1,-1],\n",
    "    [ 1, 1, 1, 1,-1],\n",
    "    [ 1, 1, 1, 1, 1],\n",
    "    [ 1, 1, 1, 1, 1],\n",
    "    [-1,-1, 1, 1, 1]], dtype=float)\n",
    "\n",
    "# ma trận đầu ra mong muốn d\n",
    "d = np.array([\n",
    "    [ 1, 1, 1, 1,-1],\n",
    "    [ 1,-1,-1, 1,-1],\n",
    "    [ 1,-1,-1,-1, 1],\n",
    "    [ 1, 1,-1,-1, 1],\n",
    "    [-1,-1, 1, 1, 1]], dtype=float)\n",
    "\n",
    "# Bán kính lân cận của nơ ron tế bào\n",
    "r = 1\n",
    "\n",
    "# kích thước của ma trận điều khiển và ma trận phản hồi (hai ma trận này luôn vuông)\n",
    "h = 2*r + 1\n",
    "\n",
    "# ma trận điều khiển B ban đầu\n",
    "# B = np.array([\n",
    "#     [-1.,-1.,-1.],\n",
    "#     [-1., 8.,-1.],\n",
    "#     [-1.,-1.,-1.]])\n",
    "B = taoMaTranDoiXung([np.random.randint(100,999) for i in range(5)])\n",
    "\n",
    "# ma trận phản hồi A ban đầu\n",
    "# A = np.array([\n",
    "#     [ 0., 0., 0.],\n",
    "#     [ 0., 1., 0.],\n",
    "#     [ 0., 0., 0.]])\n",
    "A = taoMaTranDoiXung([np.random.randint(100,999) for i in range(5)])\n",
    "\n",
    "# mức ngưỡng I ban đầu\n",
    "I = -1.0\n",
    "\n",
    "# sai số cho phép\n",
    "E0 = 2.0\n",
    "\n",
    "# hai giá trị ban đầu cho x với t0 = 0 và t để tính đầu ra x (t != t0)\n",
    "x, t = u*0.0, 10.0 # cần đưa x0 về dạng mảng một chiều\n",
    "\n",
    "# ma trận đầu ra ban đầu\n",
    "y = hamDauRa(x)\n",
    "\n",
    "# khởi tạo phương trình vi phân\n",
    "ptvp = ode(hamTrangThai) \\\n",
    ".set_integrator('vode') \\\n",
    ".set_initial_value(x.flatten(), 0.0) \\\n",
    ".set_f_params(u, B, A, I, n, m)\n",
    "\n",
    "print(A)\n",
    "print(B)"
   ]
  },
  {
   "cell_type": "code",
   "execution_count": 40,
   "metadata": {},
   "outputs": [
    {
     "name": "stdout",
     "output_type": "stream",
     "text": [
      "A = [[829 689 250]\n",
      " [814 369 689]\n",
      " [250 814 829]]\n",
      "B = [[183 345 293]\n",
      " [222 861 345]\n",
      " [293 222 183]]\n",
      "chay lan thu 1: E = 12.5\n",
      "A = [829.1 689.1 250.1]\n",
      "B = [814.1 369.1 689.1]\n",
      "chay lan thu 2: E = 22.0\n",
      "A = 814.1\n",
      "B = nan\n",
      "chay lan thu 3: E = 22.0\n"
     ]
    },
    {
     "name": "stderr",
     "output_type": "stream",
     "text": [
      "C:\\Users\\phamd\\AppData\\Local\\Temp\\ipykernel_2632\\829236329.py:19: RuntimeWarning: overflow encountered in power\n",
      "  return np.round(a/10**k)*10**k+b%10**k\n",
      "C:\\Users\\phamd\\AppData\\Local\\Temp\\ipykernel_2632\\829236329.py:19: RuntimeWarning: invalid value encountered in multiply\n",
      "  return np.round(a/10**k)*10**k+b%10**k\n",
      "C:\\Users\\phamd\\AppData\\Local\\Temp\\ipykernel_2632\\829236329.py:19: RuntimeWarning: invalid value encountered in double_scalars\n",
      "  return np.round(a/10**k)*10**k+b%10**k\n"
     ]
    },
    {
     "ename": "TypeError",
     "evalue": "cannot unpack non-iterable numpy.float64 object",
     "output_type": "error",
     "traceback": [
      "\u001b[1;31m---------------------------------------------------------------------------\u001b[0m",
      "\u001b[1;31mTypeError\u001b[0m                                 Traceback (most recent call last)",
      "\u001b[1;32me:\\Documents\\DoAnTotNghiep\\GitHub\\DoAnTotNghiep\\TimTrongSo.ipynb Cell 4\u001b[0m line \u001b[0;36m<cell line: 5>\u001b[1;34m()\u001b[0m\n\u001b[0;32m     <a href='vscode-notebook-cell:/e%3A/Documents/DoAnTotNghiep/GitHub/DoAnTotNghiep/TimTrongSo.ipynb#W3sZmlsZQ%3D%3D?line=11'>12</a>\u001b[0m y \u001b[39m=\u001b[39m hamDauRa(x[:]\u001b[39m.\u001b[39mreshape(n, m))\n\u001b[0;32m     <a href='vscode-notebook-cell:/e%3A/Documents/DoAnTotNghiep/GitHub/DoAnTotNghiep/TimTrongSo.ipynb#W3sZmlsZQ%3D%3D?line=12'>13</a>\u001b[0m E \u001b[39m=\u001b[39m saiSo(d,y)\n\u001b[1;32m---> <a href='vscode-notebook-cell:/e%3A/Documents/DoAnTotNghiep/GitHub/DoAnTotNghiep/TimTrongSo.ipynb#W3sZmlsZQ%3D%3D?line=13'>14</a>\u001b[0m A, B, I \u001b[39m=\u001b[39m lai(A,B,I)\n",
      "\u001b[1;31mTypeError\u001b[0m: cannot unpack non-iterable numpy.float64 object"
     ]
    }
   ],
   "source": [
    "#Tìm trọng số\n",
    "E = saiSo(d,y)\n",
    "loop = 100\n",
    "i = 0\n",
    "while(ptvp.successful() and E>E0 and i<loop):\n",
    "    i+=1\n",
    "    print(f'A = {A}')\n",
    "    print(f'B = {B}')\n",
    "    print(f'chay lan thu {i}: E = {E}')\n",
    "    ptvp.set_f_params(u, B, A, I, n, m)\n",
    "    x = ptvp.integrate(t)\n",
    "    y = hamDauRa(x[:].reshape(n, m))\n",
    "    E = saiSo(d,y)\n",
    "    A, B, I = lai(A,B,I)"
   ]
  },
  {
   "cell_type": "markdown",
   "metadata": {},
   "source": [
    "Test các hàm"
   ]
  },
  {
   "cell_type": "code",
   "execution_count": 28,
   "metadata": {},
   "outputs": [
    {
     "data": {
      "text/plain": [
       "array([[911, 600, 149],\n",
       "       [553, 646, 600],\n",
       "       [149, 553, 911]])"
      ]
     },
     "execution_count": 28,
     "metadata": {},
     "output_type": "execute_result"
    }
   ],
   "source": [
    "taoMaTranDoiXung([1,2,3,4,5])\n",
    "taoMaTranDoiXung([np.random.randint(100,999) for i in range(5)])"
   ]
  },
  {
   "cell_type": "code",
   "execution_count": 7,
   "metadata": {},
   "outputs": [
    {
     "data": {
      "text/plain": [
       "4.0"
      ]
     },
     "execution_count": 7,
     "metadata": {},
     "output_type": "execute_result"
    }
   ],
   "source": [
    "saiSo(d,y)"
   ]
  },
  {
   "cell_type": "code",
   "execution_count": 1,
   "metadata": {},
   "outputs": [
    {
     "ename": "NameError",
     "evalue": "name 'saiSo' is not defined",
     "output_type": "error",
     "traceback": [
      "\u001b[1;31m---------------------------------------------------------------------------\u001b[0m",
      "\u001b[1;31mNameError\u001b[0m                                 Traceback (most recent call last)",
      "\u001b[1;32me:\\Documents\\DoAnTotNghiep\\GitHub\\DoAnTotNghiep\\TimTrongSo.ipynb Cell 7\u001b[0m line \u001b[0;36m<cell line: 2>\u001b[1;34m()\u001b[0m\n\u001b[0;32m      <a href='vscode-notebook-cell:/e%3A/Documents/DoAnTotNghiep/GitHub/DoAnTotNghiep/TimTrongSo.ipynb#W6sZmlsZQ%3D%3D?line=0'>1</a>\u001b[0m \u001b[39m#Tìm trọng số\u001b[39;00m\n\u001b[1;32m----> <a href='vscode-notebook-cell:/e%3A/Documents/DoAnTotNghiep/GitHub/DoAnTotNghiep/TimTrongSo.ipynb#W6sZmlsZQ%3D%3D?line=1'>2</a>\u001b[0m E \u001b[39m=\u001b[39m saiSo(d,y)\n\u001b[0;32m      <a href='vscode-notebook-cell:/e%3A/Documents/DoAnTotNghiep/GitHub/DoAnTotNghiep/TimTrongSo.ipynb#W6sZmlsZQ%3D%3D?line=2'>3</a>\u001b[0m loop \u001b[39m=\u001b[39m \u001b[39m100\u001b[39m\n\u001b[0;32m      <a href='vscode-notebook-cell:/e%3A/Documents/DoAnTotNghiep/GitHub/DoAnTotNghiep/TimTrongSo.ipynb#W6sZmlsZQ%3D%3D?line=3'>4</a>\u001b[0m i \u001b[39m=\u001b[39m \u001b[39m0\u001b[39m\n",
      "\u001b[1;31mNameError\u001b[0m: name 'saiSo' is not defined"
     ]
    }
   ],
   "source": [
    "# khởi tạo phương trình vi phân\n",
    "ptvp = ode(hamTrangThai) \\\n",
    ".set_integrator('vode') \\\n",
    ".set_initial_value(x.flatten(), 0.0) \\\n",
    ".set_f_params(u, B, A, I, n, m)\n",
    "assert ptvp.successful()\n",
    "x = ptvp.integrate(t)\n",
    "y = hamDauRa(x[:].reshape(n, m))\n",
    "y"
   ]
  },
  {
   "cell_type": "code",
   "execution_count": 12,
   "metadata": {},
   "outputs": [
    {
     "data": {
      "text/plain": [
       "156.0"
      ]
     },
     "execution_count": 12,
     "metadata": {},
     "output_type": "execute_result"
    }
   ],
   "source": [
    "lai(123,456,2)"
   ]
  },
  {
   "cell_type": "code",
   "execution_count": 19,
   "metadata": {},
   "outputs": [
    {
     "data": {
      "text/plain": [
       "(array([[135., 668., 279.],\n",
       "        [267., 652., 668.],\n",
       "        [279., 267., 135.]]),\n",
       " array([[932., 453., 555.],\n",
       "        [ 55., 467., 453.],\n",
       "        [555.,  55., 932.]]),\n",
       " -1.0)"
      ]
     },
     "execution_count": 19,
     "metadata": {},
     "output_type": "execute_result"
    }
   ],
   "source": [
    "laiTrongSo(A,B,I)"
   ]
  },
  {
   "cell_type": "code",
   "execution_count": 24,
   "metadata": {},
   "outputs": [
    {
     "data": {
      "text/plain": [
       "533"
      ]
     },
     "execution_count": 24,
     "metadata": {},
     "output_type": "execute_result"
    }
   ],
   "source": [
    "np.random.randint(100,999)"
   ]
  }
 ],
 "metadata": {
  "kernelspec": {
   "display_name": "base",
   "language": "python",
   "name": "python3"
  },
  "language_info": {
   "codemirror_mode": {
    "name": "ipython",
    "version": 3
   },
   "file_extension": ".py",
   "mimetype": "text/x-python",
   "name": "python",
   "nbconvert_exporter": "python",
   "pygments_lexer": "ipython3",
   "version": "3.9.12"
  }
 },
 "nbformat": 4,
 "nbformat_minor": 2
}
