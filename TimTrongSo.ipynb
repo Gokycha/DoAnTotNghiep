{
 "cells": [
  {
   "cell_type": "markdown",
   "metadata": {},
   "source": [
    "Sử dụng thuật toán di truyền để tìm trọng số cho mạng nơ ron tế bào cho bài toán tìm biên ảnh.\n",
    "Một số lưu ý trong quá trình code:\n",
    "- Do hàm giải phương trình vi phân (ODE) chỉ nhận mảng 1 chiều (array) vào giá trị ban đầu cũng như đầu ra của x nên phải biến đổi từ dạng ma trận về mảng 1 chiều ở một số phép tính.\n",
    "- Thứ tự của m, n (kích thước của ma trận đầu vào) đôi khi bị ngược nhau trong quá trình reshape. Lưu ý khi đưa vào ma trận không vuông.\n",
    "- Các số dùng trong phép tính nên để ở dạng float"
   ]
  },
  {
   "cell_type": "code",
   "execution_count": 6,
   "metadata": {},
   "outputs": [],
   "source": [
    "from scipy.signal import convolve2d\n",
    "from scipy.integrate import ode\n",
    "from PIL import Image as img\n",
    "import numpy as np\n",
    "import numpy.matlib as mat"
   ]
  },
  {
   "cell_type": "code",
   "execution_count": 7,
   "metadata": {},
   "outputs": [
    {
     "name": "stdout",
     "output_type": "stream",
     "text": [
      "[[1320 1053 1657]\n",
      " [1548 1531 1053]\n",
      " [1657 1548 1320]]\n",
      "[[1341 1443 1337]\n",
      " [ 480  830 1443]\n",
      " [1337  480 1341]]\n"
     ]
    }
   ],
   "source": [
    "# hàm trạng thái\n",
    "def hamTrangThai(t, x, u, B, A, I, n, m):\n",
    "    x = x.reshape(n, m)\n",
    "    dx = -x + convolve2d(u, B, 'same') + convolve2d(hamDauRa(x), A, 'same') + I\n",
    "    return dx.reshape(n*m)\n",
    "\n",
    "# hàm đầu ra\n",
    "def hamDauRa(x):\n",
    "    return 0.5 * (abs(x + 1) - abs(x - 1))\n",
    "\n",
    "# Tạo ma trận đối xứng từ 5 trọng số (hàm này chỉ dành riêng cho ma trận đối xứng 3x3)\n",
    "def taoMaTranDoiXung(arr1):#giả sử cho mảng [1,2,3,4,5]\n",
    "    arr2 = arr1[-2::-1].copy()#tạo mảng phụ [4,3,2,1]\n",
    "    arr2[0], arr2[2] = arr2[2], arr2[0]#nếu không có lệnh này thì ma trận tạo ra sẽ bị ngược\n",
    "    return np.append(arr1,arr2).reshape(h,h)#kết hợp hai mảng rồi chuyển về dạng ma trận 3x3\n",
    "\n",
    "# Hàm lai hai số\n",
    "def lai(a,b,k=1):#k là điểm lai (mặc định là 1)  67|8\n",
    "    return np.round(a/10**k)*10**k+b%10**k\n",
    "\n",
    "# Hàm tạo số ngẫu nhiên từ 0 đến 2000\n",
    "def ngauNhien(x=2000):\n",
    "    return np.random.randint(0,x)\n",
    "\n",
    "# Hàm tính sai số\n",
    "def saiSo(d,y):\n",
    "    return np.sum(0.5*(d-y)**2)\n",
    "\n",
    "# Quần thể trọng số (gồm 11 số)\n",
    "quanThe = np.array([ngauNhien() for i in range(11)])\n",
    "\n",
    "# kích thước ma trận đầu vào, ma trận đầu ra và ma trận trạng thái\n",
    "m, n = 5, 5\n",
    "\n",
    "# ma trận ảnh đầu vào u\n",
    "u = np.array([\n",
    "    [ 1, 1, 1, 1,-1],\n",
    "    [ 1, 1, 1, 1,-1],\n",
    "    [ 1, 1, 1, 1, 1],\n",
    "    [ 1, 1, 1, 1, 1],\n",
    "    [-1,-1, 1, 1, 1]], dtype=float)\n",
    "\n",
    "# ma trận đầu ra mong muốn d\n",
    "d = np.array([\n",
    "    [ 1, 1, 1, 1,-1],\n",
    "    [ 1,-1,-1, 1,-1],\n",
    "    [ 1,-1,-1,-1, 1],\n",
    "    [ 1, 1,-1,-1, 1],\n",
    "    [-1,-1, 1, 1, 1]], dtype=float)\n",
    "\n",
    "# Bán kính lân cận của nơ ron tế bào\n",
    "r = 1\n",
    "\n",
    "# kích thước của ma trận điều khiển và ma trận phản hồi (hai ma trận này luôn vuông)\n",
    "h = 2*r + 1\n",
    "\n",
    "# ma trận điều khiển B ban đầu\n",
    "# B = np.array([\n",
    "#     [-1.,-1.,-1.],\n",
    "#     [-1., 8.,-1.],\n",
    "#     [-1.,-1.,-1.]])\n",
    "B = taoMaTranDoiXung(quanThe[0:5])\n",
    "\n",
    "# ma trận phản hồi A ban đầu\n",
    "# A = np.array([\n",
    "#     [ 0., 0., 0.],\n",
    "#     [ 0., 1., 0.],\n",
    "#     [ 0., 0., 0.]])\n",
    "A = taoMaTranDoiXung(quanThe[5:10])\n",
    "\n",
    "# mức ngưỡng I ban đầu\n",
    "I = quanThe[10]\n",
    "\n",
    "# sai số cho phép\n",
    "E0 = 2.0\n",
    "\n",
    "# hai giá trị ban đầu cho x với t0 = 0 và t để tính đầu ra x (t != t0)\n",
    "x, t = u*0.0, 10.0 # cần đưa x0 về dạng mảng một chiều\n",
    "\n",
    "# ma trận đầu ra ban đầu\n",
    "y = hamDauRa(x)\n",
    "\n",
    "# khởi tạo phương trình vi phân\n",
    "ptvp = ode(hamTrangThai) \\\n",
    ".set_integrator('vode') \\\n",
    ".set_initial_value(x.flatten(), 0.0) \\\n",
    ".set_f_params(u, B, A, I, n, m)\n",
    "\n",
    "print(A)\n",
    "print(B)"
   ]
  },
  {
   "cell_type": "code",
   "execution_count": 10,
   "metadata": {},
   "outputs": [
    {
     "name": "stdout",
     "output_type": "stream",
     "text": [
      "Lần chạy thứ 1: E = 22.0\n",
      "Lần chạy thứ 2: E = 22.0\n",
      "Lần chạy thứ 3: E = 22.0\n",
      "Lần chạy thứ 4: E = 22.0\n",
      "Lần chạy thứ 5: E = 22.0\n",
      "Lần chạy thứ 6: E = 22.0\n",
      "Lần chạy thứ 7: E = 22.0\n",
      "Lần chạy thứ 8: E = 22.0\n",
      "Lần chạy thứ 9: E = 22.0\n",
      "Lần chạy thứ 10: E = 22.0\n",
      "Lần chạy thứ 11: E = 22.0\n",
      "Lần chạy thứ 12: E = 22.0\n",
      "Lần chạy thứ 13: E = 22.0\n",
      "Lần chạy thứ 14: E = 22.0\n",
      "Lần chạy thứ 15: E = 22.0\n",
      "Lần chạy thứ 16: E = 22.0\n",
      "Lần chạy thứ 17: E = 22.0\n",
      "Lần chạy thứ 18: E = 22.0\n",
      "Lần chạy thứ 19: E = 22.0\n",
      "Lần chạy thứ 20: E = 22.0\n",
      "Lần chạy thứ 21: E = 22.0\n",
      "Lần chạy thứ 22: E = 22.0\n",
      "Lần chạy thứ 23: E = 22.0\n",
      "Lần chạy thứ 24: E = 22.0\n",
      "Lần chạy thứ 25: E = 22.0\n",
      "Lần chạy thứ 26: E = 22.0\n",
      "Lần chạy thứ 27: E = 22.0\n",
      "Lần chạy thứ 28: E = 22.0\n",
      "Lần chạy thứ 29: E = 22.0\n",
      "Lần chạy thứ 30: E = 22.0\n",
      "Lần chạy thứ 31: E = 22.0\n",
      "Lần chạy thứ 32: E = 22.0\n",
      "Lần chạy thứ 33: E = 22.0\n",
      "Lần chạy thứ 34: E = 22.0\n",
      "Lần chạy thứ 35: E = 22.0\n",
      "Lần chạy thứ 36: E = 22.0\n",
      "Lần chạy thứ 37: E = 22.0\n",
      "Lần chạy thứ 38: E = 22.0\n",
      "Lần chạy thứ 39: E = 22.0\n",
      "Lần chạy thứ 40: E = 22.0\n",
      "Lần chạy thứ 41: E = 22.0\n",
      "Lần chạy thứ 42: E = 22.0\n",
      "Lần chạy thứ 43: E = 22.0\n",
      "Lần chạy thứ 44: E = 22.0\n",
      "Lần chạy thứ 45: E = 22.0\n",
      "Lần chạy thứ 46: E = 22.0\n",
      "Lần chạy thứ 47: E = 22.0\n",
      "Lần chạy thứ 48: E = 22.0\n",
      "Lần chạy thứ 49: E = 22.0\n",
      "Lần chạy thứ 50: E = 22.0\n",
      "Lần chạy thứ 51: E = 22.0\n",
      "Lần chạy thứ 52: E = 22.0\n",
      "Lần chạy thứ 53: E = 22.0\n",
      "Lần chạy thứ 54: E = 22.0\n",
      "Lần chạy thứ 55: E = 22.0\n",
      "Lần chạy thứ 56: E = 22.0\n",
      "Lần chạy thứ 57: E = 22.0\n",
      "Lần chạy thứ 58: E = 22.0\n",
      "Lần chạy thứ 59: E = 22.0\n",
      "Lần chạy thứ 60: E = 22.0\n",
      "Lần chạy thứ 61: E = 22.0\n",
      "Lần chạy thứ 62: E = 22.0\n",
      "Lần chạy thứ 63: E = 22.0\n",
      "Lần chạy thứ 64: E = 22.0\n",
      "Lần chạy thứ 65: E = 22.0\n",
      "Lần chạy thứ 66: E = 22.0\n",
      "Lần chạy thứ 67: E = 22.0\n",
      "Lần chạy thứ 68: E = 22.0\n",
      "Lần chạy thứ 69: E = 22.0\n",
      "Lần chạy thứ 70: E = 22.0\n",
      "Lần chạy thứ 71: E = 22.0\n",
      "Lần chạy thứ 72: E = 22.0\n",
      "Lần chạy thứ 73: E = 22.0\n",
      "Lần chạy thứ 74: E = 22.0\n",
      "Lần chạy thứ 75: E = 22.0\n",
      "Lần chạy thứ 76: E = 22.0\n",
      "Lần chạy thứ 77: E = 22.0\n",
      "Lần chạy thứ 78: E = 22.0\n",
      "Lần chạy thứ 79: E = 22.0\n",
      "Lần chạy thứ 80: E = 22.0\n",
      "Lần chạy thứ 81: E = 22.0\n",
      "Lần chạy thứ 82: E = 22.0\n",
      "Lần chạy thứ 83: E = 22.0\n",
      "Lần chạy thứ 84: E = 22.0\n",
      "Lần chạy thứ 85: E = 22.0\n",
      "Lần chạy thứ 86: E = 22.0\n",
      "Lần chạy thứ 87: E = 22.0\n",
      "Lần chạy thứ 88: E = 22.0\n",
      "Lần chạy thứ 89: E = 22.0\n",
      "Lần chạy thứ 90: E = 22.0\n",
      "Lần chạy thứ 91: E = 22.0\n",
      "Lần chạy thứ 92: E = 22.0\n",
      "Lần chạy thứ 93: E = 22.0\n",
      "Lần chạy thứ 94: E = 22.0\n",
      "Lần chạy thứ 95: E = 22.0\n",
      "Lần chạy thứ 96: E = 22.0\n",
      "Lần chạy thứ 97: E = 22.0\n",
      "Lần chạy thứ 98: E = 22.0\n",
      "Lần chạy thứ 99: E = 22.0\n",
      "Lần chạy thứ 100: E = 22.0\n"
     ]
    }
   ],
   "source": [
    "#Tìm trọng số\n",
    "Etruoc = 1000000000 # sai số của lần tính trước đó\n",
    "S = 5 # số cha mẹ được chọn để lai mới mỗi trọng số \n",
    "loop = 100 #số lần chạy thử tối đa\n",
    "count = 0 # số lần chạy\n",
    "while(ptvp.successful() and Etruoc>E0 and count<loop):\n",
    "    for i in range(5):\n",
    "        tsl = count%11 # STT trọng số hiện tại đang được lai (trọng số lai)\n",
    "        while(1):\n",
    "            trongSoMoi = lai(quanThe[tsl],ngauNhien())\n",
    "            if(trongSoMoi!=quanThe[tsl]):\n",
    "                break\n",
    "        trongSoCu = quanThe[tsl]\n",
    "        quanThe[tsl] = trongSoMoi\n",
    "        A = taoMaTranDoiXung(quanThe[0:5])\n",
    "        B = taoMaTranDoiXung(quanThe[5:10])\n",
    "        I = quanThe[10]\n",
    "        ptvp.set_f_params(u, B, A, I, n, m)\n",
    "        x = (ptvp.integrate(t))[:].reshape(n, m)\n",
    "        y = hamDauRa(x)\n",
    "        E = saiSo(d,y)\n",
    "        if(E>=Etruoc):\n",
    "            quanThe[tsl] = trongSoCu\n",
    "        else:\n",
    "            Etruoc = E\n",
    "    \n",
    "    # đếm số lần chạy\n",
    "    count+=1\n",
    "    print(f'Lần chạy thứ {count}: E = {Etruoc}')\n",
    "    "
   ]
  },
  {
   "cell_type": "markdown",
   "metadata": {},
   "source": [
    "Test các hàm"
   ]
  },
  {
   "cell_type": "code",
   "execution_count": 28,
   "metadata": {},
   "outputs": [
    {
     "data": {
      "text/plain": [
       "array([[911, 600, 149],\n",
       "       [553, 646, 600],\n",
       "       [149, 553, 911]])"
      ]
     },
     "execution_count": 28,
     "metadata": {},
     "output_type": "execute_result"
    }
   ],
   "source": [
    "taoMaTranDoiXung([1,2,3,4,5])\n",
    "taoMaTranDoiXung([np.random.randint(100,999) for i in range(5)])"
   ]
  },
  {
   "cell_type": "code",
   "execution_count": 7,
   "metadata": {},
   "outputs": [
    {
     "data": {
      "text/plain": [
       "4.0"
      ]
     },
     "execution_count": 7,
     "metadata": {},
     "output_type": "execute_result"
    }
   ],
   "source": [
    "saiSo(d,y)"
   ]
  },
  {
   "cell_type": "code",
   "execution_count": 1,
   "metadata": {},
   "outputs": [
    {
     "ename": "NameError",
     "evalue": "name 'saiSo' is not defined",
     "output_type": "error",
     "traceback": [
      "\u001b[1;31m---------------------------------------------------------------------------\u001b[0m",
      "\u001b[1;31mNameError\u001b[0m                                 Traceback (most recent call last)",
      "\u001b[1;32me:\\Documents\\DoAnTotNghiep\\GitHub\\DoAnTotNghiep\\TimTrongSo.ipynb Cell 7\u001b[0m line \u001b[0;36m<cell line: 2>\u001b[1;34m()\u001b[0m\n\u001b[0;32m      <a href='vscode-notebook-cell:/e%3A/Documents/DoAnTotNghiep/GitHub/DoAnTotNghiep/TimTrongSo.ipynb#W6sZmlsZQ%3D%3D?line=0'>1</a>\u001b[0m \u001b[39m#Tìm trọng số\u001b[39;00m\n\u001b[1;32m----> <a href='vscode-notebook-cell:/e%3A/Documents/DoAnTotNghiep/GitHub/DoAnTotNghiep/TimTrongSo.ipynb#W6sZmlsZQ%3D%3D?line=1'>2</a>\u001b[0m E \u001b[39m=\u001b[39m saiSo(d,y)\n\u001b[0;32m      <a href='vscode-notebook-cell:/e%3A/Documents/DoAnTotNghiep/GitHub/DoAnTotNghiep/TimTrongSo.ipynb#W6sZmlsZQ%3D%3D?line=2'>3</a>\u001b[0m loop \u001b[39m=\u001b[39m \u001b[39m100\u001b[39m\n\u001b[0;32m      <a href='vscode-notebook-cell:/e%3A/Documents/DoAnTotNghiep/GitHub/DoAnTotNghiep/TimTrongSo.ipynb#W6sZmlsZQ%3D%3D?line=3'>4</a>\u001b[0m i \u001b[39m=\u001b[39m \u001b[39m0\u001b[39m\n",
      "\u001b[1;31mNameError\u001b[0m: name 'saiSo' is not defined"
     ]
    }
   ],
   "source": [
    "# khởi tạo phương trình vi phân\n",
    "ptvp = ode(hamTrangThai) \\\n",
    ".set_integrator('vode') \\\n",
    ".set_initial_value(x.flatten(), 0.0) \\\n",
    ".set_f_params(u, B, A, I, n, m)\n",
    "assert ptvp.successful()\n",
    "x = ptvp.integrate(t)\n",
    "y = hamDauRa(x[:].reshape(n, m))\n",
    "y"
   ]
  },
  {
   "cell_type": "code",
   "execution_count": 12,
   "metadata": {},
   "outputs": [
    {
     "data": {
      "text/plain": [
       "156.0"
      ]
     },
     "execution_count": 12,
     "metadata": {},
     "output_type": "execute_result"
    }
   ],
   "source": [
    "lai(123,456,2)"
   ]
  },
  {
   "cell_type": "code",
   "execution_count": 19,
   "metadata": {},
   "outputs": [
    {
     "data": {
      "text/plain": [
       "(array([[135., 668., 279.],\n",
       "        [267., 652., 668.],\n",
       "        [279., 267., 135.]]),\n",
       " array([[932., 453., 555.],\n",
       "        [ 55., 467., 453.],\n",
       "        [555.,  55., 932.]]),\n",
       " -1.0)"
      ]
     },
     "execution_count": 19,
     "metadata": {},
     "output_type": "execute_result"
    }
   ],
   "source": [
    "laiTrongSo(A,B,I)"
   ]
  },
  {
   "cell_type": "code",
   "execution_count": 24,
   "metadata": {},
   "outputs": [
    {
     "data": {
      "text/plain": [
       "533"
      ]
     },
     "execution_count": 24,
     "metadata": {},
     "output_type": "execute_result"
    }
   ],
   "source": [
    "np.random.randint(100,999)"
   ]
  }
 ],
 "metadata": {
  "kernelspec": {
   "display_name": "base",
   "language": "python",
   "name": "python3"
  },
  "language_info": {
   "codemirror_mode": {
    "name": "ipython",
    "version": 3
   },
   "file_extension": ".py",
   "mimetype": "text/x-python",
   "name": "python",
   "nbconvert_exporter": "python",
   "pygments_lexer": "ipython3",
   "version": "3.9.12"
  }
 },
 "nbformat": 4,
 "nbformat_minor": 2
}
