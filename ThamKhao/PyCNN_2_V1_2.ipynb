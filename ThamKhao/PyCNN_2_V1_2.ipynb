{
  "cells": [
    {
      "cell_type": "markdown",
      "metadata": {
        "id": "w18H83_TWafK"
      },
      "source": [
        "# **Thư viện**"
      ]
    },
    {
      "cell_type": "code",
      "execution_count": 6,
      "metadata": {
        "id": "M4wtFGhWNZl9"
      },
      "outputs": [],
      "source": [
        "\n",
        "from __future__ import print_function\n",
        "import scipy.signal as sig\n",
        "import scipy.integrate as sint\n",
        "from PIL import Image as img\n",
        "import numpy as np\n",
        "import os.path\n",
        "import warnings\n",
        "import matplotlib.pyplot as plt\n",
        "import cv2"
      ]
    },
    {
      "cell_type": "code",
      "execution_count": 7,
      "metadata": {
        "colab": {
          "base_uri": "https://localhost:8080/",
          "height": 0
        },
        "id": "2eWJ_A7spFl_",
        "outputId": "4f24e39c-d376-490e-97f8-53f9429ce351"
      },
      "outputs": [
        {
          "ename": "ModuleNotFoundError",
          "evalue": "No module named 'google.colab'",
          "output_type": "error",
          "traceback": [
            "\u001b[1;31m---------------------------------------------------------------------------\u001b[0m",
            "\u001b[1;31mModuleNotFoundError\u001b[0m                       Traceback (most recent call last)",
            "\u001b[1;32me:\\Documents\\DoAnTotNghiep\\GitHub\\DoAnTotNghiep\\PyCNN_2_V1_2.ipynb Cell 3\u001b[0m line \u001b[0;36m<cell line: 3>\u001b[1;34m()\u001b[0m\n\u001b[0;32m      <a href='vscode-notebook-cell:/e%3A/Documents/DoAnTotNghiep/GitHub/DoAnTotNghiep/PyCNN_2_V1_2.ipynb#W2sZmlsZQ%3D%3D?line=0'>1</a>\u001b[0m \u001b[39mimport\u001b[39;00m \u001b[39mtime\u001b[39;00m\n\u001b[0;32m      <a href='vscode-notebook-cell:/e%3A/Documents/DoAnTotNghiep/GitHub/DoAnTotNghiep/PyCNN_2_V1_2.ipynb#W2sZmlsZQ%3D%3D?line=1'>2</a>\u001b[0m \u001b[39mimport\u001b[39;00m \u001b[39msys\u001b[39;00m\n\u001b[1;32m----> <a href='vscode-notebook-cell:/e%3A/Documents/DoAnTotNghiep/GitHub/DoAnTotNghiep/PyCNN_2_V1_2.ipynb#W2sZmlsZQ%3D%3D?line=2'>3</a>\u001b[0m \u001b[39mfrom\u001b[39;00m \u001b[39mgoogle\u001b[39;00m\u001b[39m.\u001b[39;00m\u001b[39mcolab\u001b[39;00m \u001b[39mimport\u001b[39;00m output\n\u001b[0;32m      <a href='vscode-notebook-cell:/e%3A/Documents/DoAnTotNghiep/GitHub/DoAnTotNghiep/PyCNN_2_V1_2.ipynb#W2sZmlsZQ%3D%3D?line=4'>5</a>\u001b[0m \u001b[39mprint\u001b[39m(\u001b[39m'\u001b[39m\u001b[39mStarting.\u001b[39m\u001b[39m'\u001b[39m)\n\u001b[0;32m      <a href='vscode-notebook-cell:/e%3A/Documents/DoAnTotNghiep/GitHub/DoAnTotNghiep/PyCNN_2_V1_2.ipynb#W2sZmlsZQ%3D%3D?line=6'>7</a>\u001b[0m \u001b[39mwith\u001b[39;00m output\u001b[39m.\u001b[39muse_tags(\u001b[39m'\u001b[39m\u001b[39msome_outputs\u001b[39m\u001b[39m'\u001b[39m):\n",
            "\u001b[1;31mModuleNotFoundError\u001b[0m: No module named 'google.colab'"
          ]
        }
      ],
      "source": [
        "import time\n",
        "import sys\n",
        "from google.colab import output\n",
        "\n",
        "print('Starting.')\n",
        "\n",
        "with output.use_tags('some_outputs'):\n",
        "  sys.stdout.write('working....\\n')\n",
        "  sys.stdout.flush();\n",
        "  time.sleep(2)\n",
        "\n",
        "  sys.stdout.write('still working...\\n')\n",
        "  sys.stdout.flush();\n",
        "  time.sleep(2)\n",
        "\n",
        "# Now clear the previous outputs.\n",
        "output.clear(output_tags='some_outputs')\n",
        "print('All done!')\n"
      ]
    },
    {
      "cell_type": "markdown",
      "metadata": {
        "id": "8Ni6G8Wc9aU1"
      },
      "source": [
        "**Kết nối với google drive và làm việc với thư mục chứa ảnh mẫu**"
      ]
    },
    {
      "cell_type": "code",
      "execution_count": 79,
      "metadata": {
        "colab": {
          "base_uri": "https://localhost:8080/",
          "height": 0
        },
        "id": "G0tyk5iV_4ba",
        "outputId": "11597289-ae66-4de5-a7e8-ae8788717730"
      },
      "outputs": [
        {
          "name": "stdout",
          "output_type": "stream",
          "text": [
            "Drive already mounted at /content/drive; to attempt to forcibly remount, call drive.mount(\"/content/drive\", force_remount=True).\n",
            "/content/drive/MyDrive/PyCNN-master\n",
            "Dir: /content/drive/MyDrive/PyCNN-master\n"
          ]
        }
      ],
      "source": [
        "from google.colab import drive\n",
        "drive.mount(\"/content/drive\")\n",
        "\n",
        "%cd /content/drive/MyDrive/PyCNN-master\n",
        "parent_dir = os.getcwd()\n",
        "print(\"Dir: \" + parent_dir)"
      ]
    },
    {
      "cell_type": "markdown",
      "metadata": {
        "id": "0txJQ0ps_BQj"
      },
      "source": [
        "# **Module convesre_img**\n",
        "\n",
        "> Chuyển đổi ảnh về mức tương phản 1 và -1\n",
        "\n",
        ">  Input\n",
        "*   gray_image: Ảnh đầu vào\n",
        "\n",
        ">  Output\n",
        "*   Ảnh đã được chuyển đổi\n"
      ]
    },
    {
      "cell_type": "code",
      "execution_count": 80,
      "metadata": {
        "id": "ml9tuCusdVGO"
      },
      "outputs": [],
      "source": [
        "def converse_img(grey_img):\n",
        "\n",
        "    trans  = np.copy(grey_img)\n",
        "    m = trans.shape[0]\n",
        "    n = trans.shape[1]\n",
        "    transformed = np.ones([m,n], dtype='int32')\n",
        "\n",
        "    for i in range(m):\n",
        "        for j in range(n):\n",
        "          new_val = grey_img[i,j]\n",
        "          if new_val <= 0:\n",
        "               new_val = -1\n",
        "          if new_val > 0:\n",
        "                new_val = 1\n",
        "          transformed[i, j] = new_val\n",
        "\n",
        "    return transformed\n"
      ]
    },
    {
      "cell_type": "markdown",
      "metadata": {
        "id": "om3OGNMN_Y0-"
      },
      "source": [
        "# **Module getCoord**\n",
        "\n",
        ">  Input:\n",
        "*   kernel: ma trận\n",
        "\n",
        ">  Output:\n",
        "*   out_filter: bộ lọc\n",
        "\n"
      ]
    },
    {
      "cell_type": "code",
      "execution_count": 81,
      "metadata": {
        "id": "GTN8LyH6Nj4F"
      },
      "outputs": [],
      "source": [
        "\n",
        "def getCoord(kernel):\n",
        "    out_filter = np.ones([3,3], dtype='int32')\n",
        "    center_filter = [1, 1]\n",
        "    xRows = [0, 0, 1, -1, 1, -1, 1, -1, 0]\n",
        "    yCols = [-1, 1, 0, 0, -1, -1, 1, 1, 0]\n",
        "    for k in range(9): # 9 cells\n",
        "      pixel_in_filter_x = center_filter[0] + xRows[k]\n",
        "      pixel_in_filter_y = center_filter[1] + yCols[k]\n",
        "      out_filter[pixel_in_filter_x][pixel_in_filter_y] = kernel[pixel_in_filter_x][pixel_in_filter_y]\n",
        "\n",
        "    return out_filter\n"
      ]
    },
    {
      "cell_type": "markdown",
      "metadata": {
        "id": "I81__lpd_qbx"
      },
      "source": [
        "# **Module getkernel**\n",
        "\n",
        "> Tìm ma trận kernel tại vị trí cell các định bởi (row, col)\n",
        "\n",
        ">  Input:\n",
        "*   row, col: hàng, cột\n",
        "*   gray_img: Ảnh đầu vào\n",
        "\n",
        ">  Output:\n",
        "*   out_kernel: Ma trận kernel của cell\n",
        "\n",
        "\n"
      ]
    },
    {
      "cell_type": "code",
      "execution_count": 82,
      "metadata": {
        "id": "sRIMidAeAVYy"
      },
      "outputs": [],
      "source": [
        "def getKernel(row, col, grey_img):\n",
        "    out_kernel = np.ones([3,3], dtype='int32')\n",
        "    transformed = np.copy(grey_img)\n",
        "    m = transformed.shape[0]\n",
        "    n = transformed.shape[1]\n",
        "\n",
        "    center_pixel = [row, col]\n",
        "    center_filter = [1, 1]\n",
        "    xRows = [-1, -1, -1, 0, 0, 0, 1, 1, 1] # thứ tự theo A, B\n",
        "    yCols = [-1, 0, 1, -1, 0, 1, -1, 0, 1]\n",
        "\n",
        "\n",
        "    for k in range(9): # đủ 9 cells\n",
        "        item = [xRows[k], yCols[k]]\n",
        "        pixel_in_image_x = center_pixel[0] + item[0]\n",
        "        pixel_in_image_y = center_pixel[1] + item[1]\n",
        "        pixel_in_filter_x = center_filter[0] + item[0]\n",
        "        pixel_in_filter_y = center_filter[1] + item[1]\n",
        "\n",
        "        if (pixel_in_image_x < 0) or (pixel_in_image_y < 0) or (pixel_in_image_x >= m) or (pixel_in_image_y >= n):\n",
        "           out_kernel[pixel_in_filter_x][pixel_in_filter_y] = 0\n",
        "        else:\n",
        "            out_kernel[pixel_in_filter_x][pixel_in_filter_y] = grey_img[pixel_in_image_x, pixel_in_image_y]\n",
        "\n",
        "    return out_kernel"
      ]
    },
    {
      "cell_type": "markdown",
      "metadata": {
        "id": "YGWBlxS8AdXm"
      },
      "source": [
        "# **Module conv3x3**\n",
        "\n",
        ">Phép tích chập ảnh 3x3 với kernel\n",
        "\n",
        ">  Input:\n",
        "*   gray_image: ảnh 3x3\n",
        "*   kernel: ma trận\n",
        "\n",
        ">  Output:\n",
        "*   new_val: giá trị tích chậm\n",
        "\n",
        "\n"
      ]
    },
    {
      "cell_type": "code",
      "execution_count": 83,
      "metadata": {
        "id": "1KxcBeXPldJG"
      },
      "outputs": [],
      "source": [
        "def conv3x3(grey_img, kernel):\n",
        "    transformed = np.copy(grey_img)\n",
        "\n",
        "    center_filter = [1, 1]\n",
        "    xRows = [0, 0, 1, -1, 1, -1, 1, -1, 0]\n",
        "    yCols = [-1, 1, 0, 0, -1, -1, 1, 1, 0]\n",
        "    new_val = 0.0\n",
        "\n",
        "    for k in range(9): # đủ 9 cells\n",
        "\n",
        "         pixel_in_filter_x = center_filter[0] + xRows[k]\n",
        "         pixel_in_filter_y = center_filter[1] + yCols[k]\n",
        "         new_val = new_val + (grey_img[pixel_in_filter_x, pixel_in_filter_y] * kernel[pixel_in_filter_x][pixel_in_filter_y])\n",
        "\n",
        "    return new_val"
      ]
    },
    {
      "cell_type": "markdown",
      "metadata": {
        "id": "gRIOv9PtA70U"
      },
      "source": [
        "# **Module conv**\n",
        "\n",
        "> Phép tích chập ảnh với kernel\n",
        "\n",
        ">  Input:\n",
        "*   gray_image: ảnh\n",
        "*   kernel: ma trận\n",
        "\n",
        ">  Output:\n",
        "*   transformed: Ảnh đã qua phép biến đổi tích chập với kernel\n",
        "\n"
      ]
    },
    {
      "cell_type": "code",
      "execution_count": 84,
      "metadata": {
        "id": "k-jnxGL7OtVM"
      },
      "outputs": [],
      "source": [
        "def conv(grey_img, kernel):\n",
        "    transformed = np.copy(grey_img)\n",
        "    m = transformed.shape[0]\n",
        "    n = transformed.shape[1]\n",
        "\n",
        "\n",
        "    for i in range(1, m - 1):\n",
        "        for j in range(1, n - 1):\n",
        "            center_pixel = [i, j]\n",
        "            center_filter = [1, 1]\n",
        "            xRows = [0, 0, 1, -1, 1, -1, 1, -1, 0]\n",
        "            yCols = [-1, 1, 0, 0, -1, -1, 1, 1, 0]\n",
        "            #print(i, j)\n",
        "            new_val = 0.0\n",
        "\n",
        "            for k in range(9): # đủ 9 cells\n",
        "                item = [xRows[k], yCols[k]]\n",
        "                pixel_in_image_x = center_pixel[0] + item[0]\n",
        "                pixel_in_image_y = center_pixel[1] + item[1]\n",
        "                pixel_in_filter_x = center_filter[0] + item[0]\n",
        "                pixel_in_filter_y = center_filter[1] + item[1]\n",
        "                new_val = new_val + (grey_img[pixel_in_image_x, pixel_in_image_y] * kernel[pixel_in_filter_x][pixel_in_filter_y])\n",
        "            if new_val < 0:\n",
        "                new_val = 0\n",
        "            if new_val > 255:\n",
        "                new_val = 255\n",
        "\n",
        "            transformed[i, j] = new_val * 1\n",
        "    return transformed"
      ]
    },
    {
      "cell_type": "markdown",
      "metadata": {
        "id": "fIpGK2OdBhdp"
      },
      "source": [
        "# **Danh sách các bộ lọc**"
      ]
    },
    {
      "cell_type": "code",
      "execution_count": 85,
      "metadata": {
        "id": "obfOyP746u9H"
      },
      "outputs": [],
      "source": [
        "filter = [\"21\", \"22\", \"23\", \"24\", \"25\", \"26\", \"27\", \"28\", \"29\"]\n",
        "\n",
        "fil_dict_2 =[\n",
        "    {\n",
        "    'filter_name' : '21' ,\n",
        "     'A' : [[0.0, 0.0, 0.0], [0.0, 0.0, 0.0], [0.0, 0.0, 0.0]],\n",
        "     'B' : [[0.0, 0.0, 0.0], [0.0, 0.0, 0.0], [0.0, 0.0, 0.0]],\n",
        "\n",
        "    },\n",
        "    {\n",
        "      'para_name' : '22' ,\n",
        "     'A' : [[0.0, 0.0, 0.0], [0.0, 0.0, 0.0], [0.0, 0.0, 0.0]],\n",
        "     'B' : [[0.0, 0.0, 0.0], [0.0, 0.0, 0.0], [0.0, 0.0, 0.0]],\n",
        "\n",
        "    },\n",
        "    {\n",
        "     'para_name' : '23' ,\n",
        "     'A' : [[0.0, 0.0, 0.0], [0.0, 0.0, 0.0], [0.0, 0.0, 0.0]],\n",
        "     'B' : [[0.0, 0.0, 0.0], [0.0, 0.0, 0.0], [0.0, 0.0, 0.0]],\n",
        "\n",
        "    },\n",
        "    {\n",
        "     'para_name' : '24' ,\n",
        "     'A' : [[0.0, 0.0, 0.0], [0.0, 0.0, 0.0], [0.0, 0.0, 0.0]],\n",
        "     'B' : [[0.0, 0.0, 0.0], [0.0, 0.0, 0.0], [0.0, 0.0, 0.0]],\n",
        "\n",
        "    },\n",
        "    {\n",
        "     'para_name' : '25' ,\n",
        "     'A' : [[0.0, 0.0, 0.0], [0.0, 0.0, 0.0], [0.0, 0.0, 0.0]],\n",
        "     'B' : [[0.0, 0.0, 0.0], [0.0, 0.0, 0.0], [0.0, 0.0, 0.0]],\n",
        "\n",
        "    },\n",
        "    {\n",
        "     'para_name' : '26' ,\n",
        "     'A' : [[0.0, 0.0, 0.0], [0.0, 0.0, 0.0], [0.0, 0.0, 0.0]],\n",
        "     'B' : [[0.0, 0.0, 0.0], [0.0, 0.0, 0.0], [0.0, 0.0, 0.0]],\n",
        "\n",
        "    },\n",
        "    {\n",
        "     'para_name' : '27' ,\n",
        "     'A' : [[0.0, 0.0, 0.0], [0.0, 0.0, 0.0], [0.0, 0.0, 0.0]],\n",
        "     'B' : [[0.0, 0.0, 0.0], [0.0, 0.0, 0.0], [0.0, 0.0, 0.0]],\n",
        "\n",
        "    },\n",
        "    {\n",
        "     'para_name' : '28' ,\n",
        "     'A' : [[0.0, 0.0, 0.0], [0.0, 0.0, 0.0], [0.0, 0.0, 0.0]],\n",
        "     'B' : [[0.0, 0.0, 0.0], [0.0, 0.0, 0.0], [0.0, 0.0, 0.0]],\n",
        "\n",
        "    },\n",
        "    {\n",
        "     'para_name' : '29' ,\n",
        "     'A' : [[0.0, 0.0, 0.0], [0.0, 0.0, 0.0], [0.0, 0.0, 0.0]],\n",
        "     'B' : [[0.0, 0.0, 0.0], [0.0, 0.0, 0.0], [0.0, 0.0, 0.0]],\n",
        "\n",
        "    }\n",
        "]\n",
        "para_dict =[\n",
        "    {\n",
        "    'para_name' : 'edgeDetection' ,\n",
        "     'A' : [[0.0, 0.0, 0.0], [0.0, 1.0, 0.0], [0.0, 0.0, 0.0]],\n",
        "     'B' : [[-1.0, -1.0, -1.0], [-1.0, 8.0, -1.0], [-1.0, -1.0, -1.0]],\n",
        "     'ib': -1.0,\n",
        "     't' : np.linspace(0, 10.0, num=2)\n",
        "    }\n",
        "]\n"
      ]
    },
    {
      "cell_type": "markdown",
      "metadata": {
        "id": "-VUp99tX6ztc"
      },
      "source": [
        "# **Module squ_cell**\n",
        "\n",
        "> Input:\n",
        "\n",
        "*   row, col: vị trí hàng và cột của cell\n",
        "*   grey_img: Ảnh đầu vào\n",
        "*   kernel_lst: danh sách bộ lọc\n",
        "*   temp: ma trận hệ số\n",
        "\n",
        "> Output:\n",
        "\n",
        "*   new_val: giá trị tích chập bậc 2 của cell với các bộ lọc\n",
        "\n",
        "\n",
        "\n",
        "\n"
      ]
    },
    {
      "cell_type": "code",
      "execution_count": 86,
      "metadata": {
        "id": "DiVmY2pYY4jB"
      },
      "outputs": [],
      "source": [
        "def squ_cell(row, col, grey_img, kernel_lst, temp):\n",
        "    out_Cell3x3 = np.ones([3,3], dtype='int64')\n",
        "    List_out_cell = []\n",
        "    transformed = np.copy(grey_img)\n",
        "    m = transformed.shape[0]\n",
        "    n = transformed.shape[1]\n",
        "    new_val = 0\n",
        "\n",
        "    center_filter = [1, 1]\n",
        "    xRows = [-1, -1, -1, 0, 0, 0, 1, 1, 1] # thứ tự theo mới A, B\n",
        "    yCols = [-1, 0, 1, -1, 0, 1, -1, 0, 1]\n",
        "\n",
        "    out_kernel = getKernel(row, col, grey_img)\n",
        "\n",
        "    for k in range(9): # Ma trận Uij*kernel => 3x3\n",
        "\n",
        "         pixel_in_filter_x = center_filter[0] + xRows[k]\n",
        "         pixel_in_filter_y = center_filter[1] + yCols[k]\n",
        "         List_out_cell.append(out_kernel*grey_img[pixel_in_filter_x, pixel_in_filter_y])\n",
        "\n",
        "    # Tích chập Ma trận với B\n",
        "    for k in range(9):\n",
        "        img = List_out_cell[k]\n",
        "        kernel = kernel_lst[k][temp]\n",
        "        new_val = new_val + conv3x3(img, kernel)\n",
        "\n",
        "    return new_val\n"
      ]
    },
    {
      "cell_type": "markdown",
      "metadata": {
        "id": "YvYO0AdJ5wOX"
      },
      "source": [
        "# **Module squ_img**\n",
        "\n",
        "> Input:\n",
        "\n",
        "*   grey_img: Ảnh\n",
        "*   fil_dict\n",
        "*   temp\n",
        "\n",
        "> Output:\n",
        "\n",
        "*  transformed: Ảnh đã chuyển đổi\n",
        "\n",
        "\n",
        "\n",
        "\n",
        "\n",
        "\n",
        "\n",
        "\n"
      ]
    },
    {
      "cell_type": "code",
      "execution_count": 87,
      "metadata": {
        "id": "gg5zEUM4kBed"
      },
      "outputs": [],
      "source": [
        "def squ_img(grey_img, fil_dict, temp):\n",
        "    transformed = np.copy(grey_img)\n",
        "    m = transformed.shape[0]\n",
        "    n = transformed.shape[1]\n",
        "\n",
        "    for i in range(m):\n",
        "        for j in range(n):\n",
        "          transformed[i, j] = squ_cell(i, j, grey_img, fil_dict, temp )\n",
        "\n",
        "    return transformed\n"
      ]
    },
    {
      "cell_type": "markdown",
      "metadata": {
        "id": "PFDur6TmuTTI"
      },
      "source": [
        "# **class PyCNN**\n",
        "\n",
        "> Xử lý ảnh với Mạng nơ ron tế bào.(CNN).\n",
        "\n",
        "Các thuộc tính\n",
        "\n",
        "*  n (int): Chiều cao của ảnh.\n",
        "*  m (int): Chiều rộng của ảnh.\n",
        "\n"
      ]
    },
    {
      "cell_type": "code",
      "execution_count": 88,
      "metadata": {
        "id": "MFLi65beETxt"
      },
      "outputs": [],
      "source": [
        "SUPPORTED_FILETYPES = (\n",
        "    'jpeg', 'jpg', 'png', 'tiff', 'gif', 'bmp',\n",
        ")\n",
        "\n",
        "warnings.filterwarnings('ignore')  # Ignore trivial warnings\n",
        "class PyCNN(object):\n",
        "\n",
        "\n",
        "    def __init__(self):\n",
        "        \"\"\"Sets the initial class attributes m (width) and n (height).\"\"\"\n",
        "        self.m = 0  # width (number of columns)\n",
        "        self.n = 0  # height (number of rows)\n",
        "        self.img_out = [0]\n",
        "\n",
        "    def f(self, t, x, Ib, Bu, Bu2, tempA):\n",
        "\n",
        "        x = x.reshape((self.n, self.m))\n",
        "        dx = -x + Ib + Bu + Bu2 + sig.convolve2d(self.cnn(x), tempA, 'same') + squ_img(self.cnn(x), fil_dict_2, 'A')\n",
        "\n",
        "\n",
        "        return dx.reshape(self.m * self.n)\n",
        "\n",
        "    def cnn(self, x):\n",
        "\n",
        "        return 0.5 * (abs(x + 1) - abs(x - 1))\n",
        "\n",
        "    def validate(self, inputLocation):\n",
        "\n",
        "        _, ext = os.path.splitext(inputLocation)\n",
        "        ext = ext.lstrip('.').lower()\n",
        "        if not os.path.exists(inputLocation):\n",
        "            raise IOError('File {} does not exist.'.format(inputLocation))\n",
        "        elif not os.path.isfile(inputLocation):\n",
        "            raise IOError('Path {} is not a file.'.format(inputLocation))\n",
        "        elif ext not in SUPPORTED_FILETYPES:\n",
        "            raise Exception(\n",
        "                '{} file type is not supported. Supported: {}'.format(\n",
        "                    ext, ', '.join(SUPPORTED_FILETYPES)\n",
        "                )\n",
        "            )\n",
        "\n",
        "    # tempA: feedback template, tempB: control template\n",
        "    def imageProcessing(self, input_img, outputLocation,\n",
        "                        tempA, tempB, initialCondition, Ib, t):\n",
        "\n",
        "        gray =  input_img.convert('RGB')\n",
        "        self.m, self.n = gray.size\n",
        "        u = np.array(gray)\n",
        "        u = u[:, :, 0]\n",
        "        z0 = u * initialCondition\n",
        "        Bu2 = squ_img(u, fil_dict_2, 'B' )\n",
        "        Bu = sig.convolve2d(u, tempB, 'same')\n",
        "\n",
        "        z0 = z0.flatten()\n",
        "        tFinal = t.max()\n",
        "        tInitial = t.min()\n",
        "        if t.size > 1:\n",
        "            dt = t[1] - t[0]\n",
        "        else:\n",
        "            dt = t[0]\n",
        "        ode = sint.ode(self.f) \\\n",
        "            .set_integrator('vode') \\\n",
        "            .set_initial_value(z0, tInitial) \\\n",
        "            .set_f_params(Ib, Bu, Bu2, tempA)\n",
        "        while ode.successful() and ode.t < tFinal + 0.1:\n",
        "            ode_result = ode.integrate(ode.t + dt)\n",
        "        z = self.cnn(ode_result)\n",
        "\n",
        "        self.img_out = z  # Thanh test\n",
        "        out_l = z[:].reshape((self.n, self.m))\n",
        "        out_l = out_l / (255.0)\n",
        "        out_l = np.uint8(np.round(out_l * 255))\n",
        "\n",
        "        out_l = img.fromarray(out_l).convert('RGB')\n",
        "  # Lưu kết quả đầu ra\n",
        "  #      out_l.save(outputLocation)\n",
        "\n",
        "    # general image processing for given templates\n",
        "    def generalTemplates(self,\n",
        "                        input_img,\n",
        "                         name='Image processing',\n",
        "                        # inputLocation='',\n",
        "\n",
        "                         outputLocation='output.png',\n",
        "                         tempA_A=[[0.0, 0.0, 0.0],\n",
        "                                  [0.0, 0.0, 0.0],\n",
        "                                  [0.0, 0.0, 0.0]],\n",
        "                         tempB_B=[[0.0, 0.0, 0.0],\n",
        "                                  [0.0, 0.0, 0.0],\n",
        "                                  [0.0, 0.0, 0.0]],\n",
        "                         initialCondition=0.0,\n",
        "                         Ib_b=0.0,\n",
        "                         t=np.linspace(0, 10.0, num=2)):\n",
        "\n",
        "     #    self.validate(inputLocation)\n",
        "     #   print(name, 'initialized.')\n",
        "        self.imageProcessing(input_img,\n",
        "                             outputLocation,\n",
        "                             np.array(tempA_A),\n",
        "                             np.array(tempB_B),\n",
        "                             initialCondition,\n",
        "                             Ib_b,\n",
        "                             t)\n",
        "        print('Processing on image %s is complete' % (inputLocation))\n",
        "        print('Result is saved at %s.\\n' % (outputLocation))\n"
      ]
    },
    {
      "cell_type": "markdown",
      "metadata": {
        "id": "bOuoRnyAqtfn"
      },
      "source": [
        "# **Module Image_proc**\n",
        "\n",
        "\n",
        "> Input:\n",
        "\n",
        "*   name: tên của ảnh mẫu\n",
        "*   outlocation: đường dẫn lưu kết quả\n",
        "\n",
        "> Output:\n",
        "\n",
        "*   out_l: ảnh đã xử lý\n",
        "\n",
        "\n"
      ]
    },
    {
      "cell_type": "code",
      "execution_count": 89,
      "metadata": {
        "id": "9yVHSdu297Hu"
      },
      "outputs": [],
      "source": [
        "def Image_proc(input_img,\n",
        "               name='Image processing',\n",
        "               #inputLocation='',\n",
        "\n",
        "              outputLocation='output.png' ):\n",
        "  cnn = PyCNN()\n",
        "#  cnn.validate(inputLocation)\n",
        "\n",
        "  tempA = para_dict[0]['A']\n",
        "  tempB = para_dict[0]['B']\n",
        "  Ib = para_dict[0]['ib']\n",
        "  t = para_dict[0]['t']\n",
        "\n",
        "\n",
        "  initialCondition = 0.0\n",
        "  cnn.generalTemplates(\n",
        "            input_img,\n",
        "            name,\n",
        "           # inputLocation,\n",
        "            outputLocation,\n",
        "            tempA,\n",
        "            tempB,\n",
        "            initialCondition,\n",
        "            Ib,\n",
        "            t)\n",
        "  out_img = cnn.img_out\n",
        "  out_l = out_img[:].reshape((cnn.n, cnn.m))\n",
        "  out_l = out_l / (255.0)\n",
        "  out_l = np.uint8(np.round(out_l * 255))\n",
        "  #print(out_l)\n",
        "  out_l = img.fromarray(out_l).convert('RGB')\n",
        "  return out_l"
      ]
    },
    {
      "cell_type": "markdown",
      "metadata": {
        "id": "qqIoaodzruWT"
      },
      "source": [
        "**Chạy thử:**\n",
        "\n",
        "\n",
        ">\n",
        "\n",
        "*   proc-name: tên của ảnh mẫu\n",
        "*   inputlocation: đường dẫn vị trí của ảnh mẫu\n",
        "*   outlocation: đường dẫn vị trí lưu kết quả\n",
        "*   Mục danh sách\n",
        "\n",
        "\n",
        "\n",
        "\n",
        "\n",
        "\n"
      ]
    },
    {
      "cell_type": "code",
      "execution_count": 90,
      "metadata": {
        "colab": {
          "base_uri": "https://localhost:8080/",
          "height": 1347
        },
        "id": "Xb07MSxa-fjE",
        "outputId": "30e9fdb5-3c6a-4a25-a916-67f46dc53207"
      },
      "outputs": [
        {
          "name": "stdout",
          "output_type": "stream",
          "text": [
            "(153, 161)\n"
          ]
        },
        {
          "data": {
            "image/png": "[encoded data removed]",
            "text/plain": [
              "<Figure size 640x480 with 1 Axes>"
            ]
          },
          "metadata": {},
          "output_type": "display_data"
        },
        {
          "name": "stdout",
          "output_type": "stream",
          "text": [
            "<PIL.Image.Image image mode=RGB size=32x32 at 0x7FB4183761D0>\n"
          ]
        },
        {
          "data": {
            "image/png": "[encoded data removed]",
            "text/plain": [
              "<Figure size 640x480 with 1 Axes>"
            ]
          },
          "metadata": {},
          "output_type": "display_data"
        },
        {
          "name": "stdout",
          "output_type": "stream",
          "text": [
            "Processing on image images/8x8.png is complete\n",
            "Result is saved at images/output1.png.\n",
            "\n"
          ]
        },
        {
          "data": {
            "image/png": "[encoded data removed]",
            "text/plain": [
              "<Figure size 640x480 with 1 Axes>"
            ]
          },
          "metadata": {},
          "output_type": "display_data"
        }
      ],
      "source": [
        "\n",
        "proc_name='optimalEdgeDetection'\n",
        "\n",
        "inputLocation = 'images/8x8.png'\n",
        "outputLocation = 'images/output1.png'\n",
        "\n",
        "gray = img.open(inputLocation).convert('RGB')\n",
        "print(gray.size)\n",
        "plt.imshow(gray)\n",
        "plt.show()\n",
        "\n",
        "#Image resize\n",
        "image_resize = gray.resize((32, 32), resample=0)\n",
        "print(image_resize)\n",
        "plt.imshow(image_resize)\n",
        "plt.show()\n",
        "\n",
        "out_img = Image_proc(image_resize, proc_name, outputLocation)\n",
        "\n",
        "plt.imshow(out_img)\n",
        "plt.show()"
      ]
    }
  ],
  "metadata": {
    "accelerator": "GPU",
    "colab": {
      "gpuType": "T4",
      "provenance": []
    },
    "kernelspec": {
      "display_name": "Python 3",
      "name": "python3"
    },
    "language_info": {
      "codemirror_mode": {
        "name": "ipython",
        "version": 3
      },
      "file_extension": ".py",
      "mimetype": "text/x-python",
      "name": "python",
      "nbconvert_exporter": "python",
      "pygments_lexer": "ipython3",
      "version": "3.9.12"
    }
  },
  "nbformat": 4,
  "nbformat_minor": 0
}
